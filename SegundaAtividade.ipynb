{
 "cells": [
  {
   "cell_type": "markdown",
   "id": "ff6662db-630a-4d6f-ba09-819438a294bb",
   "metadata": {
    "jp-MarkdownHeadingCollapsed": true
   },
   "source": [
    "# Importando os dados"
   ]
  },
  {
   "cell_type": "code",
   "execution_count": 1,
   "id": "018a661a-d637-40df-be1b-c2857318369e",
   "metadata": {},
   "outputs": [
    {
     "name": "stdout",
     "output_type": "stream",
     "text": [
      "Requirement already satisfied: pandas in ./venv/lib/python3.12/site-packages (2.2.2)\n",
      "Requirement already satisfied: numpy>=1.26.0 in ./venv/lib/python3.12/site-packages (from pandas) (1.26.4)\n",
      "Requirement already satisfied: python-dateutil>=2.8.2 in ./venv/lib/python3.12/site-packages (from pandas) (2.9.0.post0)\n",
      "Requirement already satisfied: pytz>=2020.1 in ./venv/lib/python3.12/site-packages (from pandas) (2024.1)\n",
      "Requirement already satisfied: tzdata>=2022.7 in ./venv/lib/python3.12/site-packages (from pandas) (2024.1)\n",
      "Requirement already satisfied: six>=1.5 in ./venv/lib/python3.12/site-packages (from python-dateutil>=2.8.2->pandas) (1.16.0)\n",
      "Requirement already satisfied: nltk in ./venv/lib/python3.12/site-packages (3.9.1)\n",
      "Requirement already satisfied: click in ./venv/lib/python3.12/site-packages (from nltk) (8.1.7)\n",
      "Requirement already satisfied: joblib in ./venv/lib/python3.12/site-packages (from nltk) (1.4.2)\n",
      "Requirement already satisfied: regex>=2021.8.3 in ./venv/lib/python3.12/site-packages (from nltk) (2024.7.24)\n",
      "Requirement already satisfied: tqdm in ./venv/lib/python3.12/site-packages (from nltk) (4.66.5)\n",
      "Requirement already satisfied: seaborn in ./venv/lib/python3.12/site-packages (0.13.2)\n",
      "Requirement already satisfied: numpy!=1.24.0,>=1.20 in ./venv/lib/python3.12/site-packages (from seaborn) (1.26.4)\n",
      "Requirement already satisfied: pandas>=1.2 in ./venv/lib/python3.12/site-packages (from seaborn) (2.2.2)\n",
      "Requirement already satisfied: matplotlib!=3.6.1,>=3.4 in ./venv/lib/python3.12/site-packages (from seaborn) (3.9.2)\n",
      "Requirement already satisfied: contourpy>=1.0.1 in ./venv/lib/python3.12/site-packages (from matplotlib!=3.6.1,>=3.4->seaborn) (1.2.1)\n",
      "Requirement already satisfied: cycler>=0.10 in ./venv/lib/python3.12/site-packages (from matplotlib!=3.6.1,>=3.4->seaborn) (0.12.1)\n",
      "Requirement already satisfied: fonttools>=4.22.0 in ./venv/lib/python3.12/site-packages (from matplotlib!=3.6.1,>=3.4->seaborn) (4.53.1)\n",
      "Requirement already satisfied: kiwisolver>=1.3.1 in ./venv/lib/python3.12/site-packages (from matplotlib!=3.6.1,>=3.4->seaborn) (1.4.5)\n",
      "Requirement already satisfied: packaging>=20.0 in ./venv/lib/python3.12/site-packages (from matplotlib!=3.6.1,>=3.4->seaborn) (24.1)\n",
      "Requirement already satisfied: pillow>=8 in ./venv/lib/python3.12/site-packages (from matplotlib!=3.6.1,>=3.4->seaborn) (10.4.0)\n",
      "Requirement already satisfied: pyparsing>=2.3.1 in ./venv/lib/python3.12/site-packages (from matplotlib!=3.6.1,>=3.4->seaborn) (3.1.2)\n",
      "Requirement already satisfied: python-dateutil>=2.7 in ./venv/lib/python3.12/site-packages (from matplotlib!=3.6.1,>=3.4->seaborn) (2.9.0.post0)\n",
      "Requirement already satisfied: pytz>=2020.1 in ./venv/lib/python3.12/site-packages (from pandas>=1.2->seaborn) (2024.1)\n",
      "Requirement already satisfied: tzdata>=2022.7 in ./venv/lib/python3.12/site-packages (from pandas>=1.2->seaborn) (2024.1)\n",
      "Requirement already satisfied: six>=1.5 in ./venv/lib/python3.12/site-packages (from python-dateutil>=2.7->matplotlib!=3.6.1,>=3.4->seaborn) (1.16.0)\n",
      "Requirement already satisfied: joblib in ./venv/lib/python3.12/site-packages (1.4.2)\n",
      "Requirement already satisfied: umap-learn in ./venv/lib/python3.12/site-packages (0.5.6)\n",
      "Requirement already satisfied: numpy>=1.17 in ./venv/lib/python3.12/site-packages (from umap-learn) (1.26.4)\n",
      "Requirement already satisfied: scipy>=1.3.1 in ./venv/lib/python3.12/site-packages (from umap-learn) (1.13.1)\n",
      "Requirement already satisfied: scikit-learn>=0.22 in ./venv/lib/python3.12/site-packages (from umap-learn) (1.5.1)\n",
      "Requirement already satisfied: numba>=0.51.2 in ./venv/lib/python3.12/site-packages (from umap-learn) (0.60.0)\n",
      "Requirement already satisfied: pynndescent>=0.5 in ./venv/lib/python3.12/site-packages (from umap-learn) (0.5.13)\n",
      "Requirement already satisfied: tqdm in ./venv/lib/python3.12/site-packages (from umap-learn) (4.66.5)\n",
      "Requirement already satisfied: llvmlite<0.44,>=0.43.0dev0 in ./venv/lib/python3.12/site-packages (from numba>=0.51.2->umap-learn) (0.43.0)\n",
      "Requirement already satisfied: joblib>=0.11 in ./venv/lib/python3.12/site-packages (from pynndescent>=0.5->umap-learn) (1.4.2)\n",
      "Requirement already satisfied: threadpoolctl>=3.1.0 in ./venv/lib/python3.12/site-packages (from scikit-learn>=0.22->umap-learn) (3.5.0)\n"
     ]
    }
   ],
   "source": [
    "!pip install pandas\n",
    "!pip install nltk\n",
    "!pip install seaborn\n",
    "!pip install joblib\n",
    "!pip install umap-learn"
   ]
  },
  {
   "cell_type": "code",
   "execution_count": 2,
   "id": "e3e11fb4-6a5e-4082-b550-6efe0326219d",
   "metadata": {},
   "outputs": [],
   "source": [
    "import pandas as pd\n",
    "\n",
    "text_content = pd.read_csv(\"./Data/text_content.csv\")\n",
    "steam_data = pd.read_csv(\"./Data/steam_data.csv\")"
   ]
  },
  {
   "cell_type": "markdown",
   "id": "d7a3880f-b274-4de1-a697-d1824fd81d0a",
   "metadata": {},
   "source": [
    "### Visualisando a tabela \"text_content\""
   ]
  },
  {
   "cell_type": "code",
   "execution_count": 3,
   "id": "c4f015a7-5392-4ca5-8bc8-d8aaa1914e55",
   "metadata": {},
   "outputs": [
    {
     "data": {
      "text/html": [
       "<div>\n",
       "<style scoped>\n",
       "    .dataframe tbody tr th:only-of-type {\n",
       "        vertical-align: middle;\n",
       "    }\n",
       "\n",
       "    .dataframe tbody tr th {\n",
       "        vertical-align: top;\n",
       "    }\n",
       "\n",
       "    .dataframe thead th {\n",
       "        text-align: right;\n",
       "    }\n",
       "</style>\n",
       "<table border=\"1\" class=\"dataframe\">\n",
       "  <thead>\n",
       "    <tr style=\"text-align: right;\">\n",
       "      <th></th>\n",
       "      <th>url</th>\n",
       "      <th>desc</th>\n",
       "      <th>full_desc</th>\n",
       "      <th>requirements</th>\n",
       "      <th>popu_tags</th>\n",
       "    </tr>\n",
       "  </thead>\n",
       "  <tbody>\n",
       "    <tr>\n",
       "      <th>0</th>\n",
       "      <td>https://store.steampowered.com/app/945360/Amon...</td>\n",
       "      <td>An online and local party game of teamwork and...</td>\n",
       "      <td>About This GamePlay with 4-10 player online or...</td>\n",
       "      <td>System RequirementsMinimum:OS: Windows 7 SP1+P...</td>\n",
       "      <td>MultiplayerOnline Co-OpSpaceSocial DeductionSu...</td>\n",
       "    </tr>\n",
       "    <tr>\n",
       "      <th>1</th>\n",
       "      <td>https://store.steampowered.com/app/730/Counter...</td>\n",
       "      <td>Counter-Strike: Global Offensive (CS: GO) expa...</td>\n",
       "      <td>About This GameCounter-Strike: Global Offensiv...</td>\n",
       "      <td>System RequirementsWindowsMac OS XSteamOS + Li...</td>\n",
       "      <td>FPSShooterMultiplayerCompetitiveActionTeam-Bas...</td>\n",
       "    </tr>\n",
       "    <tr>\n",
       "      <th>2</th>\n",
       "      <td>https://store.steampowered.com/app/1097150/Fal...</td>\n",
       "      <td>Fall Guys is a massively multiplayer party gam...</td>\n",
       "      <td>About This GameFall Guys: Ultimate Knockout fl...</td>\n",
       "      <td>System RequirementsMinimum:Requires a 64-bit p...</td>\n",
       "      <td>MultiplayerFunnyBattle RoyaleOnline Co-OpFamil...</td>\n",
       "    </tr>\n",
       "    <tr>\n",
       "      <th>3</th>\n",
       "      <td>https://store.steampowered.com/app/1158310/Cru...</td>\n",
       "      <td>Paradox Development Studio brings you the sequ...</td>\n",
       "      <td>About This GameParadox Development Studio brin...</td>\n",
       "      <td>System RequirementsWindowsMac OS XSteamOS + Li...</td>\n",
       "      <td>StrategyRPGSimulationMedievalGrand StrategyHis...</td>\n",
       "    </tr>\n",
       "    <tr>\n",
       "      <th>4</th>\n",
       "      <td>https://store.steampowered.com/app/1085660/Des...</td>\n",
       "      <td>Destiny 2 is an action MMO with a single evolv...</td>\n",
       "      <td>About This GameDive into the world of Destiny ...</td>\n",
       "      <td>System RequirementsMinimum:Requires a 64-bit p...</td>\n",
       "      <td>Free to PlayLooter ShooterMultiplayerFPSAction...</td>\n",
       "    </tr>\n",
       "  </tbody>\n",
       "</table>\n",
       "</div>"
      ],
      "text/plain": [
       "                                                 url  \\\n",
       "0  https://store.steampowered.com/app/945360/Amon...   \n",
       "1  https://store.steampowered.com/app/730/Counter...   \n",
       "2  https://store.steampowered.com/app/1097150/Fal...   \n",
       "3  https://store.steampowered.com/app/1158310/Cru...   \n",
       "4  https://store.steampowered.com/app/1085660/Des...   \n",
       "\n",
       "                                                desc  \\\n",
       "0  An online and local party game of teamwork and...   \n",
       "1  Counter-Strike: Global Offensive (CS: GO) expa...   \n",
       "2  Fall Guys is a massively multiplayer party gam...   \n",
       "3  Paradox Development Studio brings you the sequ...   \n",
       "4  Destiny 2 is an action MMO with a single evolv...   \n",
       "\n",
       "                                           full_desc  \\\n",
       "0  About This GamePlay with 4-10 player online or...   \n",
       "1  About This GameCounter-Strike: Global Offensiv...   \n",
       "2  About This GameFall Guys: Ultimate Knockout fl...   \n",
       "3  About This GameParadox Development Studio brin...   \n",
       "4  About This GameDive into the world of Destiny ...   \n",
       "\n",
       "                                        requirements  \\\n",
       "0  System RequirementsMinimum:OS: Windows 7 SP1+P...   \n",
       "1  System RequirementsWindowsMac OS XSteamOS + Li...   \n",
       "2  System RequirementsMinimum:Requires a 64-bit p...   \n",
       "3  System RequirementsWindowsMac OS XSteamOS + Li...   \n",
       "4  System RequirementsMinimum:Requires a 64-bit p...   \n",
       "\n",
       "                                           popu_tags  \n",
       "0  MultiplayerOnline Co-OpSpaceSocial DeductionSu...  \n",
       "1  FPSShooterMultiplayerCompetitiveActionTeam-Bas...  \n",
       "2  MultiplayerFunnyBattle RoyaleOnline Co-OpFamil...  \n",
       "3  StrategyRPGSimulationMedievalGrand StrategyHis...  \n",
       "4  Free to PlayLooter ShooterMultiplayerFPSAction...  "
      ]
     },
     "execution_count": 3,
     "metadata": {},
     "output_type": "execute_result"
    }
   ],
   "source": [
    "text_content.head()"
   ]
  },
  {
   "cell_type": "code",
   "execution_count": 4,
   "id": "e9e5851a-01c0-4e5e-96b9-e39aa92b49cd",
   "metadata": {},
   "outputs": [
    {
     "data": {
      "text/plain": [
       "Index(['url', 'desc', 'full_desc', 'requirements', 'popu_tags'], dtype='object')"
      ]
     },
     "execution_count": 4,
     "metadata": {},
     "output_type": "execute_result"
    }
   ],
   "source": [
    "text_content.columns"
   ]
  },
  {
   "cell_type": "markdown",
   "id": "cf675295-77a8-4bd6-ab1a-7ca2e9eb8e90",
   "metadata": {},
   "source": [
    "### Visualisando a tabela \"steam_data\""
   ]
  },
  {
   "cell_type": "code",
   "execution_count": 5,
   "id": "46e8fc24-4964-428a-aeab-54af8734d0c5",
   "metadata": {},
   "outputs": [
    {
     "data": {
      "text/html": [
       "<div>\n",
       "<style scoped>\n",
       "    .dataframe tbody tr th:only-of-type {\n",
       "        vertical-align: middle;\n",
       "    }\n",
       "\n",
       "    .dataframe tbody tr th {\n",
       "        vertical-align: top;\n",
       "    }\n",
       "\n",
       "    .dataframe thead th {\n",
       "        text-align: right;\n",
       "    }\n",
       "</style>\n",
       "<table border=\"1\" class=\"dataframe\">\n",
       "  <thead>\n",
       "    <tr style=\"text-align: right;\">\n",
       "      <th></th>\n",
       "      <th>url</th>\n",
       "      <th>name</th>\n",
       "      <th>categories</th>\n",
       "      <th>img_url</th>\n",
       "      <th>user_reviews</th>\n",
       "      <th>all_reviews</th>\n",
       "      <th>date</th>\n",
       "      <th>developer</th>\n",
       "      <th>publisher</th>\n",
       "      <th>price</th>\n",
       "      <th>pegi</th>\n",
       "      <th>pegi_url</th>\n",
       "    </tr>\n",
       "  </thead>\n",
       "  <tbody>\n",
       "    <tr>\n",
       "      <th>0</th>\n",
       "      <td>https://store.steampowered.com/app/945360/Amon...</td>\n",
       "      <td>Among Us</td>\n",
       "      <td>Online PvPLAN PvPOnline Co-opLAN Co-opCross-Pl...</td>\n",
       "      <td>https://steamcdn-a.akamaihd.net/steam/apps/945...</td>\n",
       "      <td>Overwhelmingly Positive(151,281)- 96% of the 1...</td>\n",
       "      <td>Overwhelmingly Positive(224,878)- 95% of the 2...</td>\n",
       "      <td>Nov 16, 2018</td>\n",
       "      <td>Innersloth</td>\n",
       "      <td>Innersloth</td>\n",
       "      <td>Buy Among Us$4.99Add to Cart</td>\n",
       "      <td>-</td>\n",
       "      <td>-</td>\n",
       "    </tr>\n",
       "    <tr>\n",
       "      <th>1</th>\n",
       "      <td>https://store.steampowered.com/app/730/Counter...</td>\n",
       "      <td>Counter-Strike: Global Offensive</td>\n",
       "      <td>Steam AchievementsFull controller supportSteam...</td>\n",
       "      <td>https://steamcdn-a.akamaihd.net/steam/apps/730...</td>\n",
       "      <td>Very Positive(90,780)- 88% of the 90,780 user ...</td>\n",
       "      <td>Very Positive(4,843,904)- 87% of the 4,843,904...</td>\n",
       "      <td>Aug 21, 2012</td>\n",
       "      <td>Valve, Hidden Path Entertainment</td>\n",
       "      <td>Valve</td>\n",
       "      <td>Play Counter-Strike: Global OffensiveFree to P...</td>\n",
       "      <td>-</td>\n",
       "      <td>-</td>\n",
       "    </tr>\n",
       "    <tr>\n",
       "      <th>2</th>\n",
       "      <td>https://store.steampowered.com/app/1097150/Fal...</td>\n",
       "      <td>Fall Guys: Ultimate Knockout</td>\n",
       "      <td>MMOOnline PvPOnline Co-opSteam AchievementsFul...</td>\n",
       "      <td>https://steamcdn-a.akamaihd.net/steam/apps/109...</td>\n",
       "      <td>Very Positive(32,436)- 84% of the 32,436 user ...</td>\n",
       "      <td>Very Positive(223,706)- 80% of the 223,706 use...</td>\n",
       "      <td>Aug 3, 2020</td>\n",
       "      <td>Mediatonic</td>\n",
       "      <td>Devolver Digital</td>\n",
       "      <td>Buy Fall Guys$19.99Add to Cart</td>\n",
       "      <td>-</td>\n",
       "      <td>-</td>\n",
       "    </tr>\n",
       "    <tr>\n",
       "      <th>3</th>\n",
       "      <td>https://store.steampowered.com/app/1158310/Cru...</td>\n",
       "      <td>Crusader Kings III</td>\n",
       "      <td>Single-playerOnline PvPSteam AchievementsSteam...</td>\n",
       "      <td>https://steamcdn-a.akamaihd.net/steam/apps/115...</td>\n",
       "      <td>Very Positive(5,359)- 91% of the 5,359 user re...</td>\n",
       "      <td>Very Positive(18,951)- 92% of the 18,951 user ...</td>\n",
       "      <td>Sep 1, 2020</td>\n",
       "      <td>Paradox Development Studio</td>\n",
       "      <td>Paradox Interactive</td>\n",
       "      <td>Buy Crusader Kings III$49.99Add to Cart</td>\n",
       "      <td>BloodLanguagePartial NuditySexual ThemesUse of...</td>\n",
       "      <td>https://steamstore-a.akamaihd.net/public/share...</td>\n",
       "    </tr>\n",
       "    <tr>\n",
       "      <th>4</th>\n",
       "      <td>https://store.steampowered.com/app/1085660/Des...</td>\n",
       "      <td>Destiny 2</td>\n",
       "      <td>Single-playerOnline PvPOnline Co-opSteam Achie...</td>\n",
       "      <td>https://steamcdn-a.akamaihd.net/steam/apps/108...</td>\n",
       "      <td>Very Positive(9,147)- 87% of the 9,147 user re...</td>\n",
       "      <td>Very Positive(284,689)- 86% of the 284,689 use...</td>\n",
       "      <td>Oct 1, 2019</td>\n",
       "      <td>Bungie</td>\n",
       "      <td>Bungie</td>\n",
       "      <td>Play Destiny 2Free To PlayPlay Game</td>\n",
       "      <td>Blood Language Violence</td>\n",
       "      <td>https://steamstore-a.akamaihd.net/public/share...</td>\n",
       "    </tr>\n",
       "  </tbody>\n",
       "</table>\n",
       "</div>"
      ],
      "text/plain": [
       "                                                 url  \\\n",
       "0  https://store.steampowered.com/app/945360/Amon...   \n",
       "1  https://store.steampowered.com/app/730/Counter...   \n",
       "2  https://store.steampowered.com/app/1097150/Fal...   \n",
       "3  https://store.steampowered.com/app/1158310/Cru...   \n",
       "4  https://store.steampowered.com/app/1085660/Des...   \n",
       "\n",
       "                               name  \\\n",
       "0                          Among Us   \n",
       "1  Counter-Strike: Global Offensive   \n",
       "2      Fall Guys: Ultimate Knockout   \n",
       "3                Crusader Kings III   \n",
       "4                         Destiny 2   \n",
       "\n",
       "                                          categories  \\\n",
       "0  Online PvPLAN PvPOnline Co-opLAN Co-opCross-Pl...   \n",
       "1  Steam AchievementsFull controller supportSteam...   \n",
       "2  MMOOnline PvPOnline Co-opSteam AchievementsFul...   \n",
       "3  Single-playerOnline PvPSteam AchievementsSteam...   \n",
       "4  Single-playerOnline PvPOnline Co-opSteam Achie...   \n",
       "\n",
       "                                             img_url  \\\n",
       "0  https://steamcdn-a.akamaihd.net/steam/apps/945...   \n",
       "1  https://steamcdn-a.akamaihd.net/steam/apps/730...   \n",
       "2  https://steamcdn-a.akamaihd.net/steam/apps/109...   \n",
       "3  https://steamcdn-a.akamaihd.net/steam/apps/115...   \n",
       "4  https://steamcdn-a.akamaihd.net/steam/apps/108...   \n",
       "\n",
       "                                        user_reviews  \\\n",
       "0  Overwhelmingly Positive(151,281)- 96% of the 1...   \n",
       "1  Very Positive(90,780)- 88% of the 90,780 user ...   \n",
       "2  Very Positive(32,436)- 84% of the 32,436 user ...   \n",
       "3  Very Positive(5,359)- 91% of the 5,359 user re...   \n",
       "4  Very Positive(9,147)- 87% of the 9,147 user re...   \n",
       "\n",
       "                                         all_reviews          date  \\\n",
       "0  Overwhelmingly Positive(224,878)- 95% of the 2...  Nov 16, 2018   \n",
       "1  Very Positive(4,843,904)- 87% of the 4,843,904...  Aug 21, 2012   \n",
       "2  Very Positive(223,706)- 80% of the 223,706 use...   Aug 3, 2020   \n",
       "3  Very Positive(18,951)- 92% of the 18,951 user ...   Sep 1, 2020   \n",
       "4  Very Positive(284,689)- 86% of the 284,689 use...   Oct 1, 2019   \n",
       "\n",
       "                          developer            publisher  \\\n",
       "0                        Innersloth           Innersloth   \n",
       "1  Valve, Hidden Path Entertainment                Valve   \n",
       "2                        Mediatonic     Devolver Digital   \n",
       "3        Paradox Development Studio  Paradox Interactive   \n",
       "4                            Bungie              Bungie    \n",
       "\n",
       "                                               price  \\\n",
       "0                       Buy Among Us$4.99Add to Cart   \n",
       "1  Play Counter-Strike: Global OffensiveFree to P...   \n",
       "2                     Buy Fall Guys$19.99Add to Cart   \n",
       "3            Buy Crusader Kings III$49.99Add to Cart   \n",
       "4                Play Destiny 2Free To PlayPlay Game   \n",
       "\n",
       "                                                pegi  \\\n",
       "0                                                  -   \n",
       "1                                                  -   \n",
       "2                                                  -   \n",
       "3  BloodLanguagePartial NuditySexual ThemesUse of...   \n",
       "4                            Blood Language Violence   \n",
       "\n",
       "                                            pegi_url  \n",
       "0                                                  -  \n",
       "1                                                  -  \n",
       "2                                                  -  \n",
       "3  https://steamstore-a.akamaihd.net/public/share...  \n",
       "4  https://steamstore-a.akamaihd.net/public/share...  "
      ]
     },
     "execution_count": 5,
     "metadata": {},
     "output_type": "execute_result"
    }
   ],
   "source": [
    "steam_data.head()"
   ]
  },
  {
   "cell_type": "code",
   "execution_count": 6,
   "id": "bf606c34-1161-4dd4-82c8-e4a53485e15d",
   "metadata": {},
   "outputs": [
    {
     "data": {
      "text/plain": [
       "Index(['url', 'name', 'categories', 'img_url', 'user_reviews', 'all_reviews',\n",
       "       'date', 'developer', 'publisher', 'price', 'pegi', 'pegi_url'],\n",
       "      dtype='object')"
      ]
     },
     "execution_count": 6,
     "metadata": {},
     "output_type": "execute_result"
    }
   ],
   "source": [
    "steam_data.columns"
   ]
  },
  {
   "cell_type": "markdown",
   "id": "751f69bc-3acb-4f5e-abc4-5117c07f7af4",
   "metadata": {
    "jp-MarkdownHeadingCollapsed": true
   },
   "source": [
    "# Limpando os dados"
   ]
  },
  {
   "cell_type": "markdown",
   "id": "715a4294-3cb7-4fcd-bc55-3742da198dc9",
   "metadata": {},
   "source": [
    "## Contando as linhas com dados faltando"
   ]
  },
  {
   "cell_type": "code",
   "execution_count": 7,
   "id": "d30aa562-752a-4ccd-83d4-454d721eff53",
   "metadata": {},
   "outputs": [
    {
     "data": {
      "text/plain": [
       "62"
      ]
     },
     "execution_count": 7,
     "metadata": {},
     "output_type": "execute_result"
    }
   ],
   "source": [
    "# Quantas entradas possuem dados faltando na tabela text_content\n",
    "\n",
    "text_content.isnull().any(axis=1).sum()"
   ]
  },
  {
   "cell_type": "code",
   "execution_count": 8,
   "id": "6588bf24-7585-4674-8082-712930bc7940",
   "metadata": {},
   "outputs": [
    {
     "data": {
      "text/plain": [
       "4885"
      ]
     },
     "execution_count": 8,
     "metadata": {},
     "output_type": "execute_result"
    }
   ],
   "source": [
    "# Quantas entradas possuem dados faltando na tabela steam_data\n",
    "\n",
    "steam_data.isnull().any(axis=1).sum()"
   ]
  },
  {
   "cell_type": "markdown",
   "id": "8a268013-dc75-4ce4-805e-bcbc94e193c6",
   "metadata": {},
   "source": [
    "### Removendo as linhas com dados faltando"
   ]
  },
  {
   "cell_type": "code",
   "execution_count": 9,
   "id": "615f5202-49d1-4eb1-957d-b24f2b225836",
   "metadata": {},
   "outputs": [],
   "source": [
    "text_content = text_content.dropna()\n",
    "steam_data = steam_data.dropna()"
   ]
  },
  {
   "cell_type": "code",
   "execution_count": 10,
   "id": "7fe08693-fee6-47ec-a24d-0c1aec9143cd",
   "metadata": {},
   "outputs": [
    {
     "name": "stdout",
     "output_type": "stream",
     "text": [
      "Dados faltando na tabela text_content: 0\n",
      "Dados faltando na tabela steam_data: 0\n"
     ]
    }
   ],
   "source": [
    "# Calculando novamente as linhas que possuem dados faltando\n",
    "\n",
    "text_content_nan_values = text_content.isnull().any(axis=1).sum()\n",
    "steam_data_nan_values = steam_data.isnull().any(axis=1).sum()\n",
    "\n",
    "print(\"Dados faltando na tabela text_content: {}\".format(text_content_nan_values))\n",
    "print(\"Dados faltando na tabela steam_data: {}\".format(steam_data_nan_values))"
   ]
  },
  {
   "cell_type": "markdown",
   "id": "d2519704-30af-45a0-8911-5688bcf42332",
   "metadata": {},
   "source": [
    "## Removendo os dados repetidos"
   ]
  },
  {
   "cell_type": "markdown",
   "id": "dd98d2f9-54f1-4c62-80f7-2086043d8f96",
   "metadata": {},
   "source": [
    "### Contando os dados repetidos utilizando a coluna \"url\""
   ]
  },
  {
   "cell_type": "code",
   "execution_count": 11,
   "id": "0c55e111-c478-4ba8-b50c-dac4b3e7259c",
   "metadata": {},
   "outputs": [],
   "source": [
    "# Vamos utilizar a coluna \"url\" para encontrar as entradas duplicadas\n",
    "# Essa coluna também será importante para relacionar os dados entre as duas tabelas\n",
    "\n",
    "# Encontrando as entradas duplicadas na tabela \"text_content\"\n",
    "text_content_url = text_content[\"url\"]\n",
    "text_content_count = text_content_url.value_counts()\n",
    "text_content_duplicated_entries = text_content_count[text_content_count > 1]\n",
    "\n",
    "# Encontrando as entradas duplicadas na tabela \"steam_data\"\n",
    "steam_data_url = steam_data[\"url\"]\n",
    "steam_data_count = steam_data_url.value_counts()\n",
    "steam_data_duplicated_entries = steam_data_count[steam_data_count > 1]"
   ]
  },
  {
   "cell_type": "code",
   "execution_count": 12,
   "id": "8618e3a8-f159-49fe-9250-4cbbcfc7130e",
   "metadata": {},
   "outputs": [
    {
     "name": "stdout",
     "output_type": "stream",
     "text": [
      "Quantidade de entradas duplicadas na tabela text_content utilizando a coluna url: 130\n",
      "Quantidade de entradas duplicadas na tabela steam_data utilizando a coluna url: 124\n"
     ]
    }
   ],
   "source": [
    "print(\"Quantidade de entradas duplicadas na tabela text_content utilizando a coluna url: {}\".format(len(text_content_duplicated_entries)))\n",
    "print(\"Quantidade de entradas duplicadas na tabela steam_data utilizando a coluna url: {}\".format(len(steam_data_duplicated_entries)))"
   ]
  },
  {
   "cell_type": "markdown",
   "id": "dd2d128f-e255-4ad1-a3ff-8f72ad30b031",
   "metadata": {},
   "source": [
    "### Removendo os dados repetidos"
   ]
  },
  {
   "cell_type": "code",
   "execution_count": 13,
   "id": "a645bc33-4c65-45e7-826b-b8ae73eceb13",
   "metadata": {},
   "outputs": [],
   "source": [
    "# Removendo os dados repetidos das tabelas text_content e steam_data\n",
    "\n",
    "text_content = text_content.drop_duplicates(subset=['url'], keep='last')\n",
    "steam_data = steam_data.drop_duplicates(subset=['url'], keep='last')"
   ]
  },
  {
   "cell_type": "code",
   "execution_count": 14,
   "id": "90de478f-0197-4cb0-a28a-a407c466b661",
   "metadata": {},
   "outputs": [
    {
     "name": "stdout",
     "output_type": "stream",
     "text": [
      "Quantidade de entradas duplicadas na tabela text_content: 0\n",
      "Quantidade de entradas duplicadas na tabela steam_data: 0\n"
     ]
    }
   ],
   "source": [
    "# Verificando se os dados foram realmente removidos\n",
    "\n",
    "text_content_url = text_content[\"url\"]\n",
    "text_content_count = text_content_url.value_counts()\n",
    "text_content_duplicated_entries = text_content_count[text_content_count > 1]\n",
    "\n",
    "steam_data_url = steam_data[\"url\"]\n",
    "steam_data_count = steam_data_url.value_counts()\n",
    "steam_data_duplicated_entries = steam_data_count[steam_data_count > 1]\n",
    "\n",
    "print(\"Quantidade de entradas duplicadas na tabela text_content: {}\".format(len(text_content_duplicated_entries)))\n",
    "print(\"Quantidade de entradas duplicadas na tabela steam_data: {}\".format(len(steam_data_duplicated_entries)))"
   ]
  },
  {
   "cell_type": "markdown",
   "id": "b8107f5d-ddbe-434a-8840-c5c6d5c5ea36",
   "metadata": {},
   "source": [
    "### Verificando se existem entradas repetidas na coluna name"
   ]
  },
  {
   "cell_type": "code",
   "execution_count": 15,
   "id": "437ddeb1-b0d1-4709-b7b6-b35decab2da9",
   "metadata": {},
   "outputs": [
    {
     "name": "stdout",
     "output_type": "stream",
     "text": [
      "Quantidade de entradas duplicadas na tabela steam_data: 7468\n"
     ]
    }
   ],
   "source": [
    "# Verificando entradas repetidas na tabela steam_data usando a coluna \"name¨\n",
    "\n",
    "steam_data_name = steam_data[\"name\"]\n",
    "steam_data_count = steam_data_name.value_counts()\n",
    "steam_data_duplicated_entries = steam_data_count[steam_data_count > 1]\n",
    "\n",
    "print(\"Quantidade de entradas duplicadas na tabela steam_data: {}\".format(len(steam_data_duplicated_entries)))"
   ]
  },
  {
   "cell_type": "code",
   "execution_count": 16,
   "id": "f8daac62-8c33-4728-9248-8d9336bf043e",
   "metadata": {},
   "outputs": [],
   "source": [
    "steam_data = steam_data.drop_duplicates(subset=['name'], keep='last')"
   ]
  },
  {
   "cell_type": "code",
   "execution_count": 17,
   "id": "1ac81ebf-4069-44cd-a018-8f4508800b26",
   "metadata": {},
   "outputs": [
    {
     "name": "stdout",
     "output_type": "stream",
     "text": [
      "Quantidade de entradas duplicadas na tabela steam_data: 0\n"
     ]
    }
   ],
   "source": [
    "# Verificando entradas repetidas na tabela steam_data foram removidas\n",
    "\n",
    "steam_data_name = steam_data[\"name\"]\n",
    "steam_data_count = steam_data_name.value_counts()\n",
    "steam_data_duplicated_entries = steam_data_count[steam_data_count > 1]\n",
    "\n",
    "print(\"Quantidade de entradas duplicadas na tabela steam_data: {}\".format(len(steam_data_duplicated_entries)))"
   ]
  },
  {
   "cell_type": "markdown",
   "id": "1cf97c75-e856-47ae-a227-c19b5ac6773e",
   "metadata": {},
   "source": [
    "# Preprocessando os dados"
   ]
  },
  {
   "cell_type": "code",
   "execution_count": 18,
   "id": "b4182d06-e595-4ea0-90b3-f0e4218c48af",
   "metadata": {},
   "outputs": [
    {
     "name": "stderr",
     "output_type": "stream",
     "text": [
      "[nltk_data] Downloading package stopwords to\n",
      "[nltk_data]     /home/zadhart/nltk_data...\n",
      "[nltk_data]   Package stopwords is already up-to-date!\n",
      "[nltk_data] Downloading package punkt to /home/zadhart/nltk_data...\n",
      "[nltk_data]   Package punkt is already up-to-date!\n",
      "[nltk_data] Downloading package punkt_tab to\n",
      "[nltk_data]     /home/zadhart/nltk_data...\n",
      "[nltk_data]   Package punkt_tab is already up-to-date!\n",
      "[nltk_data] Downloading package rslp to /home/zadhart/nltk_data...\n",
      "[nltk_data]   Package rslp is already up-to-date!\n"
     ]
    }
   ],
   "source": [
    "import re\n",
    "import nltk\n",
    "from nltk.corpus import stopwords\n",
    "from nltk.tokenize import word_tokenize\n",
    "from nltk.stem import RSLPStemmer\n",
    "from nltk.tokenize import word_tokenize\n",
    "\n",
    "nltk.download('stopwords')\n",
    "nltk.download('punkt')\n",
    "nltk.download('punkt_tab')\n",
    "nltk.download('rslp')\n",
    "\n",
    "def preprocess_text(text):\n",
    "    # Removendo palavras que contem caracteres especiais\n",
    "    text = re.sub(r'\\b\\w*[^a-zA-Z\\s]\\w*\\b', '', text)\n",
    "\n",
    "    # Removendo palavras que contem números\n",
    "    text = re.sub(r'\\b\\w*\\d\\w*\\b', '', text)\n",
    "\n",
    "    text = text.lower()\n",
    "\n",
    "    # Removendo pontuacao e caracteres especiais\n",
    "    text = re.sub(r'[^\\w\\s]', '', text)\n",
    "\n",
    "    text = ' '.join(text.split())\n",
    "\n",
    "    # Tokenizando o texto e removendo \n",
    "    tokenized_text = word_tokenize(text)\n",
    "\n",
    "    stop_words = set(stopwords.words('english'))\n",
    "    filtered_words = [word for word in tokenized_text if word not in stop_words]\n",
    "\n",
    "    stemmer = RSLPStemmer()\n",
    "    \n",
    "    stemmed_words = []\n",
    "    \n",
    "    for word in filtered_words:\n",
    "        stemmed_words.append(stemmer.stem(word))\n",
    "\n",
    "    filtered_text = ' '.join(stemmed_words)\n",
    "\n",
    "    return filtered_text"
   ]
  },
  {
   "cell_type": "code",
   "execution_count": 19,
   "id": "cddf1590-29a4-41c0-97b2-cc988ba53812",
   "metadata": {},
   "outputs": [],
   "source": [
    "def preprocess_text_without_stemming(text):\n",
    "    # Removendo palavras que contem caracteres especiais\n",
    "    text = re.sub(r'\\b\\w*[^a-zA-Z\\s]\\w*\\b', '', text)\n",
    "\n",
    "    # Removendo palavras que contem números\n",
    "    text = re.sub(r'\\b\\w*\\d\\w*\\b', '', text)\n",
    "\n",
    "    text = text.lower()\n",
    "\n",
    "    # Removendo pontuacao e caracteres especiais\n",
    "    text = re.sub(r'[^\\w\\s]', '', text)\n",
    "\n",
    "    text = ' '.join(text.split())\n",
    "\n",
    "    # Tokenizando o texto e removendo \n",
    "    tokenized_text = word_tokenize(text)\n",
    "\n",
    "    stop_words = set(stopwords.words('english'))\n",
    "    filtered_words = [word for word in tokenized_text if word not in stop_words]\n",
    "\n",
    "    filtered_text = ' '.join(filtered_words)\n",
    "\n",
    "    return filtered_text"
   ]
  },
  {
   "cell_type": "code",
   "execution_count": 20,
   "id": "0186ff9c-91be-4820-bfae-a28b55f29fc2",
   "metadata": {},
   "outputs": [],
   "source": [
    "filtered_full_description = text_content[\"full_desc\"].apply(preprocess_text)"
   ]
  },
  {
   "cell_type": "code",
   "execution_count": 21,
   "id": "8e5ce122-0eff-4751-9db4-419ff562b0c6",
   "metadata": {},
   "outputs": [],
   "source": [
    "full_description = text_content[\"full_desc\"].apply(preprocess_text_without_stemming)"
   ]
  },
  {
   "cell_type": "code",
   "execution_count": 22,
   "id": "29b6bca1-1251-4dbd-84ef-bfc448d7a0a0",
   "metadata": {},
   "outputs": [],
   "source": [
    "text_content[\"filtered_full_description\"] = filtered_full_description\n",
    "text_content[\"full_description\"] = full_description"
   ]
  },
  {
   "cell_type": "code",
   "execution_count": 23,
   "id": "ecfa9e6f-5da2-4fea-b540-3c0ac85c0a5d",
   "metadata": {},
   "outputs": [
    {
     "data": {
      "text/html": [
       "<div>\n",
       "<style scoped>\n",
       "    .dataframe tbody tr th:only-of-type {\n",
       "        vertical-align: middle;\n",
       "    }\n",
       "\n",
       "    .dataframe tbody tr th {\n",
       "        vertical-align: top;\n",
       "    }\n",
       "\n",
       "    .dataframe thead th {\n",
       "        text-align: right;\n",
       "    }\n",
       "</style>\n",
       "<table border=\"1\" class=\"dataframe\">\n",
       "  <thead>\n",
       "    <tr style=\"text-align: right;\">\n",
       "      <th></th>\n",
       "      <th>url</th>\n",
       "      <th>desc</th>\n",
       "      <th>full_desc</th>\n",
       "      <th>requirements</th>\n",
       "      <th>popu_tags</th>\n",
       "      <th>filtered_full_description</th>\n",
       "      <th>full_description</th>\n",
       "    </tr>\n",
       "  </thead>\n",
       "  <tbody>\n",
       "    <tr>\n",
       "      <th>52</th>\n",
       "      <td>https://store.steampowered.com/app/440/Team_Fo...</td>\n",
       "      <td>Nine distinct classes provide a broad range of...</td>\n",
       "      <td>About This Game\"The most fun you can have onli...</td>\n",
       "      <td>System RequirementsWindowsMac OS XSteamOS + Li...</td>\n",
       "      <td>Free to PlayHero ShooterMultiplayerFPSShooterA...</td>\n",
       "      <td>fun onlin pc gam fre catch play much want long...</td>\n",
       "      <td>fun online pc gamer free catch play much want ...</td>\n",
       "    </tr>\n",
       "    <tr>\n",
       "      <th>53</th>\n",
       "      <td>https://store.steampowered.com/app/976730/Halo...</td>\n",
       "      <td>The Master Chief’s iconic journey includes six...</td>\n",
       "      <td>About This GameFor the first time, the series ...</td>\n",
       "      <td>System RequirementsMinimum:Requires a 64-bit p...</td>\n",
       "      <td>Great SoundtrackFPSClassicMultiplayerStory Ric...</td>\n",
       "      <td>gamef first tim seri changed consol gaming for...</td>\n",
       "      <td>gamefor first time series changed console gami...</td>\n",
       "    </tr>\n",
       "    <tr>\n",
       "      <th>54</th>\n",
       "      <td>https://store.steampowered.com/app/1056640/Pha...</td>\n",
       "      <td>The long awaited Free-To-Play Online RPG Phant...</td>\n",
       "      <td>About This GameWELCOME TO THE ORACLE FLEETYou ...</td>\n",
       "      <td>System RequirementsMinimum:Requires a 64-bit p...</td>\n",
       "      <td>Free to PlayActionRPGMMORPGAnimeMultiplayerJRP...</td>\n",
       "      <td>gamewelcom oracl fleety ark operativ memb elit...</td>\n",
       "      <td>gamewelcome oracle fleetyou arks operative mem...</td>\n",
       "    </tr>\n",
       "    <tr>\n",
       "      <th>55</th>\n",
       "      <td>https://store.steampowered.com/app/1174180/Red...</td>\n",
       "      <td>Winner of over 175 Game of the Year Awards and...</td>\n",
       "      <td>About This GameAmerica, 1899.Arthur Morgan and...</td>\n",
       "      <td>System RequirementsMinimum:Requires a 64-bit p...</td>\n",
       "      <td>AdventureActionOpen WorldWesternStory RichMult...</td>\n",
       "      <td>gameamer morgan van der lind gang outlaw run f...</td>\n",
       "      <td>gameamerica morgan van der linde gang outlaws ...</td>\n",
       "    </tr>\n",
       "    <tr>\n",
       "      <th>56</th>\n",
       "      <td>https://store.steampowered.com/app/252950/Rock...</td>\n",
       "      <td>Rocket League is a high-powered hybrid of arca...</td>\n",
       "      <td>About This GameRocket League is a high-powered...</td>\n",
       "      <td>System RequirementsMinimum:OS: Windows 7 (64 b...</td>\n",
       "      <td>MultiplayerSoccerCompetitiveSportsRacingTeam-B...</td>\n",
       "      <td>gamerocket leag hybrid socc vehicul mayh contr...</td>\n",
       "      <td>gamerocket league hybrid soccer vehicular mayh...</td>\n",
       "    </tr>\n",
       "  </tbody>\n",
       "</table>\n",
       "</div>"
      ],
      "text/plain": [
       "                                                  url  \\\n",
       "52  https://store.steampowered.com/app/440/Team_Fo...   \n",
       "53  https://store.steampowered.com/app/976730/Halo...   \n",
       "54  https://store.steampowered.com/app/1056640/Pha...   \n",
       "55  https://store.steampowered.com/app/1174180/Red...   \n",
       "56  https://store.steampowered.com/app/252950/Rock...   \n",
       "\n",
       "                                                 desc  \\\n",
       "52  Nine distinct classes provide a broad range of...   \n",
       "53  The Master Chief’s iconic journey includes six...   \n",
       "54  The long awaited Free-To-Play Online RPG Phant...   \n",
       "55  Winner of over 175 Game of the Year Awards and...   \n",
       "56  Rocket League is a high-powered hybrid of arca...   \n",
       "\n",
       "                                            full_desc  \\\n",
       "52  About This Game\"The most fun you can have onli...   \n",
       "53  About This GameFor the first time, the series ...   \n",
       "54  About This GameWELCOME TO THE ORACLE FLEETYou ...   \n",
       "55  About This GameAmerica, 1899.Arthur Morgan and...   \n",
       "56  About This GameRocket League is a high-powered...   \n",
       "\n",
       "                                         requirements  \\\n",
       "52  System RequirementsWindowsMac OS XSteamOS + Li...   \n",
       "53  System RequirementsMinimum:Requires a 64-bit p...   \n",
       "54  System RequirementsMinimum:Requires a 64-bit p...   \n",
       "55  System RequirementsMinimum:Requires a 64-bit p...   \n",
       "56  System RequirementsMinimum:OS: Windows 7 (64 b...   \n",
       "\n",
       "                                            popu_tags  \\\n",
       "52  Free to PlayHero ShooterMultiplayerFPSShooterA...   \n",
       "53  Great SoundtrackFPSClassicMultiplayerStory Ric...   \n",
       "54  Free to PlayActionRPGMMORPGAnimeMultiplayerJRP...   \n",
       "55  AdventureActionOpen WorldWesternStory RichMult...   \n",
       "56  MultiplayerSoccerCompetitiveSportsRacingTeam-B...   \n",
       "\n",
       "                            filtered_full_description  \\\n",
       "52  fun onlin pc gam fre catch play much want long...   \n",
       "53  gamef first tim seri changed consol gaming for...   \n",
       "54  gamewelcom oracl fleety ark operativ memb elit...   \n",
       "55  gameamer morgan van der lind gang outlaw run f...   \n",
       "56  gamerocket leag hybrid socc vehicul mayh contr...   \n",
       "\n",
       "                                     full_description  \n",
       "52  fun online pc gamer free catch play much want ...  \n",
       "53  gamefor first time series changed console gami...  \n",
       "54  gamewelcome oracle fleetyou arks operative mem...  \n",
       "55  gameamerica morgan van der linde gang outlaws ...  \n",
       "56  gamerocket league hybrid soccer vehicular mayh...  "
      ]
     },
     "execution_count": 23,
     "metadata": {},
     "output_type": "execute_result"
    }
   ],
   "source": [
    "text_content.head()"
   ]
  },
  {
   "cell_type": "markdown",
   "id": "9c960c0a-e3ab-4671-bc77-88ef78d815d9",
   "metadata": {},
   "source": [
    "## Determinando o rótulo dos documentos"
   ]
  },
  {
   "cell_type": "markdown",
   "id": "19d8924d-50b0-4c6c-a942-000a816eb403",
   "metadata": {},
   "source": [
    "O rótulo dos documentos será determinado usando a coluna \"user_reviews\" onde primeiro vamos realizar um pre processamento para \n",
    "pegar apenas a primeira parte da string (o texto antes da quantidade de reviews)"
   ]
  },
  {
   "cell_type": "code",
   "execution_count": 24,
   "id": "ed2ab95e-4abb-4287-bd7e-073b1cf84fe5",
   "metadata": {},
   "outputs": [],
   "source": [
    "# O texto que queremos pegar usando a review do usuário sempre acontece antes de um '('\n",
    "def get_user_review(text):\n",
    "    return text.split('(')[0]"
   ]
  },
  {
   "cell_type": "code",
   "execution_count": 25,
   "id": "5d85acd5-3ecf-4d84-b7ae-4b4ee1eda2a6",
   "metadata": {},
   "outputs": [],
   "source": [
    "filtered_user_reviews = steam_data[\"user_reviews\"].apply(get_user_review)"
   ]
  },
  {
   "cell_type": "code",
   "execution_count": 26,
   "id": "67d01ca1-7c48-4749-acb1-1f1262d55acf",
   "metadata": {},
   "outputs": [],
   "source": [
    "# Todos os reviews que são negativos ou mixed serão marcados como negativos\n",
    "\n",
    "def label_review(review):\n",
    "    positive_reviews = [\"Very Positive\", \"Overwhelmingly Positive\", \"Positive\", \"Mostly Positive\"]\n",
    "\n",
    "    if review in positive_reviews:\n",
    "        return \"Positive\"\n",
    "    else:\n",
    "        return \"Negative\""
   ]
  },
  {
   "cell_type": "code",
   "execution_count": 27,
   "id": "3c6c32ce-d5dd-41a7-ab00-bd54fd427460",
   "metadata": {},
   "outputs": [],
   "source": [
    "labeled_user_reviews = filtered_user_reviews.apply(label_review)"
   ]
  },
  {
   "cell_type": "code",
   "execution_count": 28,
   "id": "c5748a36-c71a-4933-900a-fb480d5b32c1",
   "metadata": {},
   "outputs": [],
   "source": [
    "steam_data[\"labeled_user_reviews\"] = labeled_user_reviews"
   ]
  },
  {
   "cell_type": "code",
   "execution_count": 29,
   "id": "6b592fd1-7202-4cb6-a458-39c0352d39d5",
   "metadata": {},
   "outputs": [
    {
     "data": {
      "text/html": [
       "<div>\n",
       "<style scoped>\n",
       "    .dataframe tbody tr th:only-of-type {\n",
       "        vertical-align: middle;\n",
       "    }\n",
       "\n",
       "    .dataframe tbody tr th {\n",
       "        vertical-align: top;\n",
       "    }\n",
       "\n",
       "    .dataframe thead th {\n",
       "        text-align: right;\n",
       "    }\n",
       "</style>\n",
       "<table border=\"1\" class=\"dataframe\">\n",
       "  <thead>\n",
       "    <tr style=\"text-align: right;\">\n",
       "      <th></th>\n",
       "      <th>url</th>\n",
       "      <th>name</th>\n",
       "      <th>categories</th>\n",
       "      <th>img_url</th>\n",
       "      <th>user_reviews</th>\n",
       "      <th>all_reviews</th>\n",
       "      <th>date</th>\n",
       "      <th>developer</th>\n",
       "      <th>publisher</th>\n",
       "      <th>price</th>\n",
       "      <th>pegi</th>\n",
       "      <th>pegi_url</th>\n",
       "      <th>labeled_user_reviews</th>\n",
       "    </tr>\n",
       "  </thead>\n",
       "  <tbody>\n",
       "    <tr>\n",
       "      <th>77</th>\n",
       "      <td>https://store.steampowered.com/app/945360/Amon...</td>\n",
       "      <td>Among Us</td>\n",
       "      <td>Online PvPLAN PvPOnline Co-opLAN Co-opCross-Pl...</td>\n",
       "      <td>https://steamcdn-a.akamaihd.net/steam/apps/945...</td>\n",
       "      <td>Overwhelmingly Positive(151,281)- 96% of the 1...</td>\n",
       "      <td>Overwhelmingly Positive(224,878)- 95% of the 2...</td>\n",
       "      <td>Nov 16, 2018</td>\n",
       "      <td>Innersloth</td>\n",
       "      <td>Innersloth</td>\n",
       "      <td>Buy Among Us$4.99Add to Cart</td>\n",
       "      <td>-</td>\n",
       "      <td>-</td>\n",
       "      <td>Positive</td>\n",
       "    </tr>\n",
       "    <tr>\n",
       "      <th>78</th>\n",
       "      <td>https://store.steampowered.com/app/730/Counter...</td>\n",
       "      <td>Counter-Strike: Global Offensive</td>\n",
       "      <td>Steam AchievementsFull controller supportSteam...</td>\n",
       "      <td>https://steamcdn-a.akamaihd.net/steam/apps/730...</td>\n",
       "      <td>Very Positive(90,780)- 88% of the 90,780 user ...</td>\n",
       "      <td>Very Positive(4,843,904)- 87% of the 4,843,904...</td>\n",
       "      <td>Aug 21, 2012</td>\n",
       "      <td>Valve, Hidden Path Entertainment</td>\n",
       "      <td>Valve</td>\n",
       "      <td>Play Counter-Strike: Global OffensiveFree to P...</td>\n",
       "      <td>-</td>\n",
       "      <td>-</td>\n",
       "      <td>Positive</td>\n",
       "    </tr>\n",
       "    <tr>\n",
       "      <th>79</th>\n",
       "      <td>https://store.steampowered.com/app/1097150/Fal...</td>\n",
       "      <td>Fall Guys: Ultimate Knockout</td>\n",
       "      <td>MMOOnline PvPOnline Co-opSteam AchievementsFul...</td>\n",
       "      <td>https://steamcdn-a.akamaihd.net/steam/apps/109...</td>\n",
       "      <td>Very Positive(32,436)- 84% of the 32,436 user ...</td>\n",
       "      <td>Very Positive(223,725)- 80% of the 223,725 use...</td>\n",
       "      <td>Aug 3, 2020</td>\n",
       "      <td>Mediatonic</td>\n",
       "      <td>Devolver Digital</td>\n",
       "      <td>Buy Fall Guys$19.99Add to Cart</td>\n",
       "      <td>-</td>\n",
       "      <td>-</td>\n",
       "      <td>Positive</td>\n",
       "    </tr>\n",
       "    <tr>\n",
       "      <th>80</th>\n",
       "      <td>https://store.steampowered.com/app/1158310/Cru...</td>\n",
       "      <td>Crusader Kings III</td>\n",
       "      <td>Single-playerOnline PvPSteam AchievementsSteam...</td>\n",
       "      <td>https://steamcdn-a.akamaihd.net/steam/apps/115...</td>\n",
       "      <td>Very Positive(5,359)- 91% of the 5,359 user re...</td>\n",
       "      <td>Very Positive(18,951)- 92% of the 18,951 user ...</td>\n",
       "      <td>Sep 1, 2020</td>\n",
       "      <td>Paradox Development Studio</td>\n",
       "      <td>Paradox Interactive</td>\n",
       "      <td>Buy Crusader Kings III$49.99Add to Cart</td>\n",
       "      <td>BloodLanguagePartial NuditySexual ThemesUse of...</td>\n",
       "      <td>https://steamstore-a.akamaihd.net/public/share...</td>\n",
       "      <td>Positive</td>\n",
       "    </tr>\n",
       "    <tr>\n",
       "      <th>81</th>\n",
       "      <td>https://store.steampowered.com/app/1085660/Des...</td>\n",
       "      <td>Destiny 2</td>\n",
       "      <td>Single-playerOnline PvPOnline Co-opSteam Achie...</td>\n",
       "      <td>https://steamcdn-a.akamaihd.net/steam/apps/108...</td>\n",
       "      <td>Very Positive(9,147)- 87% of the 9,147 user re...</td>\n",
       "      <td>Very Positive(284,689)- 86% of the 284,689 use...</td>\n",
       "      <td>Oct 1, 2019</td>\n",
       "      <td>Bungie</td>\n",
       "      <td>Bungie</td>\n",
       "      <td>Play Destiny 2Free To PlayPlay Game</td>\n",
       "      <td>Blood Language Violence</td>\n",
       "      <td>https://steamstore-a.akamaihd.net/public/share...</td>\n",
       "      <td>Positive</td>\n",
       "    </tr>\n",
       "  </tbody>\n",
       "</table>\n",
       "</div>"
      ],
      "text/plain": [
       "                                                  url  \\\n",
       "77  https://store.steampowered.com/app/945360/Amon...   \n",
       "78  https://store.steampowered.com/app/730/Counter...   \n",
       "79  https://store.steampowered.com/app/1097150/Fal...   \n",
       "80  https://store.steampowered.com/app/1158310/Cru...   \n",
       "81  https://store.steampowered.com/app/1085660/Des...   \n",
       "\n",
       "                                name  \\\n",
       "77                          Among Us   \n",
       "78  Counter-Strike: Global Offensive   \n",
       "79      Fall Guys: Ultimate Knockout   \n",
       "80                Crusader Kings III   \n",
       "81                         Destiny 2   \n",
       "\n",
       "                                           categories  \\\n",
       "77  Online PvPLAN PvPOnline Co-opLAN Co-opCross-Pl...   \n",
       "78  Steam AchievementsFull controller supportSteam...   \n",
       "79  MMOOnline PvPOnline Co-opSteam AchievementsFul...   \n",
       "80  Single-playerOnline PvPSteam AchievementsSteam...   \n",
       "81  Single-playerOnline PvPOnline Co-opSteam Achie...   \n",
       "\n",
       "                                              img_url  \\\n",
       "77  https://steamcdn-a.akamaihd.net/steam/apps/945...   \n",
       "78  https://steamcdn-a.akamaihd.net/steam/apps/730...   \n",
       "79  https://steamcdn-a.akamaihd.net/steam/apps/109...   \n",
       "80  https://steamcdn-a.akamaihd.net/steam/apps/115...   \n",
       "81  https://steamcdn-a.akamaihd.net/steam/apps/108...   \n",
       "\n",
       "                                         user_reviews  \\\n",
       "77  Overwhelmingly Positive(151,281)- 96% of the 1...   \n",
       "78  Very Positive(90,780)- 88% of the 90,780 user ...   \n",
       "79  Very Positive(32,436)- 84% of the 32,436 user ...   \n",
       "80  Very Positive(5,359)- 91% of the 5,359 user re...   \n",
       "81  Very Positive(9,147)- 87% of the 9,147 user re...   \n",
       "\n",
       "                                          all_reviews          date  \\\n",
       "77  Overwhelmingly Positive(224,878)- 95% of the 2...  Nov 16, 2018   \n",
       "78  Very Positive(4,843,904)- 87% of the 4,843,904...  Aug 21, 2012   \n",
       "79  Very Positive(223,725)- 80% of the 223,725 use...   Aug 3, 2020   \n",
       "80  Very Positive(18,951)- 92% of the 18,951 user ...   Sep 1, 2020   \n",
       "81  Very Positive(284,689)- 86% of the 284,689 use...   Oct 1, 2019   \n",
       "\n",
       "                           developer            publisher  \\\n",
       "77                        Innersloth           Innersloth   \n",
       "78  Valve, Hidden Path Entertainment                Valve   \n",
       "79                        Mediatonic     Devolver Digital   \n",
       "80        Paradox Development Studio  Paradox Interactive   \n",
       "81                            Bungie              Bungie    \n",
       "\n",
       "                                                price  \\\n",
       "77                       Buy Among Us$4.99Add to Cart   \n",
       "78  Play Counter-Strike: Global OffensiveFree to P...   \n",
       "79                     Buy Fall Guys$19.99Add to Cart   \n",
       "80            Buy Crusader Kings III$49.99Add to Cart   \n",
       "81                Play Destiny 2Free To PlayPlay Game   \n",
       "\n",
       "                                                 pegi  \\\n",
       "77                                                  -   \n",
       "78                                                  -   \n",
       "79                                                  -   \n",
       "80  BloodLanguagePartial NuditySexual ThemesUse of...   \n",
       "81                            Blood Language Violence   \n",
       "\n",
       "                                             pegi_url labeled_user_reviews  \n",
       "77                                                  -             Positive  \n",
       "78                                                  -             Positive  \n",
       "79                                                  -             Positive  \n",
       "80  https://steamstore-a.akamaihd.net/public/share...             Positive  \n",
       "81  https://steamstore-a.akamaihd.net/public/share...             Positive  "
      ]
     },
     "execution_count": 29,
     "metadata": {},
     "output_type": "execute_result"
    }
   ],
   "source": [
    "steam_data.head()"
   ]
  },
  {
   "cell_type": "markdown",
   "id": "384485d5-3283-424c-a2e6-eaa9cc06281d",
   "metadata": {},
   "source": [
    "## Montando a versão final do dataset"
   ]
  },
  {
   "cell_type": "code",
   "execution_count": 30,
   "id": "14a25129-300d-4148-9127-76001e9929c2",
   "metadata": {},
   "outputs": [],
   "source": [
    "result_dataset = {\"url\": [], \"name\": [], \"labeled_user_reviews\": [], \"full_description\": [], \"filtered_full_description\": []}\n",
    "\n",
    "games_urls = steam_data[\"url\"]\n",
    "\n",
    "for url in games_urls:\n",
    "    try:\n",
    "        game_steam_data = steam_data[steam_data[\"url\"] == url]\n",
    "        game_text_content = text_content[text_content[\"url\"] == url]\n",
    "\n",
    "        name = game_steam_data[\"name\"].iloc[0]\n",
    "        labeled_review = game_steam_data[\"labeled_user_reviews\"].iloc[0]\n",
    "        filtered_full_description = game_text_content[\"filtered_full_description\"].iloc[0]\n",
    "        full_description = game_text_content[\"full_description\"].iloc[0]\n",
    "\n",
    "        if not name or not labeled_review or not filtered_full_description:\n",
    "            continue\n",
    "    \n",
    "        result_dataset[\"url\"].append(url)\n",
    "        result_dataset[\"name\"].append(name)\n",
    "        result_dataset[\"labeled_user_reviews\"].append(labeled_review)\n",
    "        result_dataset[\"filtered_full_description\"].append(filtered_full_description)\n",
    "        result_dataset[\"full_description\"].append(full_description)\n",
    "    except:\n",
    "        continue\n",
    "\n",
    "steam_games_df = pd.DataFrame(result_dataset)"
   ]
  },
  {
   "cell_type": "code",
   "execution_count": 31,
   "id": "77bf6dba-2e05-4ff6-b8d2-3ba1789dd173",
   "metadata": {},
   "outputs": [
    {
     "data": {
      "text/html": [
       "<div>\n",
       "<style scoped>\n",
       "    .dataframe tbody tr th:only-of-type {\n",
       "        vertical-align: middle;\n",
       "    }\n",
       "\n",
       "    .dataframe tbody tr th {\n",
       "        vertical-align: top;\n",
       "    }\n",
       "\n",
       "    .dataframe thead th {\n",
       "        text-align: right;\n",
       "    }\n",
       "</style>\n",
       "<table border=\"1\" class=\"dataframe\">\n",
       "  <thead>\n",
       "    <tr style=\"text-align: right;\">\n",
       "      <th></th>\n",
       "      <th>url</th>\n",
       "      <th>name</th>\n",
       "      <th>labeled_user_reviews</th>\n",
       "      <th>full_description</th>\n",
       "      <th>filtered_full_description</th>\n",
       "    </tr>\n",
       "  </thead>\n",
       "  <tbody>\n",
       "    <tr>\n",
       "      <th>0</th>\n",
       "      <td>https://store.steampowered.com/app/945360/Amon...</td>\n",
       "      <td>Among Us</td>\n",
       "      <td>Positive</td>\n",
       "      <td>gameplay player online via local wifi attempt ...</td>\n",
       "      <td>gameplay play onlin via local wif attempt prep...</td>\n",
       "    </tr>\n",
       "    <tr>\n",
       "      <th>1</th>\n",
       "      <td>https://store.steampowered.com/app/730/Counter...</td>\n",
       "      <td>Counter-Strike: Global Offensive</td>\n",
       "      <td>Positive</td>\n",
       "      <td>global offensive cs go expands upon action gam...</td>\n",
       "      <td>glob offensiv cs go expand upon action gamepla...</td>\n",
       "    </tr>\n",
       "    <tr>\n",
       "      <th>2</th>\n",
       "      <td>https://store.steampowered.com/app/1097150/Fal...</td>\n",
       "      <td>Fall Guys: Ultimate Knockout</td>\n",
       "      <td>Positive</td>\n",
       "      <td>gamefall guys ultimate knockout flings hordes ...</td>\n",
       "      <td>gamefall guy ultimat knockout fling hord conte...</td>\n",
       "    </tr>\n",
       "    <tr>\n",
       "      <th>3</th>\n",
       "      <td>https://store.steampowered.com/app/1158310/Cru...</td>\n",
       "      <td>Crusader Kings III</td>\n",
       "      <td>Positive</td>\n",
       "      <td>gameparadox development studio brings sequel o...</td>\n",
       "      <td>gameparadox development studi bring sequel one...</td>\n",
       "    </tr>\n",
       "    <tr>\n",
       "      <th>4</th>\n",
       "      <td>https://store.steampowered.com/app/1085660/Des...</td>\n",
       "      <td>Destiny 2</td>\n",
       "      <td>Positive</td>\n",
       "      <td>gamedive world destiny explore mysteries solar...</td>\n",
       "      <td>gamediv world destiny explor mysteri sol syst ...</td>\n",
       "    </tr>\n",
       "  </tbody>\n",
       "</table>\n",
       "</div>"
      ],
      "text/plain": [
       "                                                 url  \\\n",
       "0  https://store.steampowered.com/app/945360/Amon...   \n",
       "1  https://store.steampowered.com/app/730/Counter...   \n",
       "2  https://store.steampowered.com/app/1097150/Fal...   \n",
       "3  https://store.steampowered.com/app/1158310/Cru...   \n",
       "4  https://store.steampowered.com/app/1085660/Des...   \n",
       "\n",
       "                               name labeled_user_reviews  \\\n",
       "0                          Among Us             Positive   \n",
       "1  Counter-Strike: Global Offensive             Positive   \n",
       "2      Fall Guys: Ultimate Knockout             Positive   \n",
       "3                Crusader Kings III             Positive   \n",
       "4                         Destiny 2             Positive   \n",
       "\n",
       "                                    full_description  \\\n",
       "0  gameplay player online via local wifi attempt ...   \n",
       "1  global offensive cs go expands upon action gam...   \n",
       "2  gamefall guys ultimate knockout flings hordes ...   \n",
       "3  gameparadox development studio brings sequel o...   \n",
       "4  gamedive world destiny explore mysteries solar...   \n",
       "\n",
       "                           filtered_full_description  \n",
       "0  gameplay play onlin via local wif attempt prep...  \n",
       "1  glob offensiv cs go expand upon action gamepla...  \n",
       "2  gamefall guy ultimat knockout fling hord conte...  \n",
       "3  gameparadox development studi bring sequel one...  \n",
       "4  gamediv world destiny explor mysteri sol syst ...  "
      ]
     },
     "execution_count": 31,
     "metadata": {},
     "output_type": "execute_result"
    }
   ],
   "source": [
    "steam_games_df.head()"
   ]
  },
  {
   "cell_type": "code",
   "execution_count": 32,
   "id": "f02e9d3e-a83a-4da4-afae-b18f6ffe64c3",
   "metadata": {},
   "outputs": [],
   "source": [
    "steam_games_df.to_csv('steam_games.csv', index=False) "
   ]
  },
  {
   "cell_type": "markdown",
   "id": "5f4de2e9-4f5c-4de3-861a-6a8951f8c639",
   "metadata": {},
   "source": [
    "# Elaborando um problema de classificacao binária coerente com a base"
   ]
  },
  {
   "cell_type": "markdown",
   "id": "fe94a55c-d43c-48f9-b92c-eef0c138d808",
   "metadata": {},
   "source": [
    "Vamos utilizar os rótulos criados para elaborar o problema de classificao binária. Portanto estamos tentando classificar se o\n",
    "o jogo (documento) possui reviews positivas ou negativas usando a descricao do jogo."
   ]
  },
  {
   "cell_type": "markdown",
   "id": "09d77e62-a0a5-4f72-a631-4ae7db0e9ebe",
   "metadata": {},
   "source": [
    "## Extraindo as representacoes vetoriais com CountVectorizer e TF-IDF,"
   ]
  },
  {
   "cell_type": "code",
   "execution_count": 33,
   "id": "d6c6e4b8-a535-45b9-a694-f436f7e6c284",
   "metadata": {},
   "outputs": [],
   "source": [
    "from sklearn.feature_extraction.text import CountVectorizer\n",
    "from sklearn.metrics.pairwise import cosine_similarity\n",
    "import numpy as np"
   ]
  },
  {
   "cell_type": "code",
   "execution_count": 34,
   "id": "36f3f1a4-be54-440f-b648-dc486a680d18",
   "metadata": {},
   "outputs": [],
   "source": [
    "# Extraindo as representacoes vetoriais usando o CountVectorizer\n",
    "\n",
    "count_vectorizer = CountVectorizer()\n",
    "\n",
    "count_vectorizer_X = count_vectorizer.fit_transform(steam_games_df[\"filtered_full_description\"])"
   ]
  },
  {
   "cell_type": "code",
   "execution_count": 35,
   "id": "e8fb9e5f-d5d3-4724-ac09-671af91cb8a6",
   "metadata": {},
   "outputs": [],
   "source": [
    "from sklearn.feature_extraction.text import TfidfVectorizer\n",
    "from sklearn.metrics.pairwise import cosine_similarity"
   ]
  },
  {
   "cell_type": "code",
   "execution_count": 36,
   "id": "71b88da4-c8b4-47dd-9c1d-0503db45e54f",
   "metadata": {},
   "outputs": [],
   "source": [
    "# Extraindo as representacoes vetoriais usado o TF-IDF\n",
    "\n",
    "tfidf_vectorizer = TfidfVectorizer()\n",
    "\n",
    "tfidf_X = tfidf_vectorizer.fit_transform(steam_games_df[\"filtered_full_description\"])"
   ]
  },
  {
   "cell_type": "code",
   "execution_count": 37,
   "id": "c42eae5e-2372-441b-b755-eab38bab34ad",
   "metadata": {},
   "outputs": [],
   "source": [
    "# Primeiro vamos transformar a coluna labeled_user_reviews onde 1 vai corresponder a positive e 0 a negative\n",
    "\n",
    "def convert_labeled_review(review):\n",
    "    if review == \"Positive\":\n",
    "        return 1\n",
    "    return 0\n",
    "\n",
    "y = steam_games_df[\"labeled_user_reviews\"].apply(convert_labeled_review)"
   ]
  },
  {
   "cell_type": "code",
   "execution_count": 38,
   "id": "f0748066-65c7-4ca8-b4a5-06ca5cbf9f72",
   "metadata": {},
   "outputs": [],
   "source": [
    "from sklearn.model_selection import train_test_split\n",
    "\n",
    "X_train_cv, X_test_cv, y_train_cv, y_test_cv = train_test_split(count_vectorizer_X, y, test_size=0.3, random_state=42)\n",
    "X_train_tf, X_test_tf, y_train_tf, y_test_tf = train_test_split(tfidf_X, y, test_size=0.3, random_state=42)"
   ]
  },
  {
   "cell_type": "markdown",
   "id": "fc59caaa-6343-4ae5-af94-273154d1a0a8",
   "metadata": {
    "jp-MarkdownHeadingCollapsed": true
   },
   "source": [
    "## Treinando o modelo de regressão logística"
   ]
  },
  {
   "cell_type": "markdown",
   "id": "b928606a-38f7-4b90-a2ce-c0d0f9c344d9",
   "metadata": {},
   "source": [
    "### Treinando o modelo de regressao logística com Count Vectorizer"
   ]
  },
  {
   "cell_type": "code",
   "execution_count": 39,
   "id": "fcb2c36f-1b6c-4d34-ad65-ed871f8dd633",
   "metadata": {},
   "outputs": [
    {
     "data": {
      "text/html": [
       "<style>#sk-container-id-1 {\n",
       "  /* Definition of color scheme common for light and dark mode */\n",
       "  --sklearn-color-text: black;\n",
       "  --sklearn-color-line: gray;\n",
       "  /* Definition of color scheme for unfitted estimators */\n",
       "  --sklearn-color-unfitted-level-0: #fff5e6;\n",
       "  --sklearn-color-unfitted-level-1: #f6e4d2;\n",
       "  --sklearn-color-unfitted-level-2: #ffe0b3;\n",
       "  --sklearn-color-unfitted-level-3: chocolate;\n",
       "  /* Definition of color scheme for fitted estimators */\n",
       "  --sklearn-color-fitted-level-0: #f0f8ff;\n",
       "  --sklearn-color-fitted-level-1: #d4ebff;\n",
       "  --sklearn-color-fitted-level-2: #b3dbfd;\n",
       "  --sklearn-color-fitted-level-3: cornflowerblue;\n",
       "\n",
       "  /* Specific color for light theme */\n",
       "  --sklearn-color-text-on-default-background: var(--sg-text-color, var(--theme-code-foreground, var(--jp-content-font-color1, black)));\n",
       "  --sklearn-color-background: var(--sg-background-color, var(--theme-background, var(--jp-layout-color0, white)));\n",
       "  --sklearn-color-border-box: var(--sg-text-color, var(--theme-code-foreground, var(--jp-content-font-color1, black)));\n",
       "  --sklearn-color-icon: #696969;\n",
       "\n",
       "  @media (prefers-color-scheme: dark) {\n",
       "    /* Redefinition of color scheme for dark theme */\n",
       "    --sklearn-color-text-on-default-background: var(--sg-text-color, var(--theme-code-foreground, var(--jp-content-font-color1, white)));\n",
       "    --sklearn-color-background: var(--sg-background-color, var(--theme-background, var(--jp-layout-color0, #111)));\n",
       "    --sklearn-color-border-box: var(--sg-text-color, var(--theme-code-foreground, var(--jp-content-font-color1, white)));\n",
       "    --sklearn-color-icon: #878787;\n",
       "  }\n",
       "}\n",
       "\n",
       "#sk-container-id-1 {\n",
       "  color: var(--sklearn-color-text);\n",
       "}\n",
       "\n",
       "#sk-container-id-1 pre {\n",
       "  padding: 0;\n",
       "}\n",
       "\n",
       "#sk-container-id-1 input.sk-hidden--visually {\n",
       "  border: 0;\n",
       "  clip: rect(1px 1px 1px 1px);\n",
       "  clip: rect(1px, 1px, 1px, 1px);\n",
       "  height: 1px;\n",
       "  margin: -1px;\n",
       "  overflow: hidden;\n",
       "  padding: 0;\n",
       "  position: absolute;\n",
       "  width: 1px;\n",
       "}\n",
       "\n",
       "#sk-container-id-1 div.sk-dashed-wrapped {\n",
       "  border: 1px dashed var(--sklearn-color-line);\n",
       "  margin: 0 0.4em 0.5em 0.4em;\n",
       "  box-sizing: border-box;\n",
       "  padding-bottom: 0.4em;\n",
       "  background-color: var(--sklearn-color-background);\n",
       "}\n",
       "\n",
       "#sk-container-id-1 div.sk-container {\n",
       "  /* jupyter's `normalize.less` sets `[hidden] { display: none; }`\n",
       "     but bootstrap.min.css set `[hidden] { display: none !important; }`\n",
       "     so we also need the `!important` here to be able to override the\n",
       "     default hidden behavior on the sphinx rendered scikit-learn.org.\n",
       "     See: https://github.com/scikit-learn/scikit-learn/issues/21755 */\n",
       "  display: inline-block !important;\n",
       "  position: relative;\n",
       "}\n",
       "\n",
       "#sk-container-id-1 div.sk-text-repr-fallback {\n",
       "  display: none;\n",
       "}\n",
       "\n",
       "div.sk-parallel-item,\n",
       "div.sk-serial,\n",
       "div.sk-item {\n",
       "  /* draw centered vertical line to link estimators */\n",
       "  background-image: linear-gradient(var(--sklearn-color-text-on-default-background), var(--sklearn-color-text-on-default-background));\n",
       "  background-size: 2px 100%;\n",
       "  background-repeat: no-repeat;\n",
       "  background-position: center center;\n",
       "}\n",
       "\n",
       "/* Parallel-specific style estimator block */\n",
       "\n",
       "#sk-container-id-1 div.sk-parallel-item::after {\n",
       "  content: \"\";\n",
       "  width: 100%;\n",
       "  border-bottom: 2px solid var(--sklearn-color-text-on-default-background);\n",
       "  flex-grow: 1;\n",
       "}\n",
       "\n",
       "#sk-container-id-1 div.sk-parallel {\n",
       "  display: flex;\n",
       "  align-items: stretch;\n",
       "  justify-content: center;\n",
       "  background-color: var(--sklearn-color-background);\n",
       "  position: relative;\n",
       "}\n",
       "\n",
       "#sk-container-id-1 div.sk-parallel-item {\n",
       "  display: flex;\n",
       "  flex-direction: column;\n",
       "}\n",
       "\n",
       "#sk-container-id-1 div.sk-parallel-item:first-child::after {\n",
       "  align-self: flex-end;\n",
       "  width: 50%;\n",
       "}\n",
       "\n",
       "#sk-container-id-1 div.sk-parallel-item:last-child::after {\n",
       "  align-self: flex-start;\n",
       "  width: 50%;\n",
       "}\n",
       "\n",
       "#sk-container-id-1 div.sk-parallel-item:only-child::after {\n",
       "  width: 0;\n",
       "}\n",
       "\n",
       "/* Serial-specific style estimator block */\n",
       "\n",
       "#sk-container-id-1 div.sk-serial {\n",
       "  display: flex;\n",
       "  flex-direction: column;\n",
       "  align-items: center;\n",
       "  background-color: var(--sklearn-color-background);\n",
       "  padding-right: 1em;\n",
       "  padding-left: 1em;\n",
       "}\n",
       "\n",
       "\n",
       "/* Toggleable style: style used for estimator/Pipeline/ColumnTransformer box that is\n",
       "clickable and can be expanded/collapsed.\n",
       "- Pipeline and ColumnTransformer use this feature and define the default style\n",
       "- Estimators will overwrite some part of the style using the `sk-estimator` class\n",
       "*/\n",
       "\n",
       "/* Pipeline and ColumnTransformer style (default) */\n",
       "\n",
       "#sk-container-id-1 div.sk-toggleable {\n",
       "  /* Default theme specific background. It is overwritten whether we have a\n",
       "  specific estimator or a Pipeline/ColumnTransformer */\n",
       "  background-color: var(--sklearn-color-background);\n",
       "}\n",
       "\n",
       "/* Toggleable label */\n",
       "#sk-container-id-1 label.sk-toggleable__label {\n",
       "  cursor: pointer;\n",
       "  display: block;\n",
       "  width: 100%;\n",
       "  margin-bottom: 0;\n",
       "  padding: 0.5em;\n",
       "  box-sizing: border-box;\n",
       "  text-align: center;\n",
       "}\n",
       "\n",
       "#sk-container-id-1 label.sk-toggleable__label-arrow:before {\n",
       "  /* Arrow on the left of the label */\n",
       "  content: \"▸\";\n",
       "  float: left;\n",
       "  margin-right: 0.25em;\n",
       "  color: var(--sklearn-color-icon);\n",
       "}\n",
       "\n",
       "#sk-container-id-1 label.sk-toggleable__label-arrow:hover:before {\n",
       "  color: var(--sklearn-color-text);\n",
       "}\n",
       "\n",
       "/* Toggleable content - dropdown */\n",
       "\n",
       "#sk-container-id-1 div.sk-toggleable__content {\n",
       "  max-height: 0;\n",
       "  max-width: 0;\n",
       "  overflow: hidden;\n",
       "  text-align: left;\n",
       "  /* unfitted */\n",
       "  background-color: var(--sklearn-color-unfitted-level-0);\n",
       "}\n",
       "\n",
       "#sk-container-id-1 div.sk-toggleable__content.fitted {\n",
       "  /* fitted */\n",
       "  background-color: var(--sklearn-color-fitted-level-0);\n",
       "}\n",
       "\n",
       "#sk-container-id-1 div.sk-toggleable__content pre {\n",
       "  margin: 0.2em;\n",
       "  border-radius: 0.25em;\n",
       "  color: var(--sklearn-color-text);\n",
       "  /* unfitted */\n",
       "  background-color: var(--sklearn-color-unfitted-level-0);\n",
       "}\n",
       "\n",
       "#sk-container-id-1 div.sk-toggleable__content.fitted pre {\n",
       "  /* unfitted */\n",
       "  background-color: var(--sklearn-color-fitted-level-0);\n",
       "}\n",
       "\n",
       "#sk-container-id-1 input.sk-toggleable__control:checked~div.sk-toggleable__content {\n",
       "  /* Expand drop-down */\n",
       "  max-height: 200px;\n",
       "  max-width: 100%;\n",
       "  overflow: auto;\n",
       "}\n",
       "\n",
       "#sk-container-id-1 input.sk-toggleable__control:checked~label.sk-toggleable__label-arrow:before {\n",
       "  content: \"▾\";\n",
       "}\n",
       "\n",
       "/* Pipeline/ColumnTransformer-specific style */\n",
       "\n",
       "#sk-container-id-1 div.sk-label input.sk-toggleable__control:checked~label.sk-toggleable__label {\n",
       "  color: var(--sklearn-color-text);\n",
       "  background-color: var(--sklearn-color-unfitted-level-2);\n",
       "}\n",
       "\n",
       "#sk-container-id-1 div.sk-label.fitted input.sk-toggleable__control:checked~label.sk-toggleable__label {\n",
       "  background-color: var(--sklearn-color-fitted-level-2);\n",
       "}\n",
       "\n",
       "/* Estimator-specific style */\n",
       "\n",
       "/* Colorize estimator box */\n",
       "#sk-container-id-1 div.sk-estimator input.sk-toggleable__control:checked~label.sk-toggleable__label {\n",
       "  /* unfitted */\n",
       "  background-color: var(--sklearn-color-unfitted-level-2);\n",
       "}\n",
       "\n",
       "#sk-container-id-1 div.sk-estimator.fitted input.sk-toggleable__control:checked~label.sk-toggleable__label {\n",
       "  /* fitted */\n",
       "  background-color: var(--sklearn-color-fitted-level-2);\n",
       "}\n",
       "\n",
       "#sk-container-id-1 div.sk-label label.sk-toggleable__label,\n",
       "#sk-container-id-1 div.sk-label label {\n",
       "  /* The background is the default theme color */\n",
       "  color: var(--sklearn-color-text-on-default-background);\n",
       "}\n",
       "\n",
       "/* On hover, darken the color of the background */\n",
       "#sk-container-id-1 div.sk-label:hover label.sk-toggleable__label {\n",
       "  color: var(--sklearn-color-text);\n",
       "  background-color: var(--sklearn-color-unfitted-level-2);\n",
       "}\n",
       "\n",
       "/* Label box, darken color on hover, fitted */\n",
       "#sk-container-id-1 div.sk-label.fitted:hover label.sk-toggleable__label.fitted {\n",
       "  color: var(--sklearn-color-text);\n",
       "  background-color: var(--sklearn-color-fitted-level-2);\n",
       "}\n",
       "\n",
       "/* Estimator label */\n",
       "\n",
       "#sk-container-id-1 div.sk-label label {\n",
       "  font-family: monospace;\n",
       "  font-weight: bold;\n",
       "  display: inline-block;\n",
       "  line-height: 1.2em;\n",
       "}\n",
       "\n",
       "#sk-container-id-1 div.sk-label-container {\n",
       "  text-align: center;\n",
       "}\n",
       "\n",
       "/* Estimator-specific */\n",
       "#sk-container-id-1 div.sk-estimator {\n",
       "  font-family: monospace;\n",
       "  border: 1px dotted var(--sklearn-color-border-box);\n",
       "  border-radius: 0.25em;\n",
       "  box-sizing: border-box;\n",
       "  margin-bottom: 0.5em;\n",
       "  /* unfitted */\n",
       "  background-color: var(--sklearn-color-unfitted-level-0);\n",
       "}\n",
       "\n",
       "#sk-container-id-1 div.sk-estimator.fitted {\n",
       "  /* fitted */\n",
       "  background-color: var(--sklearn-color-fitted-level-0);\n",
       "}\n",
       "\n",
       "/* on hover */\n",
       "#sk-container-id-1 div.sk-estimator:hover {\n",
       "  /* unfitted */\n",
       "  background-color: var(--sklearn-color-unfitted-level-2);\n",
       "}\n",
       "\n",
       "#sk-container-id-1 div.sk-estimator.fitted:hover {\n",
       "  /* fitted */\n",
       "  background-color: var(--sklearn-color-fitted-level-2);\n",
       "}\n",
       "\n",
       "/* Specification for estimator info (e.g. \"i\" and \"?\") */\n",
       "\n",
       "/* Common style for \"i\" and \"?\" */\n",
       "\n",
       ".sk-estimator-doc-link,\n",
       "a:link.sk-estimator-doc-link,\n",
       "a:visited.sk-estimator-doc-link {\n",
       "  float: right;\n",
       "  font-size: smaller;\n",
       "  line-height: 1em;\n",
       "  font-family: monospace;\n",
       "  background-color: var(--sklearn-color-background);\n",
       "  border-radius: 1em;\n",
       "  height: 1em;\n",
       "  width: 1em;\n",
       "  text-decoration: none !important;\n",
       "  margin-left: 1ex;\n",
       "  /* unfitted */\n",
       "  border: var(--sklearn-color-unfitted-level-1) 1pt solid;\n",
       "  color: var(--sklearn-color-unfitted-level-1);\n",
       "}\n",
       "\n",
       ".sk-estimator-doc-link.fitted,\n",
       "a:link.sk-estimator-doc-link.fitted,\n",
       "a:visited.sk-estimator-doc-link.fitted {\n",
       "  /* fitted */\n",
       "  border: var(--sklearn-color-fitted-level-1) 1pt solid;\n",
       "  color: var(--sklearn-color-fitted-level-1);\n",
       "}\n",
       "\n",
       "/* On hover */\n",
       "div.sk-estimator:hover .sk-estimator-doc-link:hover,\n",
       ".sk-estimator-doc-link:hover,\n",
       "div.sk-label-container:hover .sk-estimator-doc-link:hover,\n",
       ".sk-estimator-doc-link:hover {\n",
       "  /* unfitted */\n",
       "  background-color: var(--sklearn-color-unfitted-level-3);\n",
       "  color: var(--sklearn-color-background);\n",
       "  text-decoration: none;\n",
       "}\n",
       "\n",
       "div.sk-estimator.fitted:hover .sk-estimator-doc-link.fitted:hover,\n",
       ".sk-estimator-doc-link.fitted:hover,\n",
       "div.sk-label-container:hover .sk-estimator-doc-link.fitted:hover,\n",
       ".sk-estimator-doc-link.fitted:hover {\n",
       "  /* fitted */\n",
       "  background-color: var(--sklearn-color-fitted-level-3);\n",
       "  color: var(--sklearn-color-background);\n",
       "  text-decoration: none;\n",
       "}\n",
       "\n",
       "/* Span, style for the box shown on hovering the info icon */\n",
       ".sk-estimator-doc-link span {\n",
       "  display: none;\n",
       "  z-index: 9999;\n",
       "  position: relative;\n",
       "  font-weight: normal;\n",
       "  right: .2ex;\n",
       "  padding: .5ex;\n",
       "  margin: .5ex;\n",
       "  width: min-content;\n",
       "  min-width: 20ex;\n",
       "  max-width: 50ex;\n",
       "  color: var(--sklearn-color-text);\n",
       "  box-shadow: 2pt 2pt 4pt #999;\n",
       "  /* unfitted */\n",
       "  background: var(--sklearn-color-unfitted-level-0);\n",
       "  border: .5pt solid var(--sklearn-color-unfitted-level-3);\n",
       "}\n",
       "\n",
       ".sk-estimator-doc-link.fitted span {\n",
       "  /* fitted */\n",
       "  background: var(--sklearn-color-fitted-level-0);\n",
       "  border: var(--sklearn-color-fitted-level-3);\n",
       "}\n",
       "\n",
       ".sk-estimator-doc-link:hover span {\n",
       "  display: block;\n",
       "}\n",
       "\n",
       "/* \"?\"-specific style due to the `<a>` HTML tag */\n",
       "\n",
       "#sk-container-id-1 a.estimator_doc_link {\n",
       "  float: right;\n",
       "  font-size: 1rem;\n",
       "  line-height: 1em;\n",
       "  font-family: monospace;\n",
       "  background-color: var(--sklearn-color-background);\n",
       "  border-radius: 1rem;\n",
       "  height: 1rem;\n",
       "  width: 1rem;\n",
       "  text-decoration: none;\n",
       "  /* unfitted */\n",
       "  color: var(--sklearn-color-unfitted-level-1);\n",
       "  border: var(--sklearn-color-unfitted-level-1) 1pt solid;\n",
       "}\n",
       "\n",
       "#sk-container-id-1 a.estimator_doc_link.fitted {\n",
       "  /* fitted */\n",
       "  border: var(--sklearn-color-fitted-level-1) 1pt solid;\n",
       "  color: var(--sklearn-color-fitted-level-1);\n",
       "}\n",
       "\n",
       "/* On hover */\n",
       "#sk-container-id-1 a.estimator_doc_link:hover {\n",
       "  /* unfitted */\n",
       "  background-color: var(--sklearn-color-unfitted-level-3);\n",
       "  color: var(--sklearn-color-background);\n",
       "  text-decoration: none;\n",
       "}\n",
       "\n",
       "#sk-container-id-1 a.estimator_doc_link.fitted:hover {\n",
       "  /* fitted */\n",
       "  background-color: var(--sklearn-color-fitted-level-3);\n",
       "}\n",
       "</style><div id=\"sk-container-id-1\" class=\"sk-top-container\"><div class=\"sk-text-repr-fallback\"><pre>LogisticRegression(max_iter=500)</pre><b>In a Jupyter environment, please rerun this cell to show the HTML representation or trust the notebook. <br />On GitHub, the HTML representation is unable to render, please try loading this page with nbviewer.org.</b></div><div class=\"sk-container\" hidden><div class=\"sk-item\"><div class=\"sk-estimator fitted sk-toggleable\"><input class=\"sk-toggleable__control sk-hidden--visually\" id=\"sk-estimator-id-1\" type=\"checkbox\" checked><label for=\"sk-estimator-id-1\" class=\"sk-toggleable__label fitted sk-toggleable__label-arrow fitted\">&nbsp;&nbsp;LogisticRegression<a class=\"sk-estimator-doc-link fitted\" rel=\"noreferrer\" target=\"_blank\" href=\"https://scikit-learn.org/1.5/modules/generated/sklearn.linear_model.LogisticRegression.html\">?<span>Documentation for LogisticRegression</span></a><span class=\"sk-estimator-doc-link fitted\">i<span>Fitted</span></span></label><div class=\"sk-toggleable__content fitted\"><pre>LogisticRegression(max_iter=500)</pre></div> </div></div></div></div>"
      ],
      "text/plain": [
       "LogisticRegression(max_iter=500)"
      ]
     },
     "execution_count": 39,
     "metadata": {},
     "output_type": "execute_result"
    }
   ],
   "source": [
    "from sklearn.linear_model import LogisticRegression\n",
    "\n",
    "# Vamos usar o parametro max_iter para 500 pois devido a complexidade do dataset o modelo apresenta dificuldades em convergir com um valor menor\n",
    "logistic_regression_model = LogisticRegression(max_iter=500)\n",
    "logistic_regression_model.fit(X_train_cv, y_train_cv)"
   ]
  },
  {
   "cell_type": "code",
   "execution_count": 40,
   "id": "d0dfbb22-84b4-434f-a0d3-84eac87af6b1",
   "metadata": {},
   "outputs": [],
   "source": [
    "from sklearn.metrics import confusion_matrix, accuracy_score, precision_score, recall_score, f1_score\n",
    "\n",
    "y_pred_cv = logistic_regression_model.predict(X_test_cv)"
   ]
  },
  {
   "cell_type": "code",
   "execution_count": 41,
   "id": "4c03a851-beed-40c4-a2f2-973c452637b2",
   "metadata": {},
   "outputs": [],
   "source": [
    "def print_model_performance_metrics(y_test, y_pred, model_name: str, vec_rep: str):\n",
    "    print(f\"Calculando métricas de performance do modelo: {model_name} com a representacao vetorial: {vec_rep}:\\n\")\n",
    "\n",
    "    accuracy = accuracy_score(y_test, y_pred)\n",
    "    print(f'Acurácia: {accuracy:.2f}')\n",
    "    \n",
    "    precision = precision_score(y_test, y_pred)\n",
    "    print(f'Precisão: {precision:.2f}')\n",
    "    \n",
    "    recall = recall_score(y_test, y_pred)\n",
    "    print(f'Recall: {recall:.2f}')\n",
    "    \n",
    "    f1 = f1_score(y_test, y_pred)\n",
    "    print(f'F1 Score: {f1:.2f}')\n",
    "\n",
    "    model_confusion_matrix = confusion_matrix(y_test, y_pred)\n",
    "    \n",
    "    print(f\"\\nMatriz de Confusão do modelo: {model_name} com a representacao vetorial: {vec_rep}:\\n\\n{model_confusion_matrix}\")"
   ]
  },
  {
   "cell_type": "code",
   "execution_count": 42,
   "id": "c14b7e52-c20b-4afe-b023-de1c563fcfaa",
   "metadata": {},
   "outputs": [
    {
     "name": "stdout",
     "output_type": "stream",
     "text": [
      "Calculando métricas de performance do modelo: Regressão Logística com a representacao vetorial: Count Vectorizer:\n",
      "\n",
      "Acurácia: 0.70\n",
      "Precisão: 0.49\n",
      "Recall: 0.39\n",
      "F1 Score: 0.43\n",
      "\n",
      "Matriz de Confusão do modelo: Regressão Logística com a representacao vetorial: Count Vectorizer:\n",
      "\n",
      "[[10421  2158]\n",
      " [ 3299  2098]]\n"
     ]
    }
   ],
   "source": [
    "print_model_performance_metrics(y_test_cv, y_pred_cv, \"Regressão Logística\", \"Count Vectorizer\")"
   ]
  },
  {
   "cell_type": "markdown",
   "id": "9a84702d-5c17-4514-bcd1-ba8ed6098d8b",
   "metadata": {},
   "source": [
    "### Treinando o modelo de regressão logística com TF-IDF"
   ]
  },
  {
   "cell_type": "code",
   "execution_count": 43,
   "id": "979ba758-6c21-4c9a-82e0-4ba8b87051b3",
   "metadata": {},
   "outputs": [
    {
     "ename": "KeyboardInterrupt",
     "evalue": "",
     "output_type": "error",
     "traceback": [
      "\u001b[0;31m---------------------------------------------------------------------------\u001b[0m",
      "\u001b[0;31mKeyboardInterrupt\u001b[0m                         Traceback (most recent call last)",
      "Cell \u001b[0;32mIn[43], line 2\u001b[0m\n\u001b[1;32m      1\u001b[0m tf_logistic_regression_model \u001b[38;5;241m=\u001b[39m LogisticRegression(max_iter\u001b[38;5;241m=\u001b[39m\u001b[38;5;241m500\u001b[39m)\n\u001b[0;32m----> 2\u001b[0m \u001b[43mtf_logistic_regression_model\u001b[49m\u001b[38;5;241;43m.\u001b[39;49m\u001b[43mfit\u001b[49m\u001b[43m(\u001b[49m\u001b[43mX_train_tf\u001b[49m\u001b[43m,\u001b[49m\u001b[43m \u001b[49m\u001b[43my_train_tf\u001b[49m\u001b[43m)\u001b[49m\n",
      "File \u001b[0;32m~/Projects/NLP/venv/lib/python3.12/site-packages/sklearn/base.py:1473\u001b[0m, in \u001b[0;36m_fit_context.<locals>.decorator.<locals>.wrapper\u001b[0;34m(estimator, *args, **kwargs)\u001b[0m\n\u001b[1;32m   1466\u001b[0m     estimator\u001b[38;5;241m.\u001b[39m_validate_params()\n\u001b[1;32m   1468\u001b[0m \u001b[38;5;28;01mwith\u001b[39;00m config_context(\n\u001b[1;32m   1469\u001b[0m     skip_parameter_validation\u001b[38;5;241m=\u001b[39m(\n\u001b[1;32m   1470\u001b[0m         prefer_skip_nested_validation \u001b[38;5;129;01mor\u001b[39;00m global_skip_validation\n\u001b[1;32m   1471\u001b[0m     )\n\u001b[1;32m   1472\u001b[0m ):\n\u001b[0;32m-> 1473\u001b[0m     \u001b[38;5;28;01mreturn\u001b[39;00m \u001b[43mfit_method\u001b[49m\u001b[43m(\u001b[49m\u001b[43mestimator\u001b[49m\u001b[43m,\u001b[49m\u001b[43m \u001b[49m\u001b[38;5;241;43m*\u001b[39;49m\u001b[43margs\u001b[49m\u001b[43m,\u001b[49m\u001b[43m \u001b[49m\u001b[38;5;241;43m*\u001b[39;49m\u001b[38;5;241;43m*\u001b[39;49m\u001b[43mkwargs\u001b[49m\u001b[43m)\u001b[49m\n",
      "File \u001b[0;32m~/Projects/NLP/venv/lib/python3.12/site-packages/sklearn/linear_model/_logistic.py:1350\u001b[0m, in \u001b[0;36mLogisticRegression.fit\u001b[0;34m(self, X, y, sample_weight)\u001b[0m\n\u001b[1;32m   1347\u001b[0m \u001b[38;5;28;01melse\u001b[39;00m:\n\u001b[1;32m   1348\u001b[0m     n_threads \u001b[38;5;241m=\u001b[39m \u001b[38;5;241m1\u001b[39m\n\u001b[0;32m-> 1350\u001b[0m fold_coefs_ \u001b[38;5;241m=\u001b[39m \u001b[43mParallel\u001b[49m\u001b[43m(\u001b[49m\u001b[43mn_jobs\u001b[49m\u001b[38;5;241;43m=\u001b[39;49m\u001b[38;5;28;43mself\u001b[39;49m\u001b[38;5;241;43m.\u001b[39;49m\u001b[43mn_jobs\u001b[49m\u001b[43m,\u001b[49m\u001b[43m \u001b[49m\u001b[43mverbose\u001b[49m\u001b[38;5;241;43m=\u001b[39;49m\u001b[38;5;28;43mself\u001b[39;49m\u001b[38;5;241;43m.\u001b[39;49m\u001b[43mverbose\u001b[49m\u001b[43m,\u001b[49m\u001b[43m \u001b[49m\u001b[43mprefer\u001b[49m\u001b[38;5;241;43m=\u001b[39;49m\u001b[43mprefer\u001b[49m\u001b[43m)\u001b[49m\u001b[43m(\u001b[49m\n\u001b[1;32m   1351\u001b[0m \u001b[43m    \u001b[49m\u001b[43mpath_func\u001b[49m\u001b[43m(\u001b[49m\n\u001b[1;32m   1352\u001b[0m \u001b[43m        \u001b[49m\u001b[43mX\u001b[49m\u001b[43m,\u001b[49m\n\u001b[1;32m   1353\u001b[0m \u001b[43m        \u001b[49m\u001b[43my\u001b[49m\u001b[43m,\u001b[49m\n\u001b[1;32m   1354\u001b[0m \u001b[43m        \u001b[49m\u001b[43mpos_class\u001b[49m\u001b[38;5;241;43m=\u001b[39;49m\u001b[43mclass_\u001b[49m\u001b[43m,\u001b[49m\n\u001b[1;32m   1355\u001b[0m \u001b[43m        \u001b[49m\u001b[43mCs\u001b[49m\u001b[38;5;241;43m=\u001b[39;49m\u001b[43m[\u001b[49m\u001b[43mC_\u001b[49m\u001b[43m]\u001b[49m\u001b[43m,\u001b[49m\n\u001b[1;32m   1356\u001b[0m \u001b[43m        \u001b[49m\u001b[43ml1_ratio\u001b[49m\u001b[38;5;241;43m=\u001b[39;49m\u001b[38;5;28;43mself\u001b[39;49m\u001b[38;5;241;43m.\u001b[39;49m\u001b[43ml1_ratio\u001b[49m\u001b[43m,\u001b[49m\n\u001b[1;32m   1357\u001b[0m \u001b[43m        \u001b[49m\u001b[43mfit_intercept\u001b[49m\u001b[38;5;241;43m=\u001b[39;49m\u001b[38;5;28;43mself\u001b[39;49m\u001b[38;5;241;43m.\u001b[39;49m\u001b[43mfit_intercept\u001b[49m\u001b[43m,\u001b[49m\n\u001b[1;32m   1358\u001b[0m \u001b[43m        \u001b[49m\u001b[43mtol\u001b[49m\u001b[38;5;241;43m=\u001b[39;49m\u001b[38;5;28;43mself\u001b[39;49m\u001b[38;5;241;43m.\u001b[39;49m\u001b[43mtol\u001b[49m\u001b[43m,\u001b[49m\n\u001b[1;32m   1359\u001b[0m \u001b[43m        \u001b[49m\u001b[43mverbose\u001b[49m\u001b[38;5;241;43m=\u001b[39;49m\u001b[38;5;28;43mself\u001b[39;49m\u001b[38;5;241;43m.\u001b[39;49m\u001b[43mverbose\u001b[49m\u001b[43m,\u001b[49m\n\u001b[1;32m   1360\u001b[0m \u001b[43m        \u001b[49m\u001b[43msolver\u001b[49m\u001b[38;5;241;43m=\u001b[39;49m\u001b[43msolver\u001b[49m\u001b[43m,\u001b[49m\n\u001b[1;32m   1361\u001b[0m \u001b[43m        \u001b[49m\u001b[43mmulti_class\u001b[49m\u001b[38;5;241;43m=\u001b[39;49m\u001b[43mmulti_class\u001b[49m\u001b[43m,\u001b[49m\n\u001b[1;32m   1362\u001b[0m \u001b[43m        \u001b[49m\u001b[43mmax_iter\u001b[49m\u001b[38;5;241;43m=\u001b[39;49m\u001b[38;5;28;43mself\u001b[39;49m\u001b[38;5;241;43m.\u001b[39;49m\u001b[43mmax_iter\u001b[49m\u001b[43m,\u001b[49m\n\u001b[1;32m   1363\u001b[0m \u001b[43m        \u001b[49m\u001b[43mclass_weight\u001b[49m\u001b[38;5;241;43m=\u001b[39;49m\u001b[38;5;28;43mself\u001b[39;49m\u001b[38;5;241;43m.\u001b[39;49m\u001b[43mclass_weight\u001b[49m\u001b[43m,\u001b[49m\n\u001b[1;32m   1364\u001b[0m \u001b[43m        \u001b[49m\u001b[43mcheck_input\u001b[49m\u001b[38;5;241;43m=\u001b[39;49m\u001b[38;5;28;43;01mFalse\u001b[39;49;00m\u001b[43m,\u001b[49m\n\u001b[1;32m   1365\u001b[0m \u001b[43m        \u001b[49m\u001b[43mrandom_state\u001b[49m\u001b[38;5;241;43m=\u001b[39;49m\u001b[38;5;28;43mself\u001b[39;49m\u001b[38;5;241;43m.\u001b[39;49m\u001b[43mrandom_state\u001b[49m\u001b[43m,\u001b[49m\n\u001b[1;32m   1366\u001b[0m \u001b[43m        \u001b[49m\u001b[43mcoef\u001b[49m\u001b[38;5;241;43m=\u001b[39;49m\u001b[43mwarm_start_coef_\u001b[49m\u001b[43m,\u001b[49m\n\u001b[1;32m   1367\u001b[0m \u001b[43m        \u001b[49m\u001b[43mpenalty\u001b[49m\u001b[38;5;241;43m=\u001b[39;49m\u001b[43mpenalty\u001b[49m\u001b[43m,\u001b[49m\n\u001b[1;32m   1368\u001b[0m \u001b[43m        \u001b[49m\u001b[43mmax_squared_sum\u001b[49m\u001b[38;5;241;43m=\u001b[39;49m\u001b[43mmax_squared_sum\u001b[49m\u001b[43m,\u001b[49m\n\u001b[1;32m   1369\u001b[0m \u001b[43m        \u001b[49m\u001b[43msample_weight\u001b[49m\u001b[38;5;241;43m=\u001b[39;49m\u001b[43msample_weight\u001b[49m\u001b[43m,\u001b[49m\n\u001b[1;32m   1370\u001b[0m \u001b[43m        \u001b[49m\u001b[43mn_threads\u001b[49m\u001b[38;5;241;43m=\u001b[39;49m\u001b[43mn_threads\u001b[49m\u001b[43m,\u001b[49m\n\u001b[1;32m   1371\u001b[0m \u001b[43m    \u001b[49m\u001b[43m)\u001b[49m\n\u001b[1;32m   1372\u001b[0m \u001b[43m    \u001b[49m\u001b[38;5;28;43;01mfor\u001b[39;49;00m\u001b[43m \u001b[49m\u001b[43mclass_\u001b[49m\u001b[43m,\u001b[49m\u001b[43m \u001b[49m\u001b[43mwarm_start_coef_\u001b[49m\u001b[43m \u001b[49m\u001b[38;5;129;43;01min\u001b[39;49;00m\u001b[43m \u001b[49m\u001b[38;5;28;43mzip\u001b[39;49m\u001b[43m(\u001b[49m\u001b[43mclasses_\u001b[49m\u001b[43m,\u001b[49m\u001b[43m \u001b[49m\u001b[43mwarm_start_coef\u001b[49m\u001b[43m)\u001b[49m\n\u001b[1;32m   1373\u001b[0m \u001b[43m\u001b[49m\u001b[43m)\u001b[49m\n\u001b[1;32m   1375\u001b[0m fold_coefs_, _, n_iter_ \u001b[38;5;241m=\u001b[39m \u001b[38;5;28mzip\u001b[39m(\u001b[38;5;241m*\u001b[39mfold_coefs_)\n\u001b[1;32m   1376\u001b[0m \u001b[38;5;28mself\u001b[39m\u001b[38;5;241m.\u001b[39mn_iter_ \u001b[38;5;241m=\u001b[39m np\u001b[38;5;241m.\u001b[39masarray(n_iter_, dtype\u001b[38;5;241m=\u001b[39mnp\u001b[38;5;241m.\u001b[39mint32)[:, \u001b[38;5;241m0\u001b[39m]\n",
      "File \u001b[0;32m~/Projects/NLP/venv/lib/python3.12/site-packages/sklearn/utils/parallel.py:74\u001b[0m, in \u001b[0;36mParallel.__call__\u001b[0;34m(self, iterable)\u001b[0m\n\u001b[1;32m     69\u001b[0m config \u001b[38;5;241m=\u001b[39m get_config()\n\u001b[1;32m     70\u001b[0m iterable_with_config \u001b[38;5;241m=\u001b[39m (\n\u001b[1;32m     71\u001b[0m     (_with_config(delayed_func, config), args, kwargs)\n\u001b[1;32m     72\u001b[0m     \u001b[38;5;28;01mfor\u001b[39;00m delayed_func, args, kwargs \u001b[38;5;129;01min\u001b[39;00m iterable\n\u001b[1;32m     73\u001b[0m )\n\u001b[0;32m---> 74\u001b[0m \u001b[38;5;28;01mreturn\u001b[39;00m \u001b[38;5;28;43msuper\u001b[39;49m\u001b[43m(\u001b[49m\u001b[43m)\u001b[49m\u001b[38;5;241;43m.\u001b[39;49m\u001b[38;5;21;43m__call__\u001b[39;49m\u001b[43m(\u001b[49m\u001b[43miterable_with_config\u001b[49m\u001b[43m)\u001b[49m\n",
      "File \u001b[0;32m~/Projects/NLP/venv/lib/python3.12/site-packages/joblib/parallel.py:1918\u001b[0m, in \u001b[0;36mParallel.__call__\u001b[0;34m(self, iterable)\u001b[0m\n\u001b[1;32m   1916\u001b[0m     output \u001b[38;5;241m=\u001b[39m \u001b[38;5;28mself\u001b[39m\u001b[38;5;241m.\u001b[39m_get_sequential_output(iterable)\n\u001b[1;32m   1917\u001b[0m     \u001b[38;5;28mnext\u001b[39m(output)\n\u001b[0;32m-> 1918\u001b[0m     \u001b[38;5;28;01mreturn\u001b[39;00m output \u001b[38;5;28;01mif\u001b[39;00m \u001b[38;5;28mself\u001b[39m\u001b[38;5;241m.\u001b[39mreturn_generator \u001b[38;5;28;01melse\u001b[39;00m \u001b[38;5;28;43mlist\u001b[39;49m\u001b[43m(\u001b[49m\u001b[43moutput\u001b[49m\u001b[43m)\u001b[49m\n\u001b[1;32m   1920\u001b[0m \u001b[38;5;66;03m# Let's create an ID that uniquely identifies the current call. If the\u001b[39;00m\n\u001b[1;32m   1921\u001b[0m \u001b[38;5;66;03m# call is interrupted early and that the same instance is immediately\u001b[39;00m\n\u001b[1;32m   1922\u001b[0m \u001b[38;5;66;03m# re-used, this id will be used to prevent workers that were\u001b[39;00m\n\u001b[1;32m   1923\u001b[0m \u001b[38;5;66;03m# concurrently finalizing a task from the previous call to run the\u001b[39;00m\n\u001b[1;32m   1924\u001b[0m \u001b[38;5;66;03m# callback.\u001b[39;00m\n\u001b[1;32m   1925\u001b[0m \u001b[38;5;28;01mwith\u001b[39;00m \u001b[38;5;28mself\u001b[39m\u001b[38;5;241m.\u001b[39m_lock:\n",
      "File \u001b[0;32m~/Projects/NLP/venv/lib/python3.12/site-packages/joblib/parallel.py:1847\u001b[0m, in \u001b[0;36mParallel._get_sequential_output\u001b[0;34m(self, iterable)\u001b[0m\n\u001b[1;32m   1845\u001b[0m \u001b[38;5;28mself\u001b[39m\u001b[38;5;241m.\u001b[39mn_dispatched_batches \u001b[38;5;241m+\u001b[39m\u001b[38;5;241m=\u001b[39m \u001b[38;5;241m1\u001b[39m\n\u001b[1;32m   1846\u001b[0m \u001b[38;5;28mself\u001b[39m\u001b[38;5;241m.\u001b[39mn_dispatched_tasks \u001b[38;5;241m+\u001b[39m\u001b[38;5;241m=\u001b[39m \u001b[38;5;241m1\u001b[39m\n\u001b[0;32m-> 1847\u001b[0m res \u001b[38;5;241m=\u001b[39m \u001b[43mfunc\u001b[49m\u001b[43m(\u001b[49m\u001b[38;5;241;43m*\u001b[39;49m\u001b[43margs\u001b[49m\u001b[43m,\u001b[49m\u001b[43m \u001b[49m\u001b[38;5;241;43m*\u001b[39;49m\u001b[38;5;241;43m*\u001b[39;49m\u001b[43mkwargs\u001b[49m\u001b[43m)\u001b[49m\n\u001b[1;32m   1848\u001b[0m \u001b[38;5;28mself\u001b[39m\u001b[38;5;241m.\u001b[39mn_completed_tasks \u001b[38;5;241m+\u001b[39m\u001b[38;5;241m=\u001b[39m \u001b[38;5;241m1\u001b[39m\n\u001b[1;32m   1849\u001b[0m \u001b[38;5;28mself\u001b[39m\u001b[38;5;241m.\u001b[39mprint_progress()\n",
      "File \u001b[0;32m~/Projects/NLP/venv/lib/python3.12/site-packages/sklearn/utils/parallel.py:136\u001b[0m, in \u001b[0;36m_FuncWrapper.__call__\u001b[0;34m(self, *args, **kwargs)\u001b[0m\n\u001b[1;32m    134\u001b[0m     config \u001b[38;5;241m=\u001b[39m {}\n\u001b[1;32m    135\u001b[0m \u001b[38;5;28;01mwith\u001b[39;00m config_context(\u001b[38;5;241m*\u001b[39m\u001b[38;5;241m*\u001b[39mconfig):\n\u001b[0;32m--> 136\u001b[0m     \u001b[38;5;28;01mreturn\u001b[39;00m \u001b[38;5;28;43mself\u001b[39;49m\u001b[38;5;241;43m.\u001b[39;49m\u001b[43mfunction\u001b[49m\u001b[43m(\u001b[49m\u001b[38;5;241;43m*\u001b[39;49m\u001b[43margs\u001b[49m\u001b[43m,\u001b[49m\u001b[43m \u001b[49m\u001b[38;5;241;43m*\u001b[39;49m\u001b[38;5;241;43m*\u001b[39;49m\u001b[43mkwargs\u001b[49m\u001b[43m)\u001b[49m\n",
      "File \u001b[0;32m~/Projects/NLP/venv/lib/python3.12/site-packages/sklearn/linear_model/_logistic.py:455\u001b[0m, in \u001b[0;36m_logistic_regression_path\u001b[0;34m(X, y, pos_class, Cs, fit_intercept, max_iter, tol, verbose, solver, coef, class_weight, dual, penalty, intercept_scaling, multi_class, random_state, check_input, max_squared_sum, sample_weight, l1_ratio, n_threads)\u001b[0m\n\u001b[1;32m    451\u001b[0m l2_reg_strength \u001b[38;5;241m=\u001b[39m \u001b[38;5;241m1.0\u001b[39m \u001b[38;5;241m/\u001b[39m (C \u001b[38;5;241m*\u001b[39m sw_sum)\n\u001b[1;32m    452\u001b[0m iprint \u001b[38;5;241m=\u001b[39m [\u001b[38;5;241m-\u001b[39m\u001b[38;5;241m1\u001b[39m, \u001b[38;5;241m50\u001b[39m, \u001b[38;5;241m1\u001b[39m, \u001b[38;5;241m100\u001b[39m, \u001b[38;5;241m101\u001b[39m][\n\u001b[1;32m    453\u001b[0m     np\u001b[38;5;241m.\u001b[39msearchsorted(np\u001b[38;5;241m.\u001b[39marray([\u001b[38;5;241m0\u001b[39m, \u001b[38;5;241m1\u001b[39m, \u001b[38;5;241m2\u001b[39m, \u001b[38;5;241m3\u001b[39m]), verbose)\n\u001b[1;32m    454\u001b[0m ]\n\u001b[0;32m--> 455\u001b[0m opt_res \u001b[38;5;241m=\u001b[39m \u001b[43moptimize\u001b[49m\u001b[38;5;241;43m.\u001b[39;49m\u001b[43mminimize\u001b[49m\u001b[43m(\u001b[49m\n\u001b[1;32m    456\u001b[0m \u001b[43m    \u001b[49m\u001b[43mfunc\u001b[49m\u001b[43m,\u001b[49m\n\u001b[1;32m    457\u001b[0m \u001b[43m    \u001b[49m\u001b[43mw0\u001b[49m\u001b[43m,\u001b[49m\n\u001b[1;32m    458\u001b[0m \u001b[43m    \u001b[49m\u001b[43mmethod\u001b[49m\u001b[38;5;241;43m=\u001b[39;49m\u001b[38;5;124;43m\"\u001b[39;49m\u001b[38;5;124;43mL-BFGS-B\u001b[39;49m\u001b[38;5;124;43m\"\u001b[39;49m\u001b[43m,\u001b[49m\n\u001b[1;32m    459\u001b[0m \u001b[43m    \u001b[49m\u001b[43mjac\u001b[49m\u001b[38;5;241;43m=\u001b[39;49m\u001b[38;5;28;43;01mTrue\u001b[39;49;00m\u001b[43m,\u001b[49m\n\u001b[1;32m    460\u001b[0m \u001b[43m    \u001b[49m\u001b[43margs\u001b[49m\u001b[38;5;241;43m=\u001b[39;49m\u001b[43m(\u001b[49m\u001b[43mX\u001b[49m\u001b[43m,\u001b[49m\u001b[43m \u001b[49m\u001b[43mtarget\u001b[49m\u001b[43m,\u001b[49m\u001b[43m \u001b[49m\u001b[43msample_weight\u001b[49m\u001b[43m,\u001b[49m\u001b[43m \u001b[49m\u001b[43ml2_reg_strength\u001b[49m\u001b[43m,\u001b[49m\u001b[43m \u001b[49m\u001b[43mn_threads\u001b[49m\u001b[43m)\u001b[49m\u001b[43m,\u001b[49m\n\u001b[1;32m    461\u001b[0m \u001b[43m    \u001b[49m\u001b[43moptions\u001b[49m\u001b[38;5;241;43m=\u001b[39;49m\u001b[43m{\u001b[49m\n\u001b[1;32m    462\u001b[0m \u001b[43m        \u001b[49m\u001b[38;5;124;43m\"\u001b[39;49m\u001b[38;5;124;43mmaxiter\u001b[39;49m\u001b[38;5;124;43m\"\u001b[39;49m\u001b[43m:\u001b[49m\u001b[43m \u001b[49m\u001b[43mmax_iter\u001b[49m\u001b[43m,\u001b[49m\n\u001b[1;32m    463\u001b[0m \u001b[43m        \u001b[49m\u001b[38;5;124;43m\"\u001b[39;49m\u001b[38;5;124;43mmaxls\u001b[39;49m\u001b[38;5;124;43m\"\u001b[39;49m\u001b[43m:\u001b[49m\u001b[43m \u001b[49m\u001b[38;5;241;43m50\u001b[39;49m\u001b[43m,\u001b[49m\u001b[43m  \u001b[49m\u001b[38;5;66;43;03m# default is 20\u001b[39;49;00m\n\u001b[1;32m    464\u001b[0m \u001b[43m        \u001b[49m\u001b[38;5;124;43m\"\u001b[39;49m\u001b[38;5;124;43miprint\u001b[39;49m\u001b[38;5;124;43m\"\u001b[39;49m\u001b[43m:\u001b[49m\u001b[43m \u001b[49m\u001b[43miprint\u001b[49m\u001b[43m,\u001b[49m\n\u001b[1;32m    465\u001b[0m \u001b[43m        \u001b[49m\u001b[38;5;124;43m\"\u001b[39;49m\u001b[38;5;124;43mgtol\u001b[39;49m\u001b[38;5;124;43m\"\u001b[39;49m\u001b[43m:\u001b[49m\u001b[43m \u001b[49m\u001b[43mtol\u001b[49m\u001b[43m,\u001b[49m\n\u001b[1;32m    466\u001b[0m \u001b[43m        \u001b[49m\u001b[38;5;124;43m\"\u001b[39;49m\u001b[38;5;124;43mftol\u001b[39;49m\u001b[38;5;124;43m\"\u001b[39;49m\u001b[43m:\u001b[49m\u001b[43m \u001b[49m\u001b[38;5;241;43m64\u001b[39;49m\u001b[43m \u001b[49m\u001b[38;5;241;43m*\u001b[39;49m\u001b[43m \u001b[49m\u001b[43mnp\u001b[49m\u001b[38;5;241;43m.\u001b[39;49m\u001b[43mfinfo\u001b[49m\u001b[43m(\u001b[49m\u001b[38;5;28;43mfloat\u001b[39;49m\u001b[43m)\u001b[49m\u001b[38;5;241;43m.\u001b[39;49m\u001b[43meps\u001b[49m\u001b[43m,\u001b[49m\n\u001b[1;32m    467\u001b[0m \u001b[43m    \u001b[49m\u001b[43m}\u001b[49m\u001b[43m,\u001b[49m\n\u001b[1;32m    468\u001b[0m \u001b[43m\u001b[49m\u001b[43m)\u001b[49m\n\u001b[1;32m    469\u001b[0m n_iter_i \u001b[38;5;241m=\u001b[39m _check_optimize_result(\n\u001b[1;32m    470\u001b[0m     solver,\n\u001b[1;32m    471\u001b[0m     opt_res,\n\u001b[1;32m    472\u001b[0m     max_iter,\n\u001b[1;32m    473\u001b[0m     extra_warning_msg\u001b[38;5;241m=\u001b[39m_LOGISTIC_SOLVER_CONVERGENCE_MSG,\n\u001b[1;32m    474\u001b[0m )\n\u001b[1;32m    475\u001b[0m w0, loss \u001b[38;5;241m=\u001b[39m opt_res\u001b[38;5;241m.\u001b[39mx, opt_res\u001b[38;5;241m.\u001b[39mfun\n",
      "File \u001b[0;32m~/Projects/NLP/venv/lib/python3.12/site-packages/scipy/optimize/_minimize.py:713\u001b[0m, in \u001b[0;36mminimize\u001b[0;34m(fun, x0, args, method, jac, hess, hessp, bounds, constraints, tol, callback, options)\u001b[0m\n\u001b[1;32m    710\u001b[0m     res \u001b[38;5;241m=\u001b[39m _minimize_newtoncg(fun, x0, args, jac, hess, hessp, callback,\n\u001b[1;32m    711\u001b[0m                              \u001b[38;5;241m*\u001b[39m\u001b[38;5;241m*\u001b[39moptions)\n\u001b[1;32m    712\u001b[0m \u001b[38;5;28;01melif\u001b[39;00m meth \u001b[38;5;241m==\u001b[39m \u001b[38;5;124m'\u001b[39m\u001b[38;5;124ml-bfgs-b\u001b[39m\u001b[38;5;124m'\u001b[39m:\n\u001b[0;32m--> 713\u001b[0m     res \u001b[38;5;241m=\u001b[39m \u001b[43m_minimize_lbfgsb\u001b[49m\u001b[43m(\u001b[49m\u001b[43mfun\u001b[49m\u001b[43m,\u001b[49m\u001b[43m \u001b[49m\u001b[43mx0\u001b[49m\u001b[43m,\u001b[49m\u001b[43m \u001b[49m\u001b[43margs\u001b[49m\u001b[43m,\u001b[49m\u001b[43m \u001b[49m\u001b[43mjac\u001b[49m\u001b[43m,\u001b[49m\u001b[43m \u001b[49m\u001b[43mbounds\u001b[49m\u001b[43m,\u001b[49m\n\u001b[1;32m    714\u001b[0m \u001b[43m                           \u001b[49m\u001b[43mcallback\u001b[49m\u001b[38;5;241;43m=\u001b[39;49m\u001b[43mcallback\u001b[49m\u001b[43m,\u001b[49m\u001b[43m \u001b[49m\u001b[38;5;241;43m*\u001b[39;49m\u001b[38;5;241;43m*\u001b[39;49m\u001b[43moptions\u001b[49m\u001b[43m)\u001b[49m\n\u001b[1;32m    715\u001b[0m \u001b[38;5;28;01melif\u001b[39;00m meth \u001b[38;5;241m==\u001b[39m \u001b[38;5;124m'\u001b[39m\u001b[38;5;124mtnc\u001b[39m\u001b[38;5;124m'\u001b[39m:\n\u001b[1;32m    716\u001b[0m     res \u001b[38;5;241m=\u001b[39m _minimize_tnc(fun, x0, args, jac, bounds, callback\u001b[38;5;241m=\u001b[39mcallback,\n\u001b[1;32m    717\u001b[0m                         \u001b[38;5;241m*\u001b[39m\u001b[38;5;241m*\u001b[39moptions)\n",
      "File \u001b[0;32m~/Projects/NLP/venv/lib/python3.12/site-packages/scipy/optimize/_lbfgsb_py.py:407\u001b[0m, in \u001b[0;36m_minimize_lbfgsb\u001b[0;34m(fun, x0, args, jac, bounds, disp, maxcor, ftol, gtol, eps, maxfun, maxiter, iprint, callback, maxls, finite_diff_rel_step, **unknown_options)\u001b[0m\n\u001b[1;32m    401\u001b[0m task_str \u001b[38;5;241m=\u001b[39m task\u001b[38;5;241m.\u001b[39mtobytes()\n\u001b[1;32m    402\u001b[0m \u001b[38;5;28;01mif\u001b[39;00m task_str\u001b[38;5;241m.\u001b[39mstartswith(\u001b[38;5;124mb\u001b[39m\u001b[38;5;124m'\u001b[39m\u001b[38;5;124mFG\u001b[39m\u001b[38;5;124m'\u001b[39m):\n\u001b[1;32m    403\u001b[0m     \u001b[38;5;66;03m# The minimization routine wants f and g at the current x.\u001b[39;00m\n\u001b[1;32m    404\u001b[0m     \u001b[38;5;66;03m# Note that interruptions due to maxfun are postponed\u001b[39;00m\n\u001b[1;32m    405\u001b[0m     \u001b[38;5;66;03m# until the completion of the current minimization iteration.\u001b[39;00m\n\u001b[1;32m    406\u001b[0m     \u001b[38;5;66;03m# Overwrite f and g:\u001b[39;00m\n\u001b[0;32m--> 407\u001b[0m     f, g \u001b[38;5;241m=\u001b[39m \u001b[43mfunc_and_grad\u001b[49m\u001b[43m(\u001b[49m\u001b[43mx\u001b[49m\u001b[43m)\u001b[49m\n\u001b[1;32m    408\u001b[0m \u001b[38;5;28;01melif\u001b[39;00m task_str\u001b[38;5;241m.\u001b[39mstartswith(\u001b[38;5;124mb\u001b[39m\u001b[38;5;124m'\u001b[39m\u001b[38;5;124mNEW_X\u001b[39m\u001b[38;5;124m'\u001b[39m):\n\u001b[1;32m    409\u001b[0m     \u001b[38;5;66;03m# new iteration\u001b[39;00m\n\u001b[1;32m    410\u001b[0m     n_iterations \u001b[38;5;241m+\u001b[39m\u001b[38;5;241m=\u001b[39m \u001b[38;5;241m1\u001b[39m\n",
      "File \u001b[0;32m~/Projects/NLP/venv/lib/python3.12/site-packages/scipy/optimize/_differentiable_functions.py:296\u001b[0m, in \u001b[0;36mScalarFunction.fun_and_grad\u001b[0;34m(self, x)\u001b[0m\n\u001b[1;32m    294\u001b[0m \u001b[38;5;28;01mif\u001b[39;00m \u001b[38;5;129;01mnot\u001b[39;00m np\u001b[38;5;241m.\u001b[39marray_equal(x, \u001b[38;5;28mself\u001b[39m\u001b[38;5;241m.\u001b[39mx):\n\u001b[1;32m    295\u001b[0m     \u001b[38;5;28mself\u001b[39m\u001b[38;5;241m.\u001b[39m_update_x_impl(x)\n\u001b[0;32m--> 296\u001b[0m \u001b[38;5;28;43mself\u001b[39;49m\u001b[38;5;241;43m.\u001b[39;49m\u001b[43m_update_fun\u001b[49m\u001b[43m(\u001b[49m\u001b[43m)\u001b[49m\n\u001b[1;32m    297\u001b[0m \u001b[38;5;28mself\u001b[39m\u001b[38;5;241m.\u001b[39m_update_grad()\n\u001b[1;32m    298\u001b[0m \u001b[38;5;28;01mreturn\u001b[39;00m \u001b[38;5;28mself\u001b[39m\u001b[38;5;241m.\u001b[39mf, \u001b[38;5;28mself\u001b[39m\u001b[38;5;241m.\u001b[39mg\n",
      "File \u001b[0;32m~/Projects/NLP/venv/lib/python3.12/site-packages/scipy/optimize/_differentiable_functions.py:262\u001b[0m, in \u001b[0;36mScalarFunction._update_fun\u001b[0;34m(self)\u001b[0m\n\u001b[1;32m    260\u001b[0m \u001b[38;5;28;01mdef\u001b[39;00m \u001b[38;5;21m_update_fun\u001b[39m(\u001b[38;5;28mself\u001b[39m):\n\u001b[1;32m    261\u001b[0m     \u001b[38;5;28;01mif\u001b[39;00m \u001b[38;5;129;01mnot\u001b[39;00m \u001b[38;5;28mself\u001b[39m\u001b[38;5;241m.\u001b[39mf_updated:\n\u001b[0;32m--> 262\u001b[0m         \u001b[38;5;28;43mself\u001b[39;49m\u001b[38;5;241;43m.\u001b[39;49m\u001b[43m_update_fun_impl\u001b[49m\u001b[43m(\u001b[49m\u001b[43m)\u001b[49m\n\u001b[1;32m    263\u001b[0m         \u001b[38;5;28mself\u001b[39m\u001b[38;5;241m.\u001b[39mf_updated \u001b[38;5;241m=\u001b[39m \u001b[38;5;28;01mTrue\u001b[39;00m\n",
      "File \u001b[0;32m~/Projects/NLP/venv/lib/python3.12/site-packages/scipy/optimize/_differentiable_functions.py:163\u001b[0m, in \u001b[0;36mScalarFunction.__init__.<locals>.update_fun\u001b[0;34m()\u001b[0m\n\u001b[1;32m    162\u001b[0m \u001b[38;5;28;01mdef\u001b[39;00m \u001b[38;5;21mupdate_fun\u001b[39m():\n\u001b[0;32m--> 163\u001b[0m     \u001b[38;5;28mself\u001b[39m\u001b[38;5;241m.\u001b[39mf \u001b[38;5;241m=\u001b[39m \u001b[43mfun_wrapped\u001b[49m\u001b[43m(\u001b[49m\u001b[38;5;28;43mself\u001b[39;49m\u001b[38;5;241;43m.\u001b[39;49m\u001b[43mx\u001b[49m\u001b[43m)\u001b[49m\n",
      "File \u001b[0;32m~/Projects/NLP/venv/lib/python3.12/site-packages/scipy/optimize/_differentiable_functions.py:145\u001b[0m, in \u001b[0;36mScalarFunction.__init__.<locals>.fun_wrapped\u001b[0;34m(x)\u001b[0m\n\u001b[1;32m    141\u001b[0m \u001b[38;5;28mself\u001b[39m\u001b[38;5;241m.\u001b[39mnfev \u001b[38;5;241m+\u001b[39m\u001b[38;5;241m=\u001b[39m \u001b[38;5;241m1\u001b[39m\n\u001b[1;32m    142\u001b[0m \u001b[38;5;66;03m# Send a copy because the user may overwrite it.\u001b[39;00m\n\u001b[1;32m    143\u001b[0m \u001b[38;5;66;03m# Overwriting results in undefined behaviour because\u001b[39;00m\n\u001b[1;32m    144\u001b[0m \u001b[38;5;66;03m# fun(self.x) will change self.x, with the two no longer linked.\u001b[39;00m\n\u001b[0;32m--> 145\u001b[0m fx \u001b[38;5;241m=\u001b[39m \u001b[43mfun\u001b[49m\u001b[43m(\u001b[49m\u001b[43mnp\u001b[49m\u001b[38;5;241;43m.\u001b[39;49m\u001b[43mcopy\u001b[49m\u001b[43m(\u001b[49m\u001b[43mx\u001b[49m\u001b[43m)\u001b[49m\u001b[43m,\u001b[49m\u001b[43m \u001b[49m\u001b[38;5;241;43m*\u001b[39;49m\u001b[43margs\u001b[49m\u001b[43m)\u001b[49m\n\u001b[1;32m    146\u001b[0m \u001b[38;5;66;03m# Make sure the function returns a true scalar\u001b[39;00m\n\u001b[1;32m    147\u001b[0m \u001b[38;5;28;01mif\u001b[39;00m \u001b[38;5;129;01mnot\u001b[39;00m np\u001b[38;5;241m.\u001b[39misscalar(fx):\n",
      "File \u001b[0;32m~/Projects/NLP/venv/lib/python3.12/site-packages/scipy/optimize/_optimize.py:79\u001b[0m, in \u001b[0;36mMemoizeJac.__call__\u001b[0;34m(self, x, *args)\u001b[0m\n\u001b[1;32m     77\u001b[0m \u001b[38;5;28;01mdef\u001b[39;00m \u001b[38;5;21m__call__\u001b[39m(\u001b[38;5;28mself\u001b[39m, x, \u001b[38;5;241m*\u001b[39margs):\n\u001b[1;32m     78\u001b[0m \u001b[38;5;250m    \u001b[39m\u001b[38;5;124;03m\"\"\" returns the function value \"\"\"\u001b[39;00m\n\u001b[0;32m---> 79\u001b[0m     \u001b[38;5;28;43mself\u001b[39;49m\u001b[38;5;241;43m.\u001b[39;49m\u001b[43m_compute_if_needed\u001b[49m\u001b[43m(\u001b[49m\u001b[43mx\u001b[49m\u001b[43m,\u001b[49m\u001b[43m \u001b[49m\u001b[38;5;241;43m*\u001b[39;49m\u001b[43margs\u001b[49m\u001b[43m)\u001b[49m\n\u001b[1;32m     80\u001b[0m     \u001b[38;5;28;01mreturn\u001b[39;00m \u001b[38;5;28mself\u001b[39m\u001b[38;5;241m.\u001b[39m_value\n",
      "File \u001b[0;32m~/Projects/NLP/venv/lib/python3.12/site-packages/scipy/optimize/_optimize.py:73\u001b[0m, in \u001b[0;36mMemoizeJac._compute_if_needed\u001b[0;34m(self, x, *args)\u001b[0m\n\u001b[1;32m     71\u001b[0m \u001b[38;5;28;01mif\u001b[39;00m \u001b[38;5;129;01mnot\u001b[39;00m np\u001b[38;5;241m.\u001b[39mall(x \u001b[38;5;241m==\u001b[39m \u001b[38;5;28mself\u001b[39m\u001b[38;5;241m.\u001b[39mx) \u001b[38;5;129;01mor\u001b[39;00m \u001b[38;5;28mself\u001b[39m\u001b[38;5;241m.\u001b[39m_value \u001b[38;5;129;01mis\u001b[39;00m \u001b[38;5;28;01mNone\u001b[39;00m \u001b[38;5;129;01mor\u001b[39;00m \u001b[38;5;28mself\u001b[39m\u001b[38;5;241m.\u001b[39mjac \u001b[38;5;129;01mis\u001b[39;00m \u001b[38;5;28;01mNone\u001b[39;00m:\n\u001b[1;32m     72\u001b[0m     \u001b[38;5;28mself\u001b[39m\u001b[38;5;241m.\u001b[39mx \u001b[38;5;241m=\u001b[39m np\u001b[38;5;241m.\u001b[39masarray(x)\u001b[38;5;241m.\u001b[39mcopy()\n\u001b[0;32m---> 73\u001b[0m     fg \u001b[38;5;241m=\u001b[39m \u001b[38;5;28;43mself\u001b[39;49m\u001b[38;5;241;43m.\u001b[39;49m\u001b[43mfun\u001b[49m\u001b[43m(\u001b[49m\u001b[43mx\u001b[49m\u001b[43m,\u001b[49m\u001b[43m \u001b[49m\u001b[38;5;241;43m*\u001b[39;49m\u001b[43margs\u001b[49m\u001b[43m)\u001b[49m\n\u001b[1;32m     74\u001b[0m     \u001b[38;5;28mself\u001b[39m\u001b[38;5;241m.\u001b[39mjac \u001b[38;5;241m=\u001b[39m fg[\u001b[38;5;241m1\u001b[39m]\n\u001b[1;32m     75\u001b[0m     \u001b[38;5;28mself\u001b[39m\u001b[38;5;241m.\u001b[39m_value \u001b[38;5;241m=\u001b[39m fg[\u001b[38;5;241m0\u001b[39m]\n",
      "File \u001b[0;32m~/Projects/NLP/venv/lib/python3.12/site-packages/sklearn/linear_model/_linear_loss.py:297\u001b[0m, in \u001b[0;36mLinearModelLoss.loss_gradient\u001b[0;34m(self, coef, X, y, sample_weight, l2_reg_strength, n_threads, raw_prediction)\u001b[0m\n\u001b[1;32m    295\u001b[0m     grad[:n_features] \u001b[38;5;241m=\u001b[39m X\u001b[38;5;241m.\u001b[39mT \u001b[38;5;241m@\u001b[39m grad_pointwise \u001b[38;5;241m+\u001b[39m l2_reg_strength \u001b[38;5;241m*\u001b[39m weights\n\u001b[1;32m    296\u001b[0m     \u001b[38;5;28;01mif\u001b[39;00m \u001b[38;5;28mself\u001b[39m\u001b[38;5;241m.\u001b[39mfit_intercept:\n\u001b[0;32m--> 297\u001b[0m         grad[\u001b[38;5;241m-\u001b[39m\u001b[38;5;241m1\u001b[39m] \u001b[38;5;241m=\u001b[39m \u001b[43mgrad_pointwise\u001b[49m\u001b[38;5;241;43m.\u001b[39;49m\u001b[43msum\u001b[49m\u001b[43m(\u001b[49m\u001b[43m)\u001b[49m\n\u001b[1;32m    298\u001b[0m \u001b[38;5;28;01melse\u001b[39;00m:\n\u001b[1;32m    299\u001b[0m     grad \u001b[38;5;241m=\u001b[39m np\u001b[38;5;241m.\u001b[39mempty((n_classes, n_dof), dtype\u001b[38;5;241m=\u001b[39mweights\u001b[38;5;241m.\u001b[39mdtype, order\u001b[38;5;241m=\u001b[39m\u001b[38;5;124m\"\u001b[39m\u001b[38;5;124mF\u001b[39m\u001b[38;5;124m\"\u001b[39m)\n",
      "File \u001b[0;32m~/Projects/NLP/venv/lib/python3.12/site-packages/numpy/core/_methods.py:47\u001b[0m, in \u001b[0;36m_sum\u001b[0;34m(a, axis, dtype, out, keepdims, initial, where)\u001b[0m\n\u001b[1;32m     43\u001b[0m \u001b[38;5;28;01mdef\u001b[39;00m \u001b[38;5;21m_amin\u001b[39m(a, axis\u001b[38;5;241m=\u001b[39m\u001b[38;5;28;01mNone\u001b[39;00m, out\u001b[38;5;241m=\u001b[39m\u001b[38;5;28;01mNone\u001b[39;00m, keepdims\u001b[38;5;241m=\u001b[39m\u001b[38;5;28;01mFalse\u001b[39;00m,\n\u001b[1;32m     44\u001b[0m           initial\u001b[38;5;241m=\u001b[39m_NoValue, where\u001b[38;5;241m=\u001b[39m\u001b[38;5;28;01mTrue\u001b[39;00m):\n\u001b[1;32m     45\u001b[0m     \u001b[38;5;28;01mreturn\u001b[39;00m umr_minimum(a, axis, \u001b[38;5;28;01mNone\u001b[39;00m, out, keepdims, initial, where)\n\u001b[0;32m---> 47\u001b[0m \u001b[38;5;28;01mdef\u001b[39;00m \u001b[38;5;21m_sum\u001b[39m(a, axis\u001b[38;5;241m=\u001b[39m\u001b[38;5;28;01mNone\u001b[39;00m, dtype\u001b[38;5;241m=\u001b[39m\u001b[38;5;28;01mNone\u001b[39;00m, out\u001b[38;5;241m=\u001b[39m\u001b[38;5;28;01mNone\u001b[39;00m, keepdims\u001b[38;5;241m=\u001b[39m\u001b[38;5;28;01mFalse\u001b[39;00m,\n\u001b[1;32m     48\u001b[0m          initial\u001b[38;5;241m=\u001b[39m_NoValue, where\u001b[38;5;241m=\u001b[39m\u001b[38;5;28;01mTrue\u001b[39;00m):\n\u001b[1;32m     49\u001b[0m     \u001b[38;5;28;01mreturn\u001b[39;00m umr_sum(a, axis, dtype, out, keepdims, initial, where)\n\u001b[1;32m     51\u001b[0m \u001b[38;5;28;01mdef\u001b[39;00m \u001b[38;5;21m_prod\u001b[39m(a, axis\u001b[38;5;241m=\u001b[39m\u001b[38;5;28;01mNone\u001b[39;00m, dtype\u001b[38;5;241m=\u001b[39m\u001b[38;5;28;01mNone\u001b[39;00m, out\u001b[38;5;241m=\u001b[39m\u001b[38;5;28;01mNone\u001b[39;00m, keepdims\u001b[38;5;241m=\u001b[39m\u001b[38;5;28;01mFalse\u001b[39;00m,\n\u001b[1;32m     52\u001b[0m           initial\u001b[38;5;241m=\u001b[39m_NoValue, where\u001b[38;5;241m=\u001b[39m\u001b[38;5;28;01mTrue\u001b[39;00m):\n",
      "\u001b[0;31mKeyboardInterrupt\u001b[0m: "
     ]
    }
   ],
   "source": [
    "tf_logistic_regression_model = LogisticRegression(max_iter=500)\n",
    "tf_logistic_regression_model.fit(X_train_tf, y_train_tf)"
   ]
  },
  {
   "cell_type": "code",
   "execution_count": null,
   "id": "79da7c8f-fdd1-4100-84aa-0da42d4fc661",
   "metadata": {},
   "outputs": [],
   "source": [
    "y_pred_tf = tf_logistic_regression_model.predict(X_test_tf)"
   ]
  },
  {
   "cell_type": "code",
   "execution_count": null,
   "id": "8de4a792-37d2-40e6-a8e3-2947ec9c55a9",
   "metadata": {},
   "outputs": [],
   "source": [
    "print_model_performance_metrics(y_test_tf, y_pred_tf, \"Regressão Logística\", \"TF-IDF\")"
   ]
  },
  {
   "cell_type": "markdown",
   "id": "aba7a843-bf69-465f-8548-ff2727edaf14",
   "metadata": {},
   "source": [
    "## Treinando o modelo Naive Bayes"
   ]
  },
  {
   "cell_type": "markdown",
   "id": "ab9dfb2f-51b9-45ef-9f68-b6a7b8f4a517",
   "metadata": {},
   "source": [
    "### Treinando o modelo Naive Bayes com o Count Vectorizer"
   ]
  },
  {
   "cell_type": "code",
   "execution_count": null,
   "id": "5a96ebf7-9351-4c27-bf7e-64e591422dd9",
   "metadata": {},
   "outputs": [],
   "source": [
    "from sklearn.naive_bayes import MultinomialNB\n",
    "\n",
    "cv_nb_model = MultinomialNB()\n",
    "cv_nb_model.fit(X_train_cv, y_train_cv)"
   ]
  },
  {
   "cell_type": "code",
   "execution_count": null,
   "id": "ddd77d03-b185-4716-89ad-f34c7cf8e45a",
   "metadata": {},
   "outputs": [],
   "source": [
    "cv_nb_predictions = cv_nb_model.predict(X_test_cv)"
   ]
  },
  {
   "cell_type": "code",
   "execution_count": null,
   "id": "fb918145-c2d3-419e-9092-a52f887e7265",
   "metadata": {},
   "outputs": [],
   "source": [
    "print_model_performance_metrics(y_test_cv, cv_nb_predictions, \"Naive Bayes Logística\", \"Count Vectorizer\")"
   ]
  },
  {
   "cell_type": "markdown",
   "id": "5dd1d5f9-62e9-4097-bc24-960c15c889c2",
   "metadata": {},
   "source": [
    "### Treinando o modelo Naive Bayes com o TF-IDF"
   ]
  },
  {
   "cell_type": "code",
   "execution_count": null,
   "id": "4bb76604-922a-43cf-badf-66665d6e2616",
   "metadata": {},
   "outputs": [],
   "source": [
    "tf_nb_model = MultinomialNB()\n",
    "tf_nb_model.fit(X_train_tf, y_train_tf)"
   ]
  },
  {
   "cell_type": "code",
   "execution_count": null,
   "id": "e5e6d007-1dd6-4dcc-9ee6-417b83a0de84",
   "metadata": {},
   "outputs": [],
   "source": [
    "tf_nb_predictions = tf_nb_model.predict(X_test_tf)"
   ]
  },
  {
   "cell_type": "code",
   "execution_count": null,
   "id": "b7516921-e8c2-4f20-86dd-059676151a1c",
   "metadata": {},
   "outputs": [],
   "source": [
    "print_model_performance_metrics(y_test_tf, tf_nb_predictions, \"Naive Bayes\", \"TF-IDF\")"
   ]
  },
  {
   "cell_type": "markdown",
   "id": "62a01e3f-710d-4794-a1e7-47ed0076dc45",
   "metadata": {},
   "source": [
    "## Treinando o modelo SVM com kernel linear"
   ]
  },
  {
   "cell_type": "markdown",
   "id": "bd2ccb2b-8b2d-463e-ade1-01c9b36f98c8",
   "metadata": {},
   "source": [
    "### Treinando o modelo SVM com o Count Vectorizer"
   ]
  },
  {
   "cell_type": "code",
   "execution_count": null,
   "id": "459ec108-8361-49fe-8931-e23992980309",
   "metadata": {},
   "outputs": [],
   "source": [
    "from sklearn.svm import LinearSVC\n",
    "\n",
    "# Precisamos configurar o max_iter para um valor alto porque o SVM falha em convergir usando valores menores\n",
    "cv_svm_model = LinearSVC(max_iter=20000)\n",
    "cv_svm_model.fit(X_train_cv, y_train_cv)"
   ]
  },
  {
   "cell_type": "code",
   "execution_count": null,
   "id": "ff468a6c-669d-49e7-afd7-8bc3d3ebc6c6",
   "metadata": {},
   "outputs": [],
   "source": [
    "cv_svm_predictions = cv_svm_model.predict(X_test_cv)"
   ]
  },
  {
   "cell_type": "code",
   "execution_count": null,
   "id": "a9b4166c-d372-43c0-9585-1019f8b6ac68",
   "metadata": {},
   "outputs": [],
   "source": [
    "print_model_performance_metrics(y_test_cv, cv_svm_predictions, \"SVM\", \"Count Vectorizer\")"
   ]
  },
  {
   "cell_type": "markdown",
   "id": "ba1d5837-4667-44ac-8aa5-ef23ff15a752",
   "metadata": {},
   "source": [
    "### Treinando o modelo SVM com o TF-IDF"
   ]
  },
  {
   "cell_type": "code",
   "execution_count": null,
   "id": "9b35430d-cfa2-4530-915c-bd60429ca9e6",
   "metadata": {},
   "outputs": [],
   "source": [
    "tf_svm_model = LinearSVC(max_iter=100)\n",
    "tf_svm_model.fit(X_train_tf, y_train_tf)"
   ]
  },
  {
   "cell_type": "code",
   "execution_count": null,
   "id": "aa3d5591-79c4-42a4-9219-b59dbae0e9d0",
   "metadata": {},
   "outputs": [],
   "source": [
    "tf_svm_predictions = tf_svm_model.predict(X_test_tf)"
   ]
  },
  {
   "cell_type": "code",
   "execution_count": null,
   "id": "38ac166d-427e-46a7-bb01-64d6c40f97c4",
   "metadata": {},
   "outputs": [],
   "source": [
    "print_model_performance_metrics(y_test_tf, tf_svm_predictions, \"SVM\", \"TF-IDF\")"
   ]
  },
  {
   "cell_type": "markdown",
   "id": "5c5ae40c-75b4-4095-b284-cf1d88a5fa5b",
   "metadata": {},
   "source": [
    "Perceba como o SVM convergiu com uma quantidade mínima de iterações quando treinado utilizando o TF-IDF. Isso\n",
    "mostra que possivelmente a reducao do peso das palavras mais comuns do dataset ajuda a encontrar uma boa representacao\n",
    "para os dados. De modo a dimunuir o tempo de treinamento do modelo e aumentar a acurácia."
   ]
  },
  {
   "cell_type": "markdown",
   "id": "e6d224cf-75d6-43a3-bd68-94417f347438",
   "metadata": {},
   "source": [
    "## Comparando o resultado dos seis modelos"
   ]
  },
  {
   "cell_type": "markdown",
   "id": "a9f9a579-6a49-4418-b4c5-9502f03d7f7f",
   "metadata": {},
   "source": [
    "Comparando o resultado dos modelos podemos perceber que:\n",
    "- Os modelos treinados com TF-IDF apresentam as melhores métricas de precisão e acurácia. Bem como um tempo de treinamento reduzido em alguns casos.\n",
    "- O modelo com a melhor acurácia foi a regressão logística, seguido de perto pelo SVM. Visto que os hiperparâmetros de não realizamos nenhuma forma de otimizacao dos hiperparâmetros temos que possívelmente o modelo em termos de acurácia deve ser o SVM (visto que uma vez encontrados bons hiperparâmetros o desempenho do SVM costuma crescer consideravelmente).\n",
    "- Um resultado interessante foi o Naive Bayes que apresentou uma precisão 0.95 quando treinado com o TF-IDF. Analisando a matriz de confusão desse modelo podemos perceber que esse modelo não está funcionando corretamente para a classe 1, e que possívelmente poderíamos melhorar esse resultado fazendo um melhor balanceamento entre as classes na hora de montar o dataset."
   ]
  },
  {
   "cell_type": "markdown",
   "id": "9d8ddb69-1751-4ac2-a691-682cf8ba34f9",
   "metadata": {
    "jp-MarkdownHeadingCollapsed": true
   },
   "source": [
    "# Realizando um comparativo entre os métodos LDA, SVD e NMF"
   ]
  },
  {
   "cell_type": "markdown",
   "id": "5cfef9db-8f45-4c4e-bb20-6bafd2ef82f7",
   "metadata": {},
   "source": [
    "## LDA"
   ]
  },
  {
   "cell_type": "markdown",
   "id": "35179e1a-c5d5-41fa-8693-1bd5d33dcece",
   "metadata": {},
   "source": [
    "Para o método LDA vamos utilizar a coerência para encontrar o melhor número de tópicos"
   ]
  },
  {
   "cell_type": "code",
   "execution_count": null,
   "id": "a4823f2d-d12e-406f-840f-3f524ffd705b",
   "metadata": {},
   "outputs": [],
   "source": [
    "from sklearn.decomposition import LatentDirichletAllocation"
   ]
  },
  {
   "cell_type": "code",
   "execution_count": null,
   "id": "fcc49e8d-8412-4e0b-b5cf-e7c1c7b08809",
   "metadata": {},
   "outputs": [],
   "source": [
    "import gensim\n",
    "from gensim.models.coherencemodel import CoherenceModel\n",
    "from joblib import Parallel, delayed\n",
    "\n",
    "tokenized_docs = steam_games_df[\"filtered_full_description\"].apply(lambda x: x.split()).tolist()\n",
    "dictionary = gensim.corpora.Dictionary(tokenized_docs)\n",
    "corpus = [dictionary.doc2bow(text) for text in tokenized_docs]\n",
    "\n",
    "def compute_coherence(n_topics):\n",
    "    lda_model = gensim.models.LdaModel(corpus=corpus, id2word=dictionary, num_topics=n_topics, random_state=42)\n",
    "    coherence_model = CoherenceModel(model=lda_model, texts=tokenized_docs, dictionary=dictionary, coherence='c_v')\n",
    "    coherence_score = coherence_model.get_coherence()\n",
    "    \n",
    "    return {\"coherence_score\": coherence_score, \"n_topics\": n_topics}\n",
    "\n",
    "start = 2\n",
    "end = 10\n",
    "n_jobs = -1\n",
    "\n",
    "coherences = Parallel(n_jobs=-1, backend='threading')(delayed(compute_coherence)(n_topics) for n_topics in range(start, end + 1))"
   ]
  },
  {
   "cell_type": "code",
   "execution_count": null,
   "id": "0f6cfe94-86ed-49d1-ba7b-b6fa3b18064c",
   "metadata": {},
   "outputs": [],
   "source": [
    "print(coherences)"
   ]
  },
  {
   "cell_type": "markdown",
   "id": "2ce8976e-44fb-40c0-a4c0-2d97ddaec6d3",
   "metadata": {},
   "source": [
    "Podemos ver que temos um bom valor de coerência utilizando 6 tópicos"
   ]
  },
  {
   "cell_type": "markdown",
   "id": "d4962e89-0e51-430d-baf2-1b2f2da06053",
   "metadata": {},
   "source": [
    "### Identificando as cinco palavras mais relevantes de cada tópico"
   ]
  },
  {
   "cell_type": "code",
   "execution_count": null,
   "id": "1a862ee1-4745-4bdc-ad97-a4901ee7577c",
   "metadata": {},
   "outputs": [],
   "source": [
    "num_topics = 6\n",
    "\n",
    "lda_model = gensim.models.LdaModel(corpus=corpus, id2word=dictionary, num_topics=num_topics, random_state=42)\n",
    "\n",
    "top_words_per_topic = lda_model.show_topics(num_topics=num_topics, num_words=5, formatted=False)\n",
    "\n",
    "for topic_num, words in top_words_per_topic:\n",
    "    print(f\"Tópico {topic_num + 1}:\")\n",
    "    print(\"Palavras: \", [word for word, _ in words])\n",
    "    print()"
   ]
  },
  {
   "cell_type": "markdown",
   "id": "01626ae8-562e-4e66-9015-805290946a06",
   "metadata": {},
   "source": [
    "### Identificando os três tópicos mais relevantes para cinco documentos quaisquer"
   ]
  },
  {
   "cell_type": "code",
   "execution_count": null,
   "id": "73246d48-1217-476c-ad24-9d10d2096f52",
   "metadata": {},
   "outputs": [],
   "source": [
    "import pandas as pd\n",
    "\n",
    "topic_distributions = [lda_model.get_document_topics(doc, minimum_probability=0.0) for doc in corpus]\n",
    "\n",
    "top_n_documents = 3\n",
    "for doc_index in range(top_n_documents):\n",
    "    print(f\"Documento {doc_index + 1}:\")\n",
    "    \n",
    "    doc_topics = topic_distributions[doc_index]\n",
    "    \n",
    "    doc_topics_sorted = sorted(doc_topics, key=lambda x: x[1], reverse=True)\n",
    "    \n",
    "    top_5_topics = doc_topics_sorted[:5]\n",
    "    \n",
    "    for topic_id, topic_prob in top_5_topics:\n",
    "        print(f\"Tópico {topic_id + 1} com probabilidade {topic_prob:.4f}\")\n",
    "    print()"
   ]
  },
  {
   "cell_type": "markdown",
   "id": "d2ab85d6-30ed-488e-a5ba-be3135b2c91f",
   "metadata": {},
   "source": [
    "## SVD"
   ]
  },
  {
   "cell_type": "markdown",
   "id": "6dd9d0de-c3c2-4c46-abf0-76e7b6d8c11c",
   "metadata": {},
   "source": [
    "Agora para o SVD vamos utilizar a variância para determinar um bom número de tópicos"
   ]
  },
  {
   "cell_type": "code",
   "execution_count": null,
   "id": "8342202d-49c6-42d0-b168-c5e36e39e7cb",
   "metadata": {},
   "outputs": [],
   "source": [
    "from sklearn.decomposition import TruncatedSVD"
   ]
  },
  {
   "cell_type": "code",
   "execution_count": null,
   "id": "ebe87c90-eba6-4b15-a5d5-c9f5182d9bc9",
   "metadata": {},
   "outputs": [],
   "source": [
    "explained_variance = []\n",
    "topic_range = range(2, 101)\n",
    "\n",
    "for num_topics in topic_range:\n",
    "    svd_model = TruncatedSVD(n_components=num_topics, random_state=42)\n",
    "    svd_model.fit(tfidf_X)\n",
    "    explained_variance.append(svd_model.explained_variance_ratio_.sum())"
   ]
  },
  {
   "cell_type": "code",
   "execution_count": null,
   "id": "fcd53a32-4184-40ce-b13a-b74350b4860d",
   "metadata": {},
   "outputs": [],
   "source": [
    "import matplotlib.pyplot as plt\n",
    "\n",
    "plt.plot(topic_range, explained_variance, marker='o')\n",
    "plt.xlabel(\"Número de Tópicos\")\n",
    "plt.ylabel(\"Variância Explicada Acumulada\")\n",
    "plt.title(\"Variância Explicada por Número de Tópicos (SVD)\")\n",
    "plt.grid(True)\n",
    "plt.show()"
   ]
  },
  {
   "cell_type": "markdown",
   "id": "84d0af71-2d87-4757-b6d3-37bf17bd2229",
   "metadata": {},
   "source": [
    "Vamos utilizar 18 tópicos visto que após esse valor, a variância acumulada começa a crescer mais lentamente "
   ]
  },
  {
   "cell_type": "code",
   "execution_count": null,
   "id": "a9be0ce9-9b6a-425f-b993-ab9f5da5a64b",
   "metadata": {},
   "outputs": [],
   "source": [
    "num_topics = 18\n",
    "svd_model = TruncatedSVD(n_components=num_topics, random_state=42)\n",
    "X_topics = svd_model.fit_transform(tfidf_X)\n",
    "\n",
    "terms = tfidf_vectorizer.get_feature_names_out()\n",
    "for i, topic in enumerate(svd_model.components_):\n",
    "    print(f\"Tópico {i + 1}:\")\n",
    "    top_words_idx = topic.argsort()[:-6:-1]\n",
    "    top_words = [terms[idx] for idx in top_words_idx]\n",
    "    print(\"Palavras mais relevantes:\", top_words)\n",
    "    print()"
   ]
  },
  {
   "cell_type": "code",
   "execution_count": null,
   "id": "763cd998-8935-4d3e-adb3-2024738788f8",
   "metadata": {},
   "outputs": [],
   "source": [
    "top_n_documents = 5\n",
    "for i in range(top_n_documents):\n",
    "    doc_topic_dist = X_topics[i]\n",
    "    top_topics_idx = doc_topic_dist.argsort()[:-4:-1]\n",
    "    print(f\"Documento {i + 1}: Tópicos mais relevantes: {top_topics_idx + 1}\")\n",
    "    print(\"Distribuição de Tópicos:\", doc_topic_dist)\n",
    "    print()"
   ]
  },
  {
   "cell_type": "markdown",
   "id": "ea7a73a8-0b16-4a30-b32a-85f8f59da283",
   "metadata": {},
   "source": [
    "## NMF"
   ]
  },
  {
   "cell_type": "markdown",
   "id": "b7057d19-fc2d-460f-af0d-f96bc19d6f54",
   "metadata": {},
   "source": [
    "Para o NMF vamos utilizar o erro de reconstrução para determinar um bom número de tópicos"
   ]
  },
  {
   "cell_type": "code",
   "execution_count": null,
   "id": "8d9eb39c-6824-45be-961e-e0bb4ef16571",
   "metadata": {},
   "outputs": [],
   "source": [
    "from sklearn.decomposition import NMF"
   ]
  },
  {
   "cell_type": "code",
   "execution_count": null,
   "id": "92be9849-a7d7-4ead-ac42-494c8eac53bf",
   "metadata": {},
   "outputs": [],
   "source": [
    "def get_reconstruction_error(n_topic: int, vec_matrix):\n",
    "    nmf_model = NMF(n_components=n_topic, random_state=42, max_iter=1000)\n",
    "    W = nmf_model.fit_transform(vec_matrix)\n",
    "    H = nmf_model.components_\n",
    "    reconstruction_error = nmf_model.reconstruction_err_\n",
    "    queue.put(reconstruction_error)"
   ]
  },
  {
   "cell_type": "code",
   "execution_count": null,
   "id": "6fbc620a-299d-4821-afaf-374a230c426c",
   "metadata": {},
   "outputs": [],
   "source": [
    "import multiprocessing\n",
    "\n",
    "topic_range = range(2, 15)\n",
    "\n",
    "processes = []\n",
    "\n",
    "queue = multiprocessing.Queue()\n",
    "\n",
    "for i in topic_range:\n",
    "    process = multiprocessing.Process(target=get_reconstruction_error, args=(i, tfidf_X))\n",
    "    process.start()\n",
    "    process.join()\n",
    "    \n",
    "    processes.append(process)\n",
    "\n",
    "results = [queue.get() for _ in range(len(processes))]"
   ]
  },
  {
   "cell_type": "code",
   "execution_count": null,
   "id": "27a5eead-3199-4189-954a-7c27db206f21",
   "metadata": {},
   "outputs": [],
   "source": [
    "print(results)"
   ]
  },
  {
   "cell_type": "code",
   "execution_count": null,
   "id": "50d5a2c3-c444-441f-ae9a-6ba1f8ee8f27",
   "metadata": {},
   "outputs": [],
   "source": [
    "plt.plot(topic_range, results, marker='o')\n",
    "plt.xlabel(\"Número de Tópicos\")\n",
    "plt.ylabel(\"Erro de Reconstrução\")\n",
    "plt.title(\"Erro de Reconstrução por Número de Tópicos (NMF)\")\n",
    "plt.grid(True)\n",
    "plt.show()"
   ]
  },
  {
   "cell_type": "markdown",
   "id": "39bdf289-4dca-49fb-96a9-6a967f40e91e",
   "metadata": {},
   "source": [
    "Analizando o gráfico escolhemos 9 como um bom número de tópicos pois minimiza o erro de reconstrução sem criar muitos tópicos"
   ]
  },
  {
   "cell_type": "code",
   "execution_count": null,
   "id": "60b34ec4-f7f3-4cfc-9106-4d1a452172f6",
   "metadata": {},
   "outputs": [],
   "source": [
    "best_num_topics = 9\n",
    "nmf_model = NMF(n_components=best_num_topics, random_state=42, max_iter=500)\n",
    "W = nmf_model.fit_transform(tfidf_X)\n",
    "H = nmf_model.components_\n",
    "\n",
    "terms = tfidf_vectorizer.get_feature_names_out()\n",
    "for i, topic in enumerate(H):\n",
    "    print(f\"Tópico {i + 1}:\")\n",
    "    top_words_idx = topic.argsort()[:-6:-1]\n",
    "    top_words = [terms[idx] for idx in top_words_idx]\n",
    "    print(\"Palavras mais relevantes:\", top_words)\n",
    "    print()"
   ]
  },
  {
   "cell_type": "code",
   "execution_count": null,
   "id": "60a05dd4-aef8-4c8e-b4d7-82dec4a208e4",
   "metadata": {},
   "outputs": [],
   "source": [
    "top_n_documents = 5\n",
    "for i in range(top_n_documents):\n",
    "    doc_topic_dist = W[i]\n",
    "    top_topics_idx = doc_topic_dist.argsort()[:-4:-1]\n",
    "    print(f\"Documento {i + 1}: Tópicos mais relevantes: {top_topics_idx + 1}\")\n",
    "    print(\"Distribuição de Tópicos:\", doc_topic_dist)\n",
    "    print()"
   ]
  },
  {
   "cell_type": "markdown",
   "id": "fb7c5a22-0832-463d-879a-6c05c0466bfe",
   "metadata": {},
   "source": [
    "## Analisando os resultados"
   ]
  },
  {
   "cell_type": "markdown",
   "id": "4746ef24-c143-41f1-a0ba-c8ad3fb3d2a2",
   "metadata": {},
   "source": [
    "Analisando os resultados obtidos entre os métodos temos que:\n",
    "\n",
    "LDA:\n",
    "\n",
    "    Os tópicos obtidos são relativamente diferentes. Temos por exemplo que o tópico 3 parece focar em \"carros\" e \"pistas\", já o tópico 5 parece focar em \"batalhas\" e \"armas\". Entretanto, podemos visualizar a repetição de palavras como \"gam\" e \"new\" em múltiplos tópicos o que pode sugerir que o algoritmo está distribuindo essas palavras mais genéricas pois possui uma menor precisão.\n",
    "\n",
    "SVD:\n",
    "\n",
    "    Os tópicos gerados pelo SVD também apresentam um bom grau de separação, como por exemplo o tópico 2 que parece focar em \"guitarras\" e \"som\", e o tópico 16 que parece focar em \"naves\", \"espaço\" e \"cartas\". Entretanto, o SVD também apresenta tópicos com uma grande sobreposição de palavras entre si, como \"gam\", \"play\", e \"puzzl\".\n",
    "\n",
    "NMF:\n",
    "\n",
    "    Os tópicos gerados são relativamente bem definidos. Como o tópico 1 que parece focar em \"batalhas\", \"navios\" e \"armas\", e o tópico 5 que parece focar em \"aventura\" e \"história\". Com o SVD palavras genéricas também parecem aparecer com menos frequência nos tópicos. Assim portanto na minha opinião o SVD apresentou o melhor resultado."
   ]
  },
  {
   "cell_type": "markdown",
   "id": "f8c86bec-101f-4114-919a-d555f9a7f83a",
   "metadata": {
    "jp-MarkdownHeadingCollapsed": true
   },
   "source": [
    "# Realizando um agrupamento dos dados usando o Count Vectorizer"
   ]
  },
  {
   "cell_type": "code",
   "execution_count": null,
   "id": "0c024f5c-e4d8-41a7-b21f-1c592b1cce92",
   "metadata": {},
   "outputs": [],
   "source": [
    "from sklearn.decomposition import PCA\n",
    "from sklearn.preprocessing import StandardScaler"
   ]
  },
  {
   "cell_type": "markdown",
   "id": "fa26924a-8104-42eb-9522-3f624700b094",
   "metadata": {},
   "source": [
    "Vamos reduzir o tamanho do dataset para conseguirmos armazenar os dados em RAM"
   ]
  },
  {
   "cell_type": "code",
   "execution_count": null,
   "id": "6b869ab3-1d1f-4fa6-bcc6-a44c7721e742",
   "metadata": {},
   "outputs": [],
   "source": [
    "reduced_filtered_description = steam_games_df[\"filtered_full_description\"].sample(frac=0.1, random_state=42)"
   ]
  },
  {
   "cell_type": "markdown",
   "id": "321b9c87-09a1-487c-b660-f73219337bb4",
   "metadata": {},
   "source": [
    "### Aplicando o PCA preservando 95% da variância dos dados"
   ]
  },
  {
   "cell_type": "code",
   "execution_count": null,
   "id": "4859e858-201d-4192-9de1-150451b0439f",
   "metadata": {},
   "outputs": [],
   "source": [
    "vectorizer = CountVectorizer()\n",
    "X = vectorizer.fit_transform(reduced_filtered_description )"
   ]
  },
  {
   "cell_type": "code",
   "execution_count": null,
   "id": "1b7686a9-64a0-42b8-92cb-07cdf4ce3df2",
   "metadata": {},
   "outputs": [],
   "source": [
    "X_df = pd.DataFrame(X.toarray(), columns=vectorizer.get_feature_names_out())"
   ]
  },
  {
   "cell_type": "code",
   "execution_count": null,
   "id": "a5f00a55-e9bc-4390-9ad0-c87278438ece",
   "metadata": {},
   "outputs": [],
   "source": [
    "from sklearn.decomposition import PCA\n",
    "\n",
    "pca = PCA(n_components=0.95)\n",
    "X_pca = pca.fit_transform(X_df)"
   ]
  },
  {
   "cell_type": "code",
   "execution_count": null,
   "id": "f5d2c445-d606-4f45-9318-c942b3de94ce",
   "metadata": {},
   "outputs": [],
   "source": [
    "print(\"Dimensão original (reduzida):\", X_df.shape)\n",
    "print(\"Dimensão após PCA:\", X_pca.shape)"
   ]
  },
  {
   "cell_type": "markdown",
   "id": "a02d8fed-e773-4beb-b779-dc3b20323290",
   "metadata": {},
   "source": [
    "### Aplicando o K-Means nos dados projetos"
   ]
  },
  {
   "cell_type": "code",
   "execution_count": null,
   "id": "9bb01986-d81a-4364-9552-7ca19d1df402",
   "metadata": {},
   "outputs": [],
   "source": [
    "from sklearn.cluster import KMeans\n",
    "\n",
    "k_range = range(1, 100)\n",
    "inertia = []\n",
    "\n",
    "for k in k_range:\n",
    "    kmeans = KMeans(n_clusters=k, random_state=42)\n",
    "    kmeans.fit(X_pca)\n",
    "    inertia.append(kmeans.inertia_)\n",
    "\n",
    "plt.figure(figsize=(8, 6))\n",
    "plt.plot(k_range, inertia, marker='o')\n",
    "plt.title('Método Elbow para Determinar o Número Ótimo de Clusters')\n",
    "plt.xlabel('Número de Clusters (K)')\n",
    "plt.ylabel('Inertia')\n",
    "plt.grid(True)\n",
    "plt.show()"
   ]
  },
  {
   "cell_type": "markdown",
   "id": "4189882e-d99b-40a1-ab51-4cb69b5a7273",
   "metadata": {},
   "source": [
    "#### Assim temos que o valor ótimo para K deve estar entre 50 e 60"
   ]
  },
  {
   "cell_type": "code",
   "execution_count": null,
   "id": "c57bfb0f-66d3-495e-b483-84974e831e30",
   "metadata": {},
   "outputs": [],
   "source": [
    "# Aplicando K-Means\n",
    "kmeans = KMeans(n_clusters=57, random_state=42)\n",
    "kmeans.fit(X_pca)"
   ]
  },
  {
   "cell_type": "markdown",
   "id": "2fe9adc2-bca5-4338-b572-47a8e03b0581",
   "metadata": {},
   "source": [
    "#### Podemos ver a distribuição dos dados nos clusters encontrados"
   ]
  },
  {
   "cell_type": "code",
   "execution_count": null,
   "id": "32e61d05-029a-4d58-ae3b-7a6f0543df20",
   "metadata": {},
   "outputs": [],
   "source": [
    "labels = kmeans.labels_\n",
    "cluster_counts = np.bincount(labels)\n",
    "print(cluster_counts)"
   ]
  },
  {
   "cell_type": "markdown",
   "id": "4cb0f088-4aa4-4c52-aed0-b429ff04079d",
   "metadata": {},
   "source": [
    "Ao analisar os clusters obtidos, observa-se uma boa distribuição dos dados entre eles. No entanto, a presença de um número significativo de clusters com apenas um elemento sugere a existência de muitos outliers no dataset. Portanto, é possível que o uso de uma técnica de agrupamento diferente, como o DBSCAN, possa gerar resultados mais adequados."
   ]
  },
  {
   "cell_type": "markdown",
   "id": "ef7a62ab-2abc-419b-824c-ac50fae57c03",
   "metadata": {},
   "source": [
    "# Realizando projeção multidimensional para visualização de dados"
   ]
  },
  {
   "cell_type": "markdown",
   "id": "86c76212-9269-4be1-923a-5f61af8cd2dd",
   "metadata": {},
   "source": [
    "## Aplicando os métodos t-SNE e UMAP na representação do Count Vectorizer"
   ]
  },
  {
   "cell_type": "markdown",
   "id": "36ae2bec-1a41-47da-b2a6-f3e05a146904",
   "metadata": {},
   "source": [
    "### Projeção multidimensional com t-SNE"
   ]
  },
  {
   "cell_type": "code",
   "execution_count": null,
   "id": "e72546f6-0cd7-4788-b282-31671634b741",
   "metadata": {},
   "outputs": [],
   "source": [
    "import matplotlib.pyplot as plt\n",
    "from sklearn.feature_extraction.text import CountVectorizer\n",
    "from sklearn.cluster import KMeans\n",
    "from sklearn.manifold import TSNE"
   ]
  },
  {
   "cell_type": "code",
   "execution_count": null,
   "id": "7ed23b80-6c76-4d2f-88da-5ef590258c22",
   "metadata": {},
   "outputs": [],
   "source": [
    "tsne = TSNE(n_components=2, random_state=42)\n",
    "X_tsne = tsne.fit_transform(X.toarray())"
   ]
  },
  {
   "cell_type": "code",
   "execution_count": null,
   "id": "12aff671-8dd5-42d2-9ab6-f7267b788c86",
   "metadata": {},
   "outputs": [],
   "source": [
    "plt.figure(figsize=(8, 6))\n",
    "scatter = plt.scatter(X_tsne[:, 0], X_tsne[:, 1], c=labels, cmap='viridis', s=30)\n",
    "\n",
    "legend1 = plt.legend(*scatter.legend_elements(), title=\"Clusters\")\n",
    "plt.gca().add_artist(legend1)\n",
    "\n",
    "plt.title('Projeção t-SNE com Clusters K-Means')\n",
    "plt.xlabel('t-SNE Componente 1')\n",
    "plt.ylabel('t-SNE Componente 2')\n",
    "plt.grid(True)\n",
    "plt.show()"
   ]
  },
  {
   "cell_type": "markdown",
   "id": "03693f72-0c9f-4321-9aa7-30198ae71ef9",
   "metadata": {},
   "source": [
    "### Projeção Multidimensional com UMAP"
   ]
  },
  {
   "cell_type": "code",
   "execution_count": null,
   "id": "29a19e8d-2166-4bbe-a60c-120d94744379",
   "metadata": {},
   "outputs": [],
   "source": [
    "import umap"
   ]
  },
  {
   "cell_type": "code",
   "execution_count": null,
   "id": "f44d8f97-0c04-453a-a222-bde70487e911",
   "metadata": {},
   "outputs": [],
   "source": [
    "umap_reducer = umap.UMAP(n_components=2, random_state=42)\n",
    "X_umap = umap_reducer.fit_transform(X.toarray())\n",
    "\n",
    "plt.figure(figsize=(8, 6))\n",
    "scatter = plt.scatter(X_umap[:, 0], X_umap[:, 1], c=labels, cmap='viridis', s=10)\n",
    "\n",
    "legend1 = plt.legend(*scatter.legend_elements(), title=\"Clusters\")\n",
    "plt.gca().add_artist(legend1)\n",
    "\n",
    "plt.title('Projeção UMAP com Clusters K-Means')\n",
    "plt.xlabel('UMAP Componente 1')\n",
    "plt.ylabel('UMAP Componente 2')\n",
    "plt.grid(True)\n",
    "plt.show()"
   ]
  },
  {
   "cell_type": "markdown",
   "id": "674ed861-4de0-410a-a62e-52de17e009ee",
   "metadata": {},
   "source": [
    "## Variando os parâmetros do t-SNE e UMAP"
   ]
  },
  {
   "cell_type": "markdown",
   "id": "88e1d77e-0a73-4c33-8fd4-ad0c36ecd821",
   "metadata": {},
   "source": [
    "### Variando o hiperparâmetro perplexity do t-SNE"
   ]
  },
  {
   "cell_type": "code",
   "execution_count": null,
   "id": "71ec1210-5b84-47fc-a9a8-150704c7f420",
   "metadata": {},
   "outputs": [],
   "source": [
    "perplexities = [5, 15, 45, 55]\n",
    "plt.figure(figsize=(15, 10))\n",
    "\n",
    "for i, perplexity in enumerate(perplexities, 1):\n",
    "\n",
    "    tsne = TSNE(n_components=2, perplexity=perplexity, random_state=42)\n",
    "    X_tsne = tsne.fit_transform(X.toarray())\n",
    "    \n",
    "    plt.subplot(2, 2, i)\n",
    "    scatter = plt.scatter(X_tsne[:, 0], X_tsne[:, 1], c=labels, cmap='viridis', s=30)\n",
    "    plt.title(f't-SNE com Perplexity = {perplexity}')\n",
    "    plt.xlabel('t-SNE Componente 1')\n",
    "    plt.ylabel('t-SNE Componente 2')\n",
    "    legend1 = plt.legend(*scatter.legend_elements(), title=\"Clusters\")\n",
    "    plt.gca().add_artist(legend1)\n",
    "    plt.grid(True)\n",
    "\n",
    "plt.tight_layout()\n",
    "plt.show()"
   ]
  },
  {
   "cell_type": "markdown",
   "id": "fe4ce391-dc74-4e40-9635-9d34e85fa9ce",
   "metadata": {},
   "source": [
    "Analisando os gráficos plotados, podemos perceber que, com uma perplexity abaixo do valor padrão, há uma tendência de encontrarmos clusters menores e mais detalhados. Entretanto, uma perplexity muito baixa pode tornar o resultado vulnerável a ruídos (como podemos observar no gráfico com perplexity igual a 5). Já uma perplexity muito alta acaba suavizando os dados, o que ajuda a recuperar estruturas maiores, mas faz com que se percam os detalhes mais precisos das relações locais."
   ]
  },
  {
   "cell_type": "markdown",
   "id": "ea787223-967e-457b-833e-2d0b2c147f4f",
   "metadata": {},
   "source": [
    "### Variando o hiperparâmetro n_neighbors do UMAP"
   ]
  },
  {
   "cell_type": "code",
   "execution_count": null,
   "id": "697072c5-61b1-4c25-94f2-8584688b5984",
   "metadata": {},
   "outputs": [],
   "source": [
    "n_neighbors_list = [5, 10, 20, 35]\n",
    "plt.figure(figsize=(15, 10))\n",
    "\n",
    "for i, n_neighbors in enumerate(n_neighbors_list, 1):\n",
    "    umap_reducer = umap.UMAP(n_components=2, n_neighbors=n_neighbors, random_state=42)\n",
    "    X_umap = umap_reducer.fit_transform(X.toarray())\n",
    "    \n",
    "    plt.subplot(2, 2, i)\n",
    "    scatter = plt.scatter(X_umap[:, 0], X_umap[:, 1], c=labels, cmap='viridis', s=10)\n",
    "    plt.title(f'UMAP com n_neighbors = {n_neighbors}')\n",
    "    plt.xlabel('UMAP Componente 1')\n",
    "    plt.ylabel('UMAP Componente 2')\n",
    "    legend1 = plt.legend(*scatter.legend_elements(), title=\"Clusters\")\n",
    "    plt.gca().add_artist(legend1)\n",
    "    plt.grid(True)\n",
    "\n",
    "plt.tight_layout()\n",
    "plt.show()"
   ]
  },
  {
   "cell_type": "markdown",
   "id": "0b65b198-7239-421d-91af-077885050f9e",
   "metadata": {},
   "source": [
    "Com um valor baixo de n_neighbors, há uma tendência de enfatizar clusters mais compactos, destacando as relações locais. Entretanto, com um valor muito baixo (como podemos ver com n_neighbors = 5), o resultado pode ficar vulnerável a ruídos. Já com um valor de n_neighbors acima do padrão, há uma tendência de capturar padrões globais, suavizando a estrutura local. Assim, um valor muito alto pode resultar na perda de detalhes sobre agrupamentos locais mais sutis."
   ]
  },
  {
   "cell_type": "code",
   "execution_count": null,
   "id": "459f21a0-c70b-4310-bcb5-4d06886efa8b",
   "metadata": {},
   "outputs": [],
   "source": []
  }
 ],
 "metadata": {
  "kernelspec": {
   "display_name": "Python 3 (ipykernel)",
   "language": "python",
   "name": "python3"
  },
  "language_info": {
   "codemirror_mode": {
    "name": "ipython",
    "version": 3
   },
   "file_extension": ".py",
   "mimetype": "text/x-python",
   "name": "python",
   "nbconvert_exporter": "python",
   "pygments_lexer": "ipython3",
   "version": "3.12.4"
  }
 },
 "nbformat": 4,
 "nbformat_minor": 5
}
