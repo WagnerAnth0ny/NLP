{
 "cells": [
  {
   "cell_type": "markdown",
   "metadata": {
    "id": "0qQkPHvm6Nei"
   },
   "source": [
    "# Questão 1"
   ]
  },
  {
   "cell_type": "code",
   "execution_count": 1,
   "metadata": {
    "id": "8AMr5eba5xhW"
   },
   "outputs": [],
   "source": [
    "import re\n",
    "\n",
    "def is_password_strong(password):\n",
    "    if len(password) < 8:\n",
    "        return False\n",
    "\n",
    "    if not re.search(\"[A-Z]\", password) or not re.search(\"[a-z]\", password):\n",
    "        return False\n",
    "\n",
    "    if not re.search(\"[0-9]\", password):\n",
    "        return False\n",
    "\n",
    "    if not re.search(\"[!@#$%&*]\", password):\n",
    "        return False\n",
    "\n",
    "    return True"
   ]
  },
  {
   "cell_type": "code",
   "execution_count": 2,
   "metadata": {
    "colab": {
     "base_uri": "https://localhost:8080/"
    },
    "id": "B6BQbFmR8mUZ",
    "outputId": "ca591c9e-187c-45bf-dec2-3639cac38e81"
   },
   "outputs": [
    {
     "name": "stdout",
     "output_type": "stream",
     "text": [
      "Testing passwords:\n",
      "Testing password 1: aaa - False\n",
      "Testing password 2: 123 - False\n",
      "Testing password 3: 123456789 - False\n",
      "Testing password 4: password - False\n",
      "Testing password 5: P@ssword - False\n",
      "Testing password 6: P@ssw0rd - True\n"
     ]
    }
   ],
   "source": [
    "print(\"Testing passwords:\")\n",
    "\n",
    "passwords_to_test = [\"aaa\", \"123\", \"123456789\", \"password\", \"P@ssword\", \"P@ssw0rd\"]\n",
    "\n",
    "for i in range(len(passwords_to_test)):\n",
    "    print(\"Testing password \" + str(i+1) + \": \" + passwords_to_test[i] + \" - \" + str(is_password_strong(passwords_to_test[i])))"
   ]
  },
  {
   "cell_type": "markdown",
   "metadata": {
    "id": "VZsvYlBG921M"
   },
   "source": [
    "# Questão 2"
   ]
  },
  {
   "cell_type": "code",
   "execution_count": 3,
   "metadata": {
    "id": "YBPYsnR395VY"
   },
   "outputs": [],
   "source": [
    "def is_email_valid(email):\n",
    "    pattern = r\"^[a-zA-Z0-9._%+-]+@[a-zA-Z0-9.-]+\\.[a-zA-Z]{2,}$\"\n",
    "\n",
    "    if re.match(pattern, email):\n",
    "        return True\n",
    "    else:\n",
    "        return False"
   ]
  },
  {
   "cell_type": "code",
   "execution_count": 4,
   "metadata": {
    "colab": {
     "base_uri": "https://localhost:8080/"
    },
    "id": "JrBf0k-K_dz1",
    "outputId": "d8e5574d-37eb-433a-fe0b-efd424ca5c3e"
   },
   "outputs": [
    {
     "name": "stdout",
     "output_type": "stream",
     "text": [
      "Testing emails\n",
      "Testing email 1: email@gmail.com - True\n",
      "Testing email 2: test.test@ic.ufal.br - True\n",
      "Testing email 3: test+tag@hotmail.com - True\n",
      "Testing email 4: test@domain - False\n",
      "Testing email 5: test@domain..com - True\n",
      "Testing email 6: @domain.com - False\n"
     ]
    }
   ],
   "source": [
    "print(\"Testing emails\")\n",
    "\n",
    "emails_to_test = [\"email@gmail.com\", \"test.test@ic.ufal.br\", \"test+tag@hotmail.com\", \"test@domain\", \"test@domain..com\", \"@domain.com\"]\n",
    "\n",
    "for i in range(len(emails_to_test)):\n",
    "    print(\"Testing email \" + str(i+1) + \": \" + emails_to_test[i] + \" - \" + str(is_email_valid(emails_to_test[i])))"
   ]
  },
  {
   "cell_type": "markdown",
   "metadata": {
    "id": "FMsX-_KAGH9N"
   },
   "source": [
    "# Questão 3"
   ]
  },
  {
   "cell_type": "code",
   "execution_count": 5,
   "metadata": {
    "id": "4LZmt9x2GKAo"
   },
   "outputs": [],
   "source": [
    "def extract_book_reference(reference):\n",
    "    authors_pattern = r\"^(.*?)(?=\\s\\(\\d{4}\\))\"\n",
    "    authors = re.search(authors_pattern, reference)\n",
    "    authors = authors.group(0) if authors else None\n",
    "\n",
    "    year_pattern = r\"\\((\\d{4})\\)\"\n",
    "    year = re.search(year_pattern, reference)\n",
    "    year = year.group(1) if year else None\n",
    "\n",
    "    title_pattern = r\"\\)\\.\\s(.*?)(?=\\.\\s\\w)\"\n",
    "    title = re.search(title_pattern, reference)\n",
    "    title = title.group(1) if title else None\n",
    "\n",
    "    publisher_pattern = r\"\\.\\s([^\\.]+)\\.$\"\n",
    "    publisher = re.search(publisher_pattern, reference)\n",
    "    publisher = publisher.group(1) if publisher else None\n",
    "\n",
    "    return {\n",
    "        \"Authors\": authors,\n",
    "        \"Year\": year,\n",
    "        \"Title\": title,\n",
    "        \"Publisher\": publisher\n",
    "    }"
   ]
  },
  {
   "cell_type": "code",
   "execution_count": 6,
   "metadata": {
    "colab": {
     "base_uri": "https://localhost:8080/"
    },
    "id": "Wn4lHPSVG_wh",
    "outputId": "37713013-41fd-43f6-d0b4-8b61de4c69f3"
   },
   "outputs": [
    {
     "name": "stdout",
     "output_type": "stream",
     "text": [
      "Testing book references:\n",
      "{'Authors': 'Manning, C. D., Manning, C. D., & Schutze, H.', 'Year': '1999', 'Title': 'Foundations of statistical natural language processing', 'Publisher': 'MIT press'}\n"
     ]
    }
   ],
   "source": [
    "print(\"Testing book references:\")\n",
    "\n",
    "book_reference = \"Manning, C. D., Manning, C. D., & Schutze, H. (1999). Foundations of statistical natural language processing. MIT press.\"\n",
    "\n",
    "print(extract_book_reference(book_reference))"
   ]
  },
  {
   "cell_type": "markdown",
   "metadata": {
    "id": "xTKT7ut8JzCf"
   },
   "source": [
    "# Questão 4"
   ]
  },
  {
   "cell_type": "code",
   "execution_count": 7,
   "metadata": {
    "colab": {
     "base_uri": "https://localhost:8080/"
    },
    "id": "i5KLOzgoJ1Co",
    "outputId": "522933e8-2a0a-4917-a246-cff08093b7c3"
   },
   "outputs": [
    {
     "name": "stdout",
     "output_type": "stream",
     "text": [
      "--2024-08-19 19:34:46--  https://github.com/WagnerAnth0ny/NLP/raw/master/Data/text_content.csv?download=\n",
      "Resolving github.com (github.com)... 20.201.28.151\n",
      "Connecting to github.com (github.com)|20.201.28.151|:443... connected.\n",
      "HTTP request sent, awaiting response... 302 Found\n",
      "Location: https://media.githubusercontent.com/media/WagnerAnth0ny/NLP/master/Data/text_content.csv?download=true [following]\n",
      "--2024-08-19 19:34:47--  https://media.githubusercontent.com/media/WagnerAnth0ny/NLP/master/Data/text_content.csv?download=true\n",
      "Resolving media.githubusercontent.com (media.githubusercontent.com)... 2606:50c0:8000::154, 2606:50c0:8001::154, 2606:50c0:8003::154, ...\n",
      "Connecting to media.githubusercontent.com (media.githubusercontent.com)|2606:50c0:8000::154|:443... connected.\n",
      "HTTP request sent, awaiting response... 200 OK\n",
      "Length: 148611910 (142M) [text/plain]\n",
      "Saving to: ‘text_content.csv’\n",
      "\n",
      "text_content.csv    100%[===================>] 141,73M  67,6MB/s    in 2,1s    \n",
      "\n",
      "2024-08-19 19:34:58 (67,6 MB/s) - ‘text_content.csv’ saved [148611910/148611910]\n",
      "\n"
     ]
    }
   ],
   "source": [
    "!wget https://github.com/WagnerAnth0ny/NLP/raw/master/Data/text_content.csv?download= -O text_content.csv"
   ]
  },
  {
   "cell_type": "code",
   "execution_count": 8,
   "metadata": {},
   "outputs": [
    {
     "name": "stdout",
     "output_type": "stream",
     "text": [
      "Requirement already satisfied: pandas in ./venv/lib/python3.12/site-packages (2.2.2)\n",
      "Requirement already satisfied: numpy>=1.26.0 in ./venv/lib/python3.12/site-packages (from pandas) (1.26.4)\n",
      "Requirement already satisfied: python-dateutil>=2.8.2 in ./venv/lib/python3.12/site-packages (from pandas) (2.9.0.post0)\n",
      "Requirement already satisfied: pytz>=2020.1 in ./venv/lib/python3.12/site-packages (from pandas) (2024.1)\n",
      "Requirement already satisfied: tzdata>=2022.7 in ./venv/lib/python3.12/site-packages (from pandas) (2024.1)\n",
      "Requirement already satisfied: six>=1.5 in ./venv/lib/python3.12/site-packages (from python-dateutil>=2.8.2->pandas) (1.16.0)\n"
     ]
    }
   ],
   "source": [
    "!pip install pandas"
   ]
  },
  {
   "cell_type": "code",
   "execution_count": 9,
   "metadata": {
    "id": "v3DIAeaTHw9_"
   },
   "outputs": [],
   "source": [
    "import pandas as pd\n",
    "\n",
    "df = pd.read_csv(\"text_content.csv\")"
   ]
  },
  {
   "cell_type": "code",
   "execution_count": 10,
   "metadata": {
    "colab": {
     "base_uri": "https://localhost:8080/",
     "height": 293
    },
    "id": "VgdV6vbOIX6i",
    "outputId": "4bb02fe0-e314-4ec7-82f0-f7b8b88a1084"
   },
   "outputs": [
    {
     "data": {
      "text/html": [
       "<div>\n",
       "<style scoped>\n",
       "    .dataframe tbody tr th:only-of-type {\n",
       "        vertical-align: middle;\n",
       "    }\n",
       "\n",
       "    .dataframe tbody tr th {\n",
       "        vertical-align: top;\n",
       "    }\n",
       "\n",
       "    .dataframe thead th {\n",
       "        text-align: right;\n",
       "    }\n",
       "</style>\n",
       "<table border=\"1\" class=\"dataframe\">\n",
       "  <thead>\n",
       "    <tr style=\"text-align: right;\">\n",
       "      <th></th>\n",
       "      <th>url</th>\n",
       "      <th>desc</th>\n",
       "      <th>full_desc</th>\n",
       "      <th>requirements</th>\n",
       "      <th>popu_tags</th>\n",
       "    </tr>\n",
       "  </thead>\n",
       "  <tbody>\n",
       "    <tr>\n",
       "      <th>0</th>\n",
       "      <td>https://store.steampowered.com/app/945360/Amon...</td>\n",
       "      <td>An online and local party game of teamwork and...</td>\n",
       "      <td>About This GamePlay with 4-10 player online or...</td>\n",
       "      <td>System RequirementsMinimum:OS: Windows 7 SP1+P...</td>\n",
       "      <td>MultiplayerOnline Co-OpSpaceSocial DeductionSu...</td>\n",
       "    </tr>\n",
       "    <tr>\n",
       "      <th>1</th>\n",
       "      <td>https://store.steampowered.com/app/730/Counter...</td>\n",
       "      <td>Counter-Strike: Global Offensive (CS: GO) expa...</td>\n",
       "      <td>About This GameCounter-Strike: Global Offensiv...</td>\n",
       "      <td>System RequirementsWindowsMac OS XSteamOS + Li...</td>\n",
       "      <td>FPSShooterMultiplayerCompetitiveActionTeam-Bas...</td>\n",
       "    </tr>\n",
       "    <tr>\n",
       "      <th>2</th>\n",
       "      <td>https://store.steampowered.com/app/1097150/Fal...</td>\n",
       "      <td>Fall Guys is a massively multiplayer party gam...</td>\n",
       "      <td>About This GameFall Guys: Ultimate Knockout fl...</td>\n",
       "      <td>System RequirementsMinimum:Requires a 64-bit p...</td>\n",
       "      <td>MultiplayerFunnyBattle RoyaleOnline Co-OpFamil...</td>\n",
       "    </tr>\n",
       "    <tr>\n",
       "      <th>3</th>\n",
       "      <td>https://store.steampowered.com/app/1158310/Cru...</td>\n",
       "      <td>Paradox Development Studio brings you the sequ...</td>\n",
       "      <td>About This GameParadox Development Studio brin...</td>\n",
       "      <td>System RequirementsWindowsMac OS XSteamOS + Li...</td>\n",
       "      <td>StrategyRPGSimulationMedievalGrand StrategyHis...</td>\n",
       "    </tr>\n",
       "    <tr>\n",
       "      <th>4</th>\n",
       "      <td>https://store.steampowered.com/app/1085660/Des...</td>\n",
       "      <td>Destiny 2 is an action MMO with a single evolv...</td>\n",
       "      <td>About This GameDive into the world of Destiny ...</td>\n",
       "      <td>System RequirementsMinimum:Requires a 64-bit p...</td>\n",
       "      <td>Free to PlayLooter ShooterMultiplayerFPSAction...</td>\n",
       "    </tr>\n",
       "  </tbody>\n",
       "</table>\n",
       "</div>"
      ],
      "text/plain": [
       "                                                 url  \\\n",
       "0  https://store.steampowered.com/app/945360/Amon...   \n",
       "1  https://store.steampowered.com/app/730/Counter...   \n",
       "2  https://store.steampowered.com/app/1097150/Fal...   \n",
       "3  https://store.steampowered.com/app/1158310/Cru...   \n",
       "4  https://store.steampowered.com/app/1085660/Des...   \n",
       "\n",
       "                                                desc  \\\n",
       "0  An online and local party game of teamwork and...   \n",
       "1  Counter-Strike: Global Offensive (CS: GO) expa...   \n",
       "2  Fall Guys is a massively multiplayer party gam...   \n",
       "3  Paradox Development Studio brings you the sequ...   \n",
       "4  Destiny 2 is an action MMO with a single evolv...   \n",
       "\n",
       "                                           full_desc  \\\n",
       "0  About This GamePlay with 4-10 player online or...   \n",
       "1  About This GameCounter-Strike: Global Offensiv...   \n",
       "2  About This GameFall Guys: Ultimate Knockout fl...   \n",
       "3  About This GameParadox Development Studio brin...   \n",
       "4  About This GameDive into the world of Destiny ...   \n",
       "\n",
       "                                        requirements  \\\n",
       "0  System RequirementsMinimum:OS: Windows 7 SP1+P...   \n",
       "1  System RequirementsWindowsMac OS XSteamOS + Li...   \n",
       "2  System RequirementsMinimum:Requires a 64-bit p...   \n",
       "3  System RequirementsWindowsMac OS XSteamOS + Li...   \n",
       "4  System RequirementsMinimum:Requires a 64-bit p...   \n",
       "\n",
       "                                           popu_tags  \n",
       "0  MultiplayerOnline Co-OpSpaceSocial DeductionSu...  \n",
       "1  FPSShooterMultiplayerCompetitiveActionTeam-Bas...  \n",
       "2  MultiplayerFunnyBattle RoyaleOnline Co-OpFamil...  \n",
       "3  StrategyRPGSimulationMedievalGrand StrategyHis...  \n",
       "4  Free to PlayLooter ShooterMultiplayerFPSAction...  "
      ]
     },
     "execution_count": 10,
     "metadata": {},
     "output_type": "execute_result"
    }
   ],
   "source": [
    "df.head()"
   ]
  },
  {
   "cell_type": "code",
   "execution_count": 11,
   "metadata": {
    "colab": {
     "base_uri": "https://localhost:8080/",
     "height": 175
    },
    "id": "5xshIS9vKm4G",
    "outputId": "bbf2d966-0efa-4f83-8f2f-1ab31d4afe29"
   },
   "outputs": [
    {
     "data": {
      "text/html": [
       "<div>\n",
       "<style scoped>\n",
       "    .dataframe tbody tr th:only-of-type {\n",
       "        vertical-align: middle;\n",
       "    }\n",
       "\n",
       "    .dataframe tbody tr th {\n",
       "        vertical-align: top;\n",
       "    }\n",
       "\n",
       "    .dataframe thead th {\n",
       "        text-align: right;\n",
       "    }\n",
       "</style>\n",
       "<table border=\"1\" class=\"dataframe\">\n",
       "  <thead>\n",
       "    <tr style=\"text-align: right;\">\n",
       "      <th></th>\n",
       "      <th>url</th>\n",
       "      <th>desc</th>\n",
       "      <th>full_desc</th>\n",
       "      <th>requirements</th>\n",
       "      <th>popu_tags</th>\n",
       "    </tr>\n",
       "  </thead>\n",
       "  <tbody>\n",
       "    <tr>\n",
       "      <th>count</th>\n",
       "      <td>81048</td>\n",
       "      <td>80986</td>\n",
       "      <td>81048</td>\n",
       "      <td>81048</td>\n",
       "      <td>81048</td>\n",
       "    </tr>\n",
       "    <tr>\n",
       "      <th>unique</th>\n",
       "      <td>80893</td>\n",
       "      <td>40689</td>\n",
       "      <td>66421</td>\n",
       "      <td>46747</td>\n",
       "      <td>37842</td>\n",
       "    </tr>\n",
       "    <tr>\n",
       "      <th>top</th>\n",
       "      <td>https://store.steampowered.com/app/945360/Amon...</td>\n",
       "      <td>-</td>\n",
       "      <td>-</td>\n",
       "      <td>-</td>\n",
       "      <td>-</td>\n",
       "    </tr>\n",
       "    <tr>\n",
       "      <th>freq</th>\n",
       "      <td>3</td>\n",
       "      <td>31537</td>\n",
       "      <td>1812</td>\n",
       "      <td>6222</td>\n",
       "      <td>5764</td>\n",
       "    </tr>\n",
       "  </tbody>\n",
       "</table>\n",
       "</div>"
      ],
      "text/plain": [
       "                                                      url   desc full_desc  \\\n",
       "count                                               81048  80986     81048   \n",
       "unique                                              80893  40689     66421   \n",
       "top     https://store.steampowered.com/app/945360/Amon...      -         -   \n",
       "freq                                                    3  31537      1812   \n",
       "\n",
       "       requirements popu_tags  \n",
       "count         81048     81048  \n",
       "unique        46747     37842  \n",
       "top               -         -  \n",
       "freq           6222      5764  "
      ]
     },
     "execution_count": 11,
     "metadata": {},
     "output_type": "execute_result"
    }
   ],
   "source": [
    "df.describe()"
   ]
  },
  {
   "cell_type": "code",
   "execution_count": 12,
   "metadata": {
    "id": "UH07cy-gMzPL"
   },
   "outputs": [],
   "source": [
    "df = df.dropna()"
   ]
  },
  {
   "cell_type": "code",
   "execution_count": 13,
   "metadata": {
    "id": "Vvpj0DkYItPt"
   },
   "outputs": [],
   "source": [
    "description = df[\"desc\"]\n",
    "full_description = df[\"full_desc\"]"
   ]
  },
  {
   "cell_type": "code",
   "execution_count": 14,
   "metadata": {
    "colab": {
     "base_uri": "https://localhost:8080/"
    },
    "id": "7fi2sTwTI0hD",
    "outputId": "9fbf5dd1-a7be-4789-a677-57647c27136e"
   },
   "outputs": [
    {
     "name": "stdout",
     "output_type": "stream",
     "text": [
      "{14: 643, 42: 1424, 29: 1035, 48: 1187, 22: 871, 28: 967, 51: 897, 57: 293, 16: 663, 45: 1407, 50: 968, 31: 1072, 23: 937, 39: 1249, 44: 1376, 20: 864, 38: 1297, 56: 353, 24: 971, 30: 1041, 1: 31905, 36: 1208, 43: 1371, 49: 1211, 40: 1258, 41: 1381, 27: 1033, 33: 1087, 52: 829, 46: 1304, 35: 1162, 32: 1111, 25: 1000, 47: 1177, 37: 1280, 9: 495, 13: 591, 21: 878, 55: 501, 53: 689, 10: 573, 26: 1009, 12: 592, 34: 1208, 15: 708, 8: 397, 7: 332, 19: 857, 17: 741, 6: 275, 11: 534, 54: 544, 18: 756, 4: 189, 58: 198, 60: 121, 64: 24, 63: 40, 61: 78, 59: 144, 5: 249, 65: 21, 3: 196, 62: 64, 2: 137, 66: 8, 69: 1, 67: 2, 68: 2}\n"
     ]
    }
   ],
   "source": [
    "description_lenght_distribution = {}\n",
    "\n",
    "for word in description:\n",
    "    len_of_word = len(word.split())\n",
    "    if len_of_word in description_lenght_distribution:\n",
    "        description_lenght_distribution[len_of_word] += 1\n",
    "    else:\n",
    "        description_lenght_distribution[len_of_word] = 1\n",
    "\n",
    "print(description_lenght_distribution)"
   ]
  },
  {
   "cell_type": "code",
   "execution_count": 15,
   "metadata": {
    "colab": {
     "base_uri": "https://localhost:8080/"
    },
    "id": "JnIwmfJ-NLcv",
    "outputId": "e0c2de02-490d-403e-e1bc-3ec363b5bf3e"
   },
   "outputs": [
    {
     "name": "stdout",
     "output_type": "stream",
     "text": [
      "{206: 158, 136: 285, 157: 255, 335: 45, 390: 46, 287: 77, 250: 105, 262: 135, 236: 137, 180: 233, 171: 222, 395: 42, 240: 143, 521: 23, 352: 53, 532: 19, 485: 18, 309: 68, 463: 26, 321: 75, 756: 5, 277: 74, 269: 128, 59: 277, 30: 311, 190: 193, 213: 174, 264: 139, 393: 46, 328: 64, 146: 230, 414: 30, 471: 27, 396: 44, 310: 73, 358: 54, 215: 190, 138: 293, 214: 179, 128: 336, 152: 287, 306: 78, 400: 41, 451: 28, 89: 318, 234: 169, 1389: 2, 402: 28, 273: 97, 317: 83, 338: 73, 96: 311, 288: 112, 855: 4, 286: 80, 462: 24, 189: 207, 722: 3, 97: 321, 488: 25, 256: 111, 56: 260, 620: 6, 174: 219, 245: 159, 36: 265, 168: 239, 537: 10, 523: 19, 398: 46, 329: 51, 222: 152, 243: 136, 360: 46, 123: 313, 289: 107, 131: 297, 342: 56, 224: 159, 384: 36, 387: 57, 422: 41, 454: 27, 133: 276, 421: 27, 257: 134, 68: 290, 379: 36, 208: 201, 270: 140, 265: 96, 356: 49, 481: 18, 469: 22, 660: 9, 586: 15, 285: 115, 87: 267, 110: 321, 889: 4, 349: 62, 438: 28, 312: 73, 3: 366, 489: 20, 330: 67, 144: 225, 135: 275, 407: 38, 129: 258, 218: 148, 249: 148, 228: 154, 33: 279, 544: 19, 164: 225, 37: 282, 181: 228, 198: 186, 183: 210, 93: 283, 457: 23, 117: 292, 924: 2, 226: 178, 276: 102, 301: 72, 298: 79, 339: 67, 568: 12, 296: 80, 405: 26, 1454: 1, 685: 2, 567: 16, 145: 269, 533: 20, 21: 525, 614: 12, 493: 11, 130: 283, 201: 204, 280: 109, 278: 101, 366: 43, 915: 2, 644: 18, 464: 22, 515: 10, 203: 178, 302: 105, 503: 13, 137: 250, 351: 60, 124: 281, 374: 46, 211: 160, 259: 111, 271: 103, 114: 317, 67: 287, 76: 292, 415: 37, 132: 309, 220: 165, 337: 77, 261: 116, 223: 161, 153: 248, 627: 10, 354: 63, 248: 141, 35: 284, 305: 96, 490: 14, 470: 14, 417: 43, 246: 130, 98: 272, 770: 6, 176: 231, 760: 7, 600: 8, 57: 267, 592: 11, 546: 12, 297: 89, 307: 86, 188: 202, 324: 83, 46: 286, 232: 125, 912: 2, 72: 343, 210: 158, 281: 107, 593: 6, 357: 60, 640: 12, 609: 8, 103: 330, 573: 17, 353: 67, 161: 248, 253: 138, 291: 85, 557: 16, 406: 30, 160: 237, 556: 8, 1: 1752, 472: 22, 448: 31, 432: 34, 184: 228, 473: 12, 81: 315, 732: 6, 543: 22, 121: 297, 1159: 1, 867: 3, 195: 177, 193: 169, 105: 281, 151: 245, 482: 28, 205: 171, 62: 292, 327: 77, 101: 278, 142: 267, 326: 81, 376: 38, 247: 135, 85: 342, 166: 253, 316: 87, 55: 308, 1175: 1, 122: 278, 418: 31, 550: 18, 230: 163, 140: 263, 517: 16, 655: 8, 527: 23, 336: 79, 766: 4, 83: 315, 315: 86, 2213: 1, 972: 4, 686: 4, 182: 228, 936: 4, 172: 206, 147: 233, 525: 14, 526: 18, 143: 267, 266: 117, 187: 214, 304: 83, 126: 286, 102: 349, 109: 321, 47: 282, 665: 6, 1124: 2, 369: 58, 430: 14, 170: 255, 435: 31, 165: 243, 221: 146, 292: 92, 177: 235, 244: 162, 108: 304, 313: 100, 217: 161, 761: 4, 1072: 3, 92: 263, 837: 1, 334: 85, 127: 287, 597: 16, 1216: 1, 383: 45, 258: 121, 1074: 1, 162: 205, 254: 127, 429: 31, 64: 282, 241: 165, 382: 37, 191: 203, 388: 50, 1368: 1, 719: 3, 212: 164, 484: 20, 569: 8, 368: 32, 99: 291, 260: 125, 308: 73, 311: 68, 817: 3, 616: 11, 409: 26, 107: 292, 299: 115, 134: 267, 192: 207, 319: 54, 1118: 1, 84: 285, 453: 22, 169: 278, 112: 304, 1417: 1, 570: 11, 279: 88, 229: 138, 1346: 1, 233: 153, 209: 192, 440: 22, 565: 16, 219: 157, 501: 11, 362: 61, 340: 60, 120: 319, 333: 68, 268: 101, 48: 288, 513: 14, 88: 292, 595: 9, 498: 20, 371: 55, 314: 67, 861: 2, 204: 177, 238: 137, 73: 311, 1636: 3, 199: 176, 1983: 1, 848: 1, 895: 1, 149: 255, 267: 120, 104: 314, 634: 13, 389: 52, 159: 272, 625: 2, 545: 16, 194: 214, 373: 55, 154: 225, 185: 193, 403: 35, 283: 106, 645: 13, 677: 11, 698: 5, 125: 309, 364: 88, 1500: 1, 496: 16, 346: 49, 444: 33, 284: 98, 156: 243, 391: 38, 535: 25, 344: 67, 729: 4, 119: 262, 343: 60, 186: 209, 480: 22, 350: 53, 850: 2, 100: 292, 370: 51, 341: 67, 1135: 1, 179: 239, 91: 271, 272: 108, 642: 6, 323: 74, 872: 5, 106: 277, 70: 296, 1163: 4, 113: 268, 434: 24, 227: 148, 678: 3, 502: 15, 231: 145, 294: 91, 774: 2, 242: 135, 295: 73, 275: 115, 1241: 1, 116: 316, 416: 49, 1722: 1, 437: 31, 86: 312, 202: 180, 167: 243, 235: 161, 361: 44, 866: 6, 255: 129, 77: 265, 460: 16, 970: 5, 200: 187, 90: 318, 1712: 1, 111: 286, 813: 4, 401: 40, 175: 224, 53: 287, 591: 3, 300: 73, 524: 16, 575: 7, 282: 92, 1289: 1, 303: 82, 51: 291, 666: 8, 431: 42, 721: 5, 54: 317, 549: 12, 2101: 1, 554: 16, 225: 162, 1055: 1, 962: 2, 216: 182, 1650: 1, 139: 256, 1923: 1, 839: 4, 497: 23, 654: 8, 611: 8, 197: 189, 529: 16, 178: 230, 466: 25, 426: 36, 679: 3, 512: 14, 1979: 1, 492: 22, 443: 30, 345: 45, 759: 5, 39: 317, 604: 13, 347: 65, 834: 3, 467: 22, 363: 53, 74: 280, 542: 12, 118: 260, 793: 2, 1963: 1, 450: 38, 772: 10, 322: 72, 718: 1, 1166: 4, 1196: 1, 479: 20, 455: 33, 475: 35, 207: 184, 252: 145, 461: 28, 34: 281, 539: 15, 1933: 1, 274: 112, 436: 36, 1215: 1, 860: 4, 528: 24, 355: 65, 173: 253, 155: 235, 522: 14, 141: 279, 483: 21, 500: 22, 392: 43, 404: 45, 158: 224, 442: 34, 399: 34, 196: 196, 293: 95, 468: 21, 449: 24, 1531: 1, 381: 48, 60: 274, 1056: 5, 856: 5, 948: 1, 598: 10, 397: 47, 1116: 1, 505: 22, 331: 70, 551: 13, 580: 7, 511: 22, 348: 53, 588: 6, 148: 254, 163: 268, 420: 29, 531: 14, 69: 302, 2019: 1, 50: 299, 558: 6, 478: 18, 42: 271, 378: 60, 1850: 1, 552: 14, 888: 2, 58: 270, 562: 9, 263: 113, 19: 343, 40: 263, 239: 138, 914: 2, 95: 340, 410: 46, 13: 269, 516: 22, 49: 312, 52: 390, 771: 3, 509: 26, 465: 20, 668: 5, 587: 7, 78: 319, 325: 66, 613: 6, 115: 291, 27: 261, 710: 5, 71: 314, 506: 13, 1223: 1, 375: 32, 63: 361, 510: 21, 876: 1, 23: 490, 742: 11, 425: 32, 237: 134, 1518: 1, 707: 3, 385: 46, 427: 27, 94: 293, 318: 71, 854: 1, 2363: 1, 514: 21, 519: 14, 413: 33, 43: 268, 612: 12, 367: 49, 639: 5, 251: 141, 981: 2, 563: 11, 560: 16, 920: 1, 1376: 2, 66: 266, 534: 8, 540: 18, 419: 43, 359: 54, 960: 2, 504: 11, 1042: 1, 801: 3, 408: 36, 495: 20, 1043: 1, 5: 133, 65: 317, 1010: 2, 386: 46, 896: 3, 870: 3, 15: 218, 1071: 1, 320: 97, 2193: 1, 548: 19, 75: 269, 727: 4, 798: 5, 607: 6, 477: 31, 602: 5, 458: 29, 693: 3, 735: 7, 658: 4, 659: 8, 827: 7, 150: 292, 377: 49, 628: 7, 41: 259, 486: 12, 1013: 4, 749: 4, 290: 79, 606: 13, 7: 91, 681: 8, 82: 299, 28: 298, 18: 256, 1318: 1, 80: 317, 1111: 1, 691: 4, 763: 2, 1044: 1, 690: 6, 32: 322, 61: 272, 456: 31, 394: 45, 1936: 2, 991: 3, 968: 6, 641: 6, 508: 15, 1096: 1, 578: 9, 411: 38, 1100: 1, 653: 5, 380: 40, 16: 253, 14: 246, 765: 2, 851: 2, 574: 6, 709: 10, 624: 13, 547: 15, 663: 13, 553: 12, 1019: 1, 911: 3, 669: 7, 499: 19, 1089: 1, 38: 375, 1866: 1, 11: 225, 1542: 2, 44: 254, 423: 51, 428: 39, 700: 2, 979: 1, 978: 1, 1266: 1, 581: 5, 24: 449, 372: 47, 1423: 2, 652: 9, 1970: 1, 657: 8, 747: 5, 2008: 1, 530: 9, 752: 9, 755: 4, 695: 6, 585: 3, 1752: 1, 582: 16, 647: 3, 441: 31, 976: 2, 777: 9, 974: 3, 623: 6, 332: 58, 730: 1, 584: 12, 439: 39, 12: 273, 433: 31, 1158: 1, 891: 3, 10: 230, 646: 10, 1453: 1, 650: 9, 603: 10, 871: 3, 682: 3, 26: 336, 572: 12, 17: 202, 649: 3, 619: 9, 25: 332, 894: 1, 412: 31, 555: 16, 1927: 1, 29: 263, 1230: 1, 518: 17, 589: 4, 1867: 1, 1476: 1, 688: 7, 716: 5, 445: 23, 1288: 2, 20: 471, 79: 261, 1324: 2, 559: 17, 1392: 1, 683: 5, 494: 22, 675: 9, 22: 541, 365: 53, 1613: 1, 1224: 2, 541: 10, 734: 3, 487: 15, 571: 14, 566: 8, 843: 4, 806: 3, 8: 210, 1000: 1, 728: 5, 706: 4, 446: 22, 651: 5, 601: 10, 812: 1, 768: 3, 1061: 3, 741: 6, 4: 119, 1273: 1, 629: 6, 576: 9, 31: 270, 886: 3, 474: 15, 590: 12, 697: 4, 800: 4, 687: 6, 1059: 2, 45: 323, 594: 8, 802: 3, 1738: 1, 818: 5, 799: 4, 608: 10, 995: 2, 1052: 2, 1534: 1, 782: 2, 965: 2, 661: 9, 507: 20, 863: 4, 583: 11, 538: 13, 1094: 2, 491: 19, 746: 6, 795: 5, 1335: 1, 596: 9, 838: 3, 6: 117, 821: 2, 1537: 1, 447: 27, 670: 8, 775: 7, 993: 1, 1388: 1, 3470: 1, 694: 9, 881: 3, 997: 2, 1438: 1, 671: 7, 869: 3, 618: 11, 1064: 2, 885: 3, 1379: 1, 476: 20, 637: 7, 564: 11, 857: 6, 1078: 1, 862: 1, 424: 18, 808: 5, 726: 3, 621: 7, 973: 2, 811: 3, 1108: 3, 952: 1, 1115: 1, 605: 9, 676: 8, 1127: 1, 1164: 3, 662: 8, 577: 6, 630: 5, 520: 14, 830: 3, 909: 1, 754: 3, 731: 5, 638: 4, 783: 2, 1114: 1, 610: 9, 579: 8, 664: 2, 1267: 1, 708: 2, 452: 26, 648: 3, 845: 3, 921: 1, 1125: 1, 561: 13, 1285: 1, 996: 1, 908: 2, 615: 8, 459: 23, 1605: 1, 815: 1, 791: 1, 632: 10, 1097: 1, 939: 2, 9: 190, 929: 2, 1220: 1, 2143: 1, 2601: 1, 779: 2, 1439: 1, 933: 2, 805: 1, 1865: 1, 692: 5, 703: 2, 832: 2, 1240: 2, 1251: 1, 773: 1, 897: 2, 769: 2, 684: 4, 794: 4, 622: 7, 904: 3, 736: 1, 803: 2, 874: 2, 750: 13, 781: 2, 1001: 4, 1539: 1, 705: 4, 656: 5, 536: 13, 751: 5, 877: 1, 819: 4, 762: 1, 988: 4, 2175: 1, 880: 2, 631: 9, 617: 14, 1153: 1, 1214: 2, 900: 1, 902: 3, 696: 2, 1120: 2, 704: 5, 737: 5, 701: 6, 796: 1, 738: 4, 1190: 1, 1038: 1, 884: 4, 636: 5, 1212: 1, 739: 4, 1014: 2, 1186: 1, 923: 1, 702: 3, 1822: 1, 865: 1, 903: 4, 790: 3, 941: 1, 626: 7, 723: 7, 1207: 2, 780: 1, 931: 3, 1484: 1, 994: 3, 1102: 2, 804: 1, 906: 1, 1058: 4, 753: 2, 1011: 1, 733: 2, 910: 1, 1796: 1, 1268: 1, 809: 1, 789: 5, 980: 2, 814: 2, 810: 4, 792: 3, 925: 3, 787: 5, 959: 1, 822: 1, 2242: 1, 1184: 1, 643: 5, 957: 5, 1122: 2, 887: 1, 744: 1, 2060: 1, 1477: 1, 1099: 2, 635: 7, 667: 4, 1378: 1, 949: 1, 674: 2, 1091: 2, 764: 3, 1173: 2, 758: 1, 1556: 1, 940: 1, 1330: 1, 712: 1, 826: 1, 1012: 1, 599: 4, 823: 1, 673: 2, 852: 2, 849: 1, 1085: 2, 875: 3, 786: 2, 740: 3, 893: 2, 824: 2, 725: 2, 1028: 1, 985: 1, 1404: 2, 943: 4, 1485: 1, 1092: 1, 1090: 3, 778: 3, 1145: 2, 1344: 2, 1374: 1, 1077: 1, 1065: 1, 833: 1, 1202: 1, 1281: 1, 689: 5, 1138: 1, 878: 1, 1075: 1, 748: 2, 745: 2, 711: 6, 1041: 1, 1198: 1, 1126: 2, 950: 1, 951: 2, 743: 4, 1093: 2, 1548: 1, 883: 1, 1228: 1, 853: 1, 1585: 1, 1195: 1, 846: 2, 1070: 3, 1133: 1, 966: 2, 767: 1, 919: 2, 699: 3, 1487: 1, 1972: 1, 2031: 1, 785: 5, 1260: 1, 633: 6, 2456: 1, 784: 4, 1107: 2, 1414: 1, 797: 1, 1809: 1, 1046: 1, 776: 3, 2739: 1, 1169: 2, 835: 1, 1633: 1, 1050: 1, 1025: 1, 2722: 1, 1247: 1, 937: 1, 879: 1, 967: 4, 1361: 1, 947: 1, 1034: 1, 1597: 2, 1030: 2, 1176: 1, 1084: 1, 1057: 1, 1799: 1, 1523: 1, 1137: 1, 2373: 1, 1387: 1, 864: 2, 680: 2, 1727: 1, 916: 1, 1302: 1, 1781: 1, 1306: 3, 934: 1, 1513: 1, 1433: 1, 1004: 1, 2078: 1, 901: 1, 946: 1, 2087: 1, 1466: 1, 1017: 1, 4283: 1, 1080: 1, 2333: 1, 1730: 1, 2293: 1, 1350: 1, 1910: 1, 1022: 1, 859: 2, 1787: 1, 990: 1, 841: 1, 1016: 2, 1422: 1, 1183: 1, 1088: 1, 1257: 1, 1179: 1, 1132: 1, 1441: 1, 1356: 1, 4114: 1, 717: 1, 1033: 4, 715: 1, 954: 3, 1690: 4, 1892: 1, 720: 1, 672: 1, 724: 1, 1381: 1, 1995: 1, 1081: 2, 1009: 5, 1864: 1, 1156: 1, 1401: 1, 961: 2, 892: 3, 1338: 1, 926: 1, 1261: 2, 1270: 1, 1178: 2, 899: 3, 1154: 1, 847: 1, 935: 2, 836: 3, 1566: 3, 984: 2, 1002: 1, 6425: 1, 1478: 3, 913: 2, 1227: 1, 1037: 1, 2198: 1, 963: 2, 3072: 2, 714: 3, 1104: 1}\n"
     ]
    }
   ],
   "source": [
    "full_description_lenght_distribution = {}\n",
    "\n",
    "for word in full_description:\n",
    "    len_of_word = len(word.split())\n",
    "    if len_of_word in full_description_lenght_distribution:\n",
    "        full_description_lenght_distribution[len_of_word] += 1\n",
    "    else:\n",
    "        full_description_lenght_distribution[len_of_word] = 1\n",
    "\n",
    "print(full_description_lenght_distribution)"
   ]
  },
  {
   "cell_type": "code",
   "execution_count": 16,
   "metadata": {},
   "outputs": [
    {
     "name": "stdout",
     "output_type": "stream",
     "text": [
      "Requirement already satisfied: matplotlib in ./venv/lib/python3.12/site-packages (3.9.2)\n",
      "Requirement already satisfied: contourpy>=1.0.1 in ./venv/lib/python3.12/site-packages (from matplotlib) (1.2.1)\n",
      "Requirement already satisfied: cycler>=0.10 in ./venv/lib/python3.12/site-packages (from matplotlib) (0.12.1)\n",
      "Requirement already satisfied: fonttools>=4.22.0 in ./venv/lib/python3.12/site-packages (from matplotlib) (4.53.1)\n",
      "Requirement already satisfied: kiwisolver>=1.3.1 in ./venv/lib/python3.12/site-packages (from matplotlib) (1.4.5)\n",
      "Requirement already satisfied: numpy>=1.23 in ./venv/lib/python3.12/site-packages (from matplotlib) (1.26.4)\n",
      "Requirement already satisfied: packaging>=20.0 in ./venv/lib/python3.12/site-packages (from matplotlib) (24.1)\n",
      "Requirement already satisfied: pillow>=8 in ./venv/lib/python3.12/site-packages (from matplotlib) (10.4.0)\n",
      "Requirement already satisfied: pyparsing>=2.3.1 in ./venv/lib/python3.12/site-packages (from matplotlib) (3.1.2)\n",
      "Requirement already satisfied: python-dateutil>=2.7 in ./venv/lib/python3.12/site-packages (from matplotlib) (2.9.0.post0)\n",
      "Requirement already satisfied: six>=1.5 in ./venv/lib/python3.12/site-packages (from python-dateutil>=2.7->matplotlib) (1.16.0)\n"
     ]
    }
   ],
   "source": [
    "!pip install matplotlib"
   ]
  },
  {
   "cell_type": "code",
   "execution_count": 17,
   "metadata": {
    "colab": {
     "base_uri": "https://localhost:8080/",
     "height": 472
    },
    "id": "GJcH4e01N92N",
    "outputId": "04bcd3df-a00c-4329-96ab-c2f102ce856c"
   },
   "outputs": [
    {
     "data": {
      "image/png": "[encoded data removed]",
      "text/plain": [
       "<Figure size 640x480 with 1 Axes>"
      ]
     },
     "metadata": {},
     "output_type": "display_data"
    }
   ],
   "source": [
    "import matplotlib.pyplot as plt\n",
    "\n",
    "keys = list(description_lenght_distribution.keys())\n",
    "values = list(description_lenght_distribution.values())\n",
    "\n",
    "plt.bar(keys, values)\n",
    "\n",
    "plt.title(\"Lenght of game description\")\n",
    "plt.xlabel(\"Lenght\")\n",
    "plt.ylabel(\"Frequency\")\n",
    "\n",
    "plt.show()"
   ]
  },
  {
   "cell_type": "code",
   "execution_count": 18,
   "metadata": {
    "colab": {
     "base_uri": "https://localhost:8080/",
     "height": 472
    },
    "id": "yi-7eBVMPEcD",
    "outputId": "ad613370-f76d-4a40-ffef-052259a599ac"
   },
   "outputs": [
    {
     "data": {
      "image/png": "[encoded data removed]",
      "text/plain": [
       "<Figure size 640x480 with 1 Axes>"
      ]
     },
     "metadata": {},
     "output_type": "display_data"
    }
   ],
   "source": [
    "keys = list(full_description_lenght_distribution.keys())\n",
    "values = list(full_description_lenght_distribution.values())\n",
    "\n",
    "plt.bar(keys, values)\n",
    "\n",
    "plt.title(\"Lenght of game full description\")\n",
    "plt.xlabel(\"Lenght\")\n",
    "plt.ylabel(\"Frequency\")\n",
    "\n",
    "plt.show()"
   ]
  },
  {
   "cell_type": "markdown",
   "metadata": {
    "id": "KdueVBRDSfxX"
   },
   "source": [
    "# Questão 5"
   ]
  },
  {
   "cell_type": "code",
   "execution_count": 19,
   "metadata": {
    "id": "ziaPadqXSh0O"
   },
   "outputs": [],
   "source": [
    "def process_text(text):\n",
    "    text = re.sub(r'\\b\\w*[^a-zA-Z\\s]\\w*\\b', '', text)\n",
    "\n",
    "    text = re.sub(r'\\b\\w*\\d\\w*\\b', '', text)\n",
    "\n",
    "    text = text.lower()\n",
    "\n",
    "    text = re.sub(r'[^\\w\\s]', '', text)\n",
    "\n",
    "    text = ' '.join(text.split())\n",
    "\n",
    "    return text"
   ]
  },
  {
   "cell_type": "code",
   "execution_count": 20,
   "metadata": {
    "id": "cbWcixMFW3T9"
   },
   "outputs": [],
   "source": [
    "filtred_description = description.apply(process_text)\n",
    "filtred_full_description = full_description.apply(process_text)"
   ]
  },
  {
   "cell_type": "code",
   "execution_count": 21,
   "metadata": {
    "colab": {
     "base_uri": "https://localhost:8080/"
    },
    "id": "vDAcnieBYQTE",
    "outputId": "a96e9eae-c799-46e6-ef02-9d85135858aa"
   },
   "outputs": [],
   "source": [
    "unique_words_description = {}\n",
    "\n",
    "for text in filtred_description:\n",
    "    words = text.split()\n",
    "    for word in words:\n",
    "        if word in unique_words_description:\n",
    "            unique_words_description[word] += 1\n",
    "        else:\n",
    "            unique_words_description[word] = 1"
   ]
  },
  {
   "cell_type": "code",
   "execution_count": 22,
   "metadata": {
    "colab": {
     "base_uri": "https://localhost:8080/"
    },
    "id": "pUgj4vERdgRY",
    "outputId": "b0af87a9-64c5-4079-d251-605b44d50b49"
   },
   "outputs": [
    {
     "name": "stderr",
     "output_type": "stream",
     "text": [
      "IOPub data rate exceeded.\n",
      "The Jupyter server will temporarily stop sending output\n",
      "to the client in order to avoid crashing it.\n",
      "To change this limit, set the config variable\n",
      "`--ServerApp.iopub_data_rate_limit`.\n",
      "\n",
      "Current values:\n",
      "ServerApp.iopub_data_rate_limit=1000000.0 (bytes/sec)\n",
      "ServerApp.rate_limit_window=3.0 (secs)\n",
      "\n"
     ]
    }
   ],
   "source": [
    "unique_words_full_description = {}\n",
    "\n",
    "for text in filtred_full_description:\n",
    "    words = text.split()\n",
    "    for word in words:\n",
    "        if word in unique_words_full_description:\n",
    "            unique_words_full_description[word] += 1\n",
    "        else:\n",
    "            unique_words_full_description[word] = 1\n",
    "\n",
    "print(unique_words_full_description)"
   ]
  },
  {
   "cell_type": "code",
   "execution_count": 23,
   "metadata": {
    "colab": {
     "base_uri": "https://localhost:8080/"
    },
    "id": "IriIY-Ehdh99",
    "outputId": "e241dc25-870a-4fa1-abc7-279cbe3604a1"
   },
   "outputs": [
    {
     "name": "stdout",
     "output_type": "stream",
     "text": [
      "Number of unique words in description: 41951\n",
      "Number of unique words in full description: 232113\n"
     ]
    }
   ],
   "source": [
    "print(\"Number of unique words in description: \" + str(len(unique_words_description)))\n",
    "print(\"Number of unique words in full description: \" + str(len(unique_words_full_description)))"
   ]
  },
  {
   "cell_type": "code",
   "execution_count": 24,
   "metadata": {
    "id": "uqyeoHGfg0zs"
   },
   "outputs": [],
   "source": [
    "def describe_text(text, word_to_index):\n",
    "    description = {}\n",
    "    words = text.split()\n",
    "    for word in words:\n",
    "        if word in word_to_index:\n",
    "            if word in description:\n",
    "                description[word] += 1\n",
    "            else:\n",
    "                description[word] = 1\n",
    "    return description"
   ]
  },
  {
   "cell_type": "code",
   "execution_count": 25,
   "metadata": {
    "colab": {
     "base_uri": "https://localhost:8080/"
    },
    "id": "bfx5Y08ahoz9",
    "outputId": "7c29994a-7a3e-4bb9-ae51-befe7af94fe8"
   },
   "outputs": [
    {
     "name": "stdout",
     "output_type": "stream",
     "text": [
      "an online and local party game of teamwork and betrayal for playersin space\n",
      "{'an': 1, 'online': 1, 'and': 2, 'local': 1, 'party': 1, 'game': 1, 'of': 1, 'teamwork': 1, 'betrayal': 1, 'for': 1, 'playersin': 1, 'space': 1}\n"
     ]
    }
   ],
   "source": [
    "converted_description_texts = []\n",
    "\n",
    "for text in filtred_description:\n",
    "    converted_description_texts.append(describe_text(text, unique_words_description))\n",
    "\n",
    "print(filtred_description[0])\n",
    "print(converted_description_texts[0])"
   ]
  },
  {
   "cell_type": "code",
   "execution_count": 26,
   "metadata": {
    "colab": {
     "base_uri": "https://localhost:8080/"
    },
    "id": "8dw-Rwj0iZKh",
    "outputId": "ef9dc8b4-9d41-4d84-bde9-525da90534e5"
   },
   "outputs": [
    {
     "name": "stdout",
     "output_type": "stream",
     "text": [
      "about this gameplay with player online or via local wifi as you attempt to prepare your spaceship for departure but beware as one or more random players among the crew are impostors bent on killing created as a party game we recommend playing with friends at a lan party or online using voice chat enjoy play between android ios and pc win by completing tasks to prepare the ship or ejecting all impostors react quickly to undo the sabotages check the admin map and security cameras to keep tabs on other crewmates report any dead bodies immediately to start discussion of who the suspected impostor is call emergency meetings to discuss suspicious behavior vote to eject suspected impostors kill crewmates and frame bystanders pretend to run tasks to blend in with the crewmates sneak through the vents to quickly move about the ship use sabotages to cause chaos and divide the crew close doors to trap victims and kill in customization pick your color and hat lots of game options add more impostors more tasks and so much more quickly find a game online from the host list text chat rich discord integration play between pc android and ios\n",
      "{'about': 2, 'this': 1, 'gameplay': 1, 'with': 3, 'player': 1, 'online': 3, 'or': 4, 'via': 1, 'local': 1, 'wifi': 1, 'as': 3, 'you': 1, 'attempt': 1, 'to': 12, 'prepare': 2, 'your': 2, 'spaceship': 1, 'for': 1, 'departure': 1, 'but': 1, 'beware': 1, 'one': 1, 'more': 4, 'random': 1, 'players': 1, 'among': 1, 'the': 10, 'crew': 2, 'are': 1, 'impostors': 4, 'bent': 1, 'on': 2, 'killing': 1, 'created': 1, 'a': 3, 'party': 2, 'game': 3, 'we': 1, 'recommend': 1, 'playing': 1, 'friends': 1, 'at': 1, 'lan': 1, 'using': 1, 'voice': 1, 'chat': 2, 'enjoy': 1, 'play': 2, 'between': 2, 'android': 2, 'ios': 2, 'and': 8, 'pc': 2, 'win': 1, 'by': 1, 'completing': 1, 'tasks': 3, 'ship': 2, 'ejecting': 1, 'all': 1, 'react': 1, 'quickly': 3, 'undo': 1, 'sabotages': 2, 'check': 1, 'admin': 1, 'map': 1, 'security': 1, 'cameras': 1, 'keep': 1, 'tabs': 1, 'other': 1, 'crewmates': 3, 'report': 1, 'any': 1, 'dead': 1, 'bodies': 1, 'immediately': 1, 'start': 1, 'discussion': 1, 'of': 2, 'who': 1, 'suspected': 2, 'impostor': 1, 'is': 1, 'call': 1, 'emergency': 1, 'meetings': 1, 'discuss': 1, 'suspicious': 1, 'behavior': 1, 'vote': 1, 'eject': 1, 'kill': 2, 'frame': 1, 'bystanders': 1, 'pretend': 1, 'run': 1, 'blend': 1, 'in': 2, 'sneak': 1, 'through': 1, 'vents': 1, 'move': 1, 'use': 1, 'cause': 1, 'chaos': 1, 'divide': 1, 'close': 1, 'doors': 1, 'trap': 1, 'victims': 1, 'customization': 1, 'pick': 1, 'color': 1, 'hat': 1, 'lots': 1, 'options': 1, 'add': 1, 'so': 1, 'much': 1, 'find': 1, 'from': 1, 'host': 1, 'list': 1, 'text': 1, 'rich': 1, 'discord': 1, 'integration': 1}\n"
     ]
    }
   ],
   "source": [
    "converted_full_description_texts = []\n",
    "\n",
    "for text in filtred_full_description:\n",
    "    converted_full_description_texts.append(describe_text(text, unique_words_full_description))\n",
    "\n",
    "print(filtred_full_description[0])\n",
    "print(converted_full_description_texts[0])"
   ]
  },
  {
   "cell_type": "markdown",
   "metadata": {
    "id": "Fp-GO7tWj4uC"
   },
   "source": [
    "## Dez palavras mais frequentes da base de dados"
   ]
  },
  {
   "cell_type": "code",
   "execution_count": 27,
   "metadata": {
    "colab": {
     "base_uri": "https://localhost:8080/"
    },
    "id": "RmwPsQwuj3tQ",
    "outputId": "f15ef75c-53e2-419e-95bb-391c34e75822"
   },
   "outputs": [
    {
     "name": "stdout",
     "output_type": "stream",
     "text": [
      "the\n",
      "and\n",
      "a\n",
      "of\n",
      "to\n",
      "in\n",
      "is\n",
      "you\n",
      "your\n",
      "game\n"
     ]
    }
   ],
   "source": [
    "for word in sorted(unique_words_description, key=unique_words_description.get, reverse=True)[:10]:\n",
    "    print(word)"
   ]
  },
  {
   "cell_type": "code",
   "execution_count": 28,
   "metadata": {
    "colab": {
     "base_uri": "https://localhost:8080/"
    },
    "id": "nOvIa2uKksuz",
    "outputId": "a6b6254d-2423-4a02-9ac8-de2c45d0bd65"
   },
   "outputs": [
    {
     "name": "stdout",
     "output_type": "stream",
     "text": [
      "the\n",
      "and\n",
      "to\n",
      "of\n",
      "a\n",
      "in\n",
      "you\n",
      "your\n",
      "with\n",
      "is\n"
     ]
    }
   ],
   "source": [
    "for word in sorted(unique_words_full_description, key=unique_words_full_description.get, reverse=True)[:10]:\n",
    "    print(word)"
   ]
  },
  {
   "cell_type": "markdown",
   "metadata": {
    "id": "lfSFzgaSkwZA"
   },
   "source": [
    "# Questão 6"
   ]
  },
  {
   "cell_type": "code",
   "execution_count": 29,
   "metadata": {},
   "outputs": [
    {
     "name": "stdout",
     "output_type": "stream",
     "text": [
      "Requirement already satisfied: nltk in ./venv/lib/python3.12/site-packages (3.9.1)\n",
      "Requirement already satisfied: click in ./venv/lib/python3.12/site-packages (from nltk) (8.1.7)\n",
      "Requirement already satisfied: joblib in ./venv/lib/python3.12/site-packages (from nltk) (1.4.2)\n",
      "Requirement already satisfied: regex>=2021.8.3 in ./venv/lib/python3.12/site-packages (from nltk) (2024.7.24)\n",
      "Requirement already satisfied: tqdm in ./venv/lib/python3.12/site-packages (from nltk) (4.66.5)\n"
     ]
    }
   ],
   "source": [
    "!pip install nltk"
   ]
  },
  {
   "cell_type": "code",
   "execution_count": 30,
   "metadata": {
    "colab": {
     "base_uri": "https://localhost:8080/"
    },
    "id": "mlpr0eOyXqci",
    "outputId": "950a4f9a-59e9-4335-f34b-a6e53a4f3531"
   },
   "outputs": [
    {
     "name": "stderr",
     "output_type": "stream",
     "text": [
      "[nltk_data] Downloading package stopwords to\n",
      "[nltk_data]     /home/zadhart/nltk_data...\n",
      "[nltk_data]   Package stopwords is already up-to-date!\n",
      "[nltk_data] Downloading package punkt to /home/zadhart/nltk_data...\n",
      "[nltk_data]   Package punkt is already up-to-date!\n",
      "[nltk_data] Downloading package punkt_tab to\n",
      "[nltk_data]     /home/zadhart/nltk_data...\n",
      "[nltk_data]   Package punkt_tab is already up-to-date!\n"
     ]
    },
    {
     "data": {
      "text/plain": [
       "True"
      ]
     },
     "execution_count": 30,
     "metadata": {},
     "output_type": "execute_result"
    }
   ],
   "source": [
    "import nltk\n",
    "from nltk.corpus import stopwords\n",
    "from nltk.tokenize import word_tokenize\n",
    "\n",
    "nltk.download('stopwords')\n",
    "nltk.download('punkt')\n",
    "nltk.download('punkt_tab')"
   ]
  },
  {
   "cell_type": "code",
   "execution_count": 31,
   "metadata": {
    "id": "bkZjuRbpasVR"
   },
   "outputs": [],
   "source": [
    "def improved_text_processor(text):\n",
    "    text_first_processed = process_text(text)\n",
    "\n",
    "    words = word_tokenize(text_first_processed)\n",
    "\n",
    "    stop_words = set(stopwords.words('english'))\n",
    "\n",
    "    filtered_words = [word for word in words if word.lower() not in stop_words]\n",
    "\n",
    "    final_text = ' '.join(filtered_words)\n",
    "\n",
    "    return final_text"
   ]
  },
  {
   "cell_type": "code",
   "execution_count": 32,
   "metadata": {
    "id": "XeCpVI7PbLgi"
   },
   "outputs": [],
   "source": [
    "improved_filtred_description = description.apply(improved_text_processor)\n",
    "improved_filtred_full_description = full_description.apply(improved_text_processor)"
   ]
  },
  {
   "cell_type": "code",
   "execution_count": 33,
   "metadata": {
    "colab": {
     "base_uri": "https://localhost:8080/"
    },
    "id": "bcjnl8KVdGl9",
    "outputId": "9a0bed9c-0a2f-4d45-bdf2-5e916f2fdcc7"
   },
   "outputs": [],
   "source": [
    "unique_words_improved_description = {}\n",
    "\n",
    "for text in improved_filtred_description:\n",
    "  words = text.split()\n",
    "\n",
    "  for word in words:\n",
    "    if word in unique_words_improved_description:\n",
    "      unique_words_improved_description[word] += 1\n",
    "    else:\n",
    "      unique_words_improved_description[word] = 1"
   ]
  },
  {
   "cell_type": "code",
   "execution_count": 34,
   "metadata": {
    "colab": {
     "base_uri": "https://localhost:8080/"
    },
    "id": "p7eqs1o0mRfe",
    "outputId": "eefd6bf5-a699-4967-e99e-51a2c724f5fa"
   },
   "outputs": [
    {
     "name": "stderr",
     "output_type": "stream",
     "text": [
      "IOPub data rate exceeded.\n",
      "The Jupyter server will temporarily stop sending output\n",
      "to the client in order to avoid crashing it.\n",
      "To change this limit, set the config variable\n",
      "`--ServerApp.iopub_data_rate_limit`.\n",
      "\n",
      "Current values:\n",
      "ServerApp.iopub_data_rate_limit=1000000.0 (bytes/sec)\n",
      "ServerApp.rate_limit_window=3.0 (secs)\n",
      "\n"
     ]
    }
   ],
   "source": [
    "unique_words_improved_full_description = {}\n",
    "\n",
    "for text in improved_filtred_full_description:\n",
    "  words = text.split()\n",
    "\n",
    "  for word in words:\n",
    "    if word in unique_words_improved_full_description:\n",
    "      unique_words_improved_full_description[word] += 1\n",
    "    else:\n",
    "      unique_words_improved_full_description[word] = 1\n",
    "\n",
    "print(unique_words_improved_full_description)"
   ]
  },
  {
   "cell_type": "code",
   "execution_count": 35,
   "metadata": {
    "colab": {
     "base_uri": "https://localhost:8080/"
    },
    "id": "3iyWJcldmWqJ",
    "outputId": "c79a06cc-2f51-4a94-8d09-56fa3c0adee0"
   },
   "outputs": [
    {
     "name": "stdout",
     "output_type": "stream",
     "text": [
      "Number of unique words in description: 41809\n",
      "Number of unique words in full description: 231969\n"
     ]
    }
   ],
   "source": [
    "print(\"Number of unique words in description: \" + str(len(unique_words_improved_description)))\n",
    "print(\"Number of unique words in full description: \" + str(len(unique_words_improved_full_description)))"
   ]
  },
  {
   "cell_type": "markdown",
   "metadata": {
    "id": "lzYdtJACpwr5"
   },
   "source": [
    "## Dez palavras mais frequentes da base de dados"
   ]
  },
  {
   "cell_type": "code",
   "execution_count": 36,
   "metadata": {
    "colab": {
     "base_uri": "https://localhost:8080/"
    },
    "id": "-fpBE9ZnmZxL",
    "outputId": "100ac504-9f3b-43ae-aab6-b96f02910f73"
   },
   "outputs": [
    {
     "name": "stdout",
     "output_type": "stream",
     "text": [
      "game\n",
      "world\n",
      "new\n",
      "play\n",
      "adventure\n",
      "way\n",
      "action\n",
      "one\n",
      "time\n",
      "experience\n"
     ]
    }
   ],
   "source": [
    "for word in sorted(unique_words_improved_description, key=unique_words_improved_description.get, reverse=True)[:10]:\n",
    "    print(word)"
   ]
  },
  {
   "cell_type": "code",
   "execution_count": 37,
   "metadata": {
    "colab": {
     "base_uri": "https://localhost:8080/"
    },
    "id": "MtaEa3shmgD-",
    "outputId": "89d547b5-cb33-4edc-d23e-8622ee8dadb4"
   },
   "outputs": [
    {
     "name": "stdout",
     "output_type": "stream",
     "text": [
      "game\n",
      "new\n",
      "world\n",
      "one\n",
      "play\n",
      "time\n",
      "different\n",
      "use\n",
      "unique\n",
      "players\n"
     ]
    }
   ],
   "source": [
    "for word in sorted(unique_words_improved_full_description, key=unique_words_improved_full_description.get, reverse=True)[:10]:\n",
    "    print(word)"
   ]
  },
  {
   "cell_type": "markdown",
   "metadata": {
    "id": "M5TGt5KMi1ip"
   },
   "source": [
    "## Dez palavras mais frequentes usando a base de dados stemizada"
   ]
  },
  {
   "cell_type": "code",
   "execution_count": 38,
   "metadata": {
    "colab": {
     "base_uri": "https://localhost:8080/"
    },
    "id": "TQcfOd7-i06e",
    "outputId": "7f415d6b-f9b4-4652-af7a-4451989db050"
   },
   "outputs": [
    {
     "name": "stderr",
     "output_type": "stream",
     "text": [
      "[nltk_data] Downloading package rslp to /home/zadhart/nltk_data...\n",
      "[nltk_data]   Package rslp is already up-to-date!\n"
     ]
    }
   ],
   "source": [
    "from nltk.stem import RSLPStemmer\n",
    "from nltk.tokenize import word_tokenize\n",
    "\n",
    "nltk.download('rslp')\n",
    "\n",
    "stemmer = RSLPStemmer()"
   ]
  },
  {
   "cell_type": "code",
   "execution_count": 39,
   "metadata": {
    "id": "x7ceRiFLkyrT"
   },
   "outputs": [],
   "source": [
    "stemmed_filtred_description = []\n",
    "stemmed_filtred_full_description = []"
   ]
  },
  {
   "cell_type": "code",
   "execution_count": 40,
   "metadata": {
    "id": "X1GxirKNlIve"
   },
   "outputs": [],
   "source": [
    "for word in improved_filtred_description:\n",
    "    if word:\n",
    "      stemmed_filtred_description.append(stemmer.stem(word))\n",
    "\n",
    "for word in improved_filtred_full_description:\n",
    "    if word:\n",
    "      stemmed_filtred_full_description.append(stemmer.stem(word))"
   ]
  },
  {
   "cell_type": "code",
   "execution_count": 41,
   "metadata": {
    "colab": {
     "base_uri": "https://localhost:8080/"
    },
    "id": "31IOPnoZlLfb",
    "outputId": "e16203b0-7c9a-44d9-94a5-aeb7dcbc662c"
   },
   "outputs": [],
   "source": [
    "unique_words_improved_description = {}\n",
    "\n",
    "for text in stemmed_filtred_description:\n",
    "  words = text.split()\n",
    "\n",
    "  for word in words:\n",
    "    if word in unique_words_improved_description:\n",
    "      unique_words_improved_description[word] += 1\n",
    "    else:\n",
    "      unique_words_improved_description[word] = 1"
   ]
  },
  {
   "cell_type": "code",
   "execution_count": 42,
   "metadata": {
    "colab": {
     "base_uri": "https://localhost:8080/"
    },
    "id": "ZLwhr-5Klswl",
    "outputId": "02ef8c81-44da-4e95-b1cb-5635f03be648"
   },
   "outputs": [],
   "source": [
    "unique_words_full_description\n",
    "\n",
    "for text in stemmed_filtred_full_description:\n",
    "  words = text.split()\n",
    "\n",
    "  for word in words:\n",
    "    if word in unique_words_improved_full_description:\n",
    "      unique_words_improved_full_description[word] += 1\n",
    "    else:\n",
    "      unique_words_improved_full_description[word] = 1"
   ]
  },
  {
   "cell_type": "code",
   "execution_count": 43,
   "metadata": {
    "colab": {
     "base_uri": "https://localhost:8080/"
    },
    "id": "M8ILoVt8oJM7",
    "outputId": "444e7ba6-8834-4d78-90f8-06b1471f0a9a"
   },
   "outputs": [
    {
     "name": "stdout",
     "output_type": "stream",
     "text": [
      "game\n",
      "world\n",
      "new\n",
      "play\n",
      "adventure\n",
      "way\n",
      "action\n",
      "one\n",
      "find\n",
      "take\n"
     ]
    }
   ],
   "source": [
    "for word in sorted(unique_words_improved_description, key=unique_words_improved_description.get, reverse=True)[:10]:\n",
    "    print(word)"
   ]
  },
  {
   "cell_type": "code",
   "execution_count": 44,
   "metadata": {
    "colab": {
     "base_uri": "https://localhost:8080/"
    },
    "id": "q1dcW73foNjq",
    "outputId": "9baae4f7-364f-4d52-ca4a-bf9a34a948e3"
   },
   "outputs": [
    {
     "name": "stdout",
     "output_type": "stream",
     "text": [
      "game\n",
      "new\n",
      "world\n",
      "one\n",
      "play\n",
      "time\n",
      "different\n",
      "use\n",
      "unique\n",
      "get\n"
     ]
    }
   ],
   "source": [
    "for word in sorted(unique_words_improved_full_description, key=unique_words_improved_full_description.get, reverse=True)[:10]:\n",
    "    print(word)"
   ]
  },
  {
   "cell_type": "markdown",
   "metadata": {
    "id": "PdMAy1JboeQp"
   },
   "source": [
    "## Realizando a rolulacao de POS"
   ]
  },
  {
   "cell_type": "code",
   "execution_count": 45,
   "metadata": {},
   "outputs": [
    {
     "name": "stdout",
     "output_type": "stream",
     "text": [
      "Requirement already satisfied: numpy in ./venv/lib/python3.12/site-packages (1.26.4)\n",
      "Requirement already satisfied: spacy in ./venv/lib/python3.12/site-packages (3.7.5)\n",
      "Requirement already satisfied: spacy-legacy<3.1.0,>=3.0.11 in ./venv/lib/python3.12/site-packages (from spacy) (3.0.12)\n",
      "Requirement already satisfied: spacy-loggers<2.0.0,>=1.0.0 in ./venv/lib/python3.12/site-packages (from spacy) (1.0.5)\n",
      "Requirement already satisfied: murmurhash<1.1.0,>=0.28.0 in ./venv/lib/python3.12/site-packages (from spacy) (1.0.10)\n",
      "Requirement already satisfied: cymem<2.1.0,>=2.0.2 in ./venv/lib/python3.12/site-packages (from spacy) (2.0.8)\n",
      "Requirement already satisfied: preshed<3.1.0,>=3.0.2 in ./venv/lib/python3.12/site-packages (from spacy) (3.0.9)\n",
      "Requirement already satisfied: thinc<8.3.0,>=8.2.2 in ./venv/lib/python3.12/site-packages (from spacy) (8.2.5)\n",
      "Requirement already satisfied: wasabi<1.2.0,>=0.9.1 in ./venv/lib/python3.12/site-packages (from spacy) (1.1.3)\n",
      "Requirement already satisfied: srsly<3.0.0,>=2.4.3 in ./venv/lib/python3.12/site-packages (from spacy) (2.4.8)\n",
      "Requirement already satisfied: catalogue<2.1.0,>=2.0.6 in ./venv/lib/python3.12/site-packages (from spacy) (2.0.10)\n",
      "Requirement already satisfied: weasel<0.5.0,>=0.1.0 in ./venv/lib/python3.12/site-packages (from spacy) (0.4.1)\n",
      "Requirement already satisfied: typer<1.0.0,>=0.3.0 in ./venv/lib/python3.12/site-packages (from spacy) (0.12.4)\n",
      "Requirement already satisfied: tqdm<5.0.0,>=4.38.0 in ./venv/lib/python3.12/site-packages (from spacy) (4.66.5)\n",
      "Requirement already satisfied: requests<3.0.0,>=2.13.0 in ./venv/lib/python3.12/site-packages (from spacy) (2.32.3)\n",
      "Requirement already satisfied: pydantic!=1.8,!=1.8.1,<3.0.0,>=1.7.4 in ./venv/lib/python3.12/site-packages (from spacy) (2.8.2)\n",
      "Requirement already satisfied: jinja2 in ./venv/lib/python3.12/site-packages (from spacy) (3.1.4)\n",
      "Requirement already satisfied: setuptools in ./venv/lib/python3.12/site-packages (from spacy) (72.2.0)\n",
      "Requirement already satisfied: packaging>=20.0 in ./venv/lib/python3.12/site-packages (from spacy) (24.1)\n",
      "Requirement already satisfied: langcodes<4.0.0,>=3.2.0 in ./venv/lib/python3.12/site-packages (from spacy) (3.4.0)\n",
      "Requirement already satisfied: language-data>=1.2 in ./venv/lib/python3.12/site-packages (from langcodes<4.0.0,>=3.2.0->spacy) (1.2.0)\n",
      "Requirement already satisfied: annotated-types>=0.4.0 in ./venv/lib/python3.12/site-packages (from pydantic!=1.8,!=1.8.1,<3.0.0,>=1.7.4->spacy) (0.7.0)\n",
      "Requirement already satisfied: pydantic-core==2.20.1 in ./venv/lib/python3.12/site-packages (from pydantic!=1.8,!=1.8.1,<3.0.0,>=1.7.4->spacy) (2.20.1)\n",
      "Requirement already satisfied: typing-extensions>=4.6.1 in ./venv/lib/python3.12/site-packages (from pydantic!=1.8,!=1.8.1,<3.0.0,>=1.7.4->spacy) (4.12.2)\n",
      "Requirement already satisfied: charset-normalizer<4,>=2 in ./venv/lib/python3.12/site-packages (from requests<3.0.0,>=2.13.0->spacy) (3.3.2)\n",
      "Requirement already satisfied: idna<4,>=2.5 in ./venv/lib/python3.12/site-packages (from requests<3.0.0,>=2.13.0->spacy) (3.7)\n",
      "Requirement already satisfied: urllib3<3,>=1.21.1 in ./venv/lib/python3.12/site-packages (from requests<3.0.0,>=2.13.0->spacy) (2.2.2)\n",
      "Requirement already satisfied: certifi>=2017.4.17 in ./venv/lib/python3.12/site-packages (from requests<3.0.0,>=2.13.0->spacy) (2024.7.4)\n",
      "Requirement already satisfied: blis<0.8.0,>=0.7.8 in ./venv/lib/python3.12/site-packages (from thinc<8.3.0,>=8.2.2->spacy) (0.7.11)\n",
      "Requirement already satisfied: confection<1.0.0,>=0.0.1 in ./venv/lib/python3.12/site-packages (from thinc<8.3.0,>=8.2.2->spacy) (0.1.5)\n",
      "Requirement already satisfied: click>=8.0.0 in ./venv/lib/python3.12/site-packages (from typer<1.0.0,>=0.3.0->spacy) (8.1.7)\n",
      "Requirement already satisfied: shellingham>=1.3.0 in ./venv/lib/python3.12/site-packages (from typer<1.0.0,>=0.3.0->spacy) (1.5.4)\n",
      "Requirement already satisfied: rich>=10.11.0 in ./venv/lib/python3.12/site-packages (from typer<1.0.0,>=0.3.0->spacy) (13.7.1)\n",
      "Requirement already satisfied: cloudpathlib<1.0.0,>=0.7.0 in ./venv/lib/python3.12/site-packages (from weasel<0.5.0,>=0.1.0->spacy) (0.18.1)\n",
      "Requirement already satisfied: smart-open<8.0.0,>=5.2.1 in ./venv/lib/python3.12/site-packages (from weasel<0.5.0,>=0.1.0->spacy) (7.0.4)\n",
      "Requirement already satisfied: MarkupSafe>=2.0 in ./venv/lib/python3.12/site-packages (from jinja2->spacy) (2.1.5)\n",
      "Requirement already satisfied: marisa-trie>=0.7.7 in ./venv/lib/python3.12/site-packages (from language-data>=1.2->langcodes<4.0.0,>=3.2.0->spacy) (1.2.0)\n",
      "Requirement already satisfied: markdown-it-py>=2.2.0 in ./venv/lib/python3.12/site-packages (from rich>=10.11.0->typer<1.0.0,>=0.3.0->spacy) (3.0.0)\n",
      "Requirement already satisfied: pygments<3.0.0,>=2.13.0 in ./venv/lib/python3.12/site-packages (from rich>=10.11.0->typer<1.0.0,>=0.3.0->spacy) (2.18.0)\n",
      "Requirement already satisfied: wrapt in ./venv/lib/python3.12/site-packages (from smart-open<8.0.0,>=5.2.1->weasel<0.5.0,>=0.1.0->spacy) (1.16.0)\n",
      "Requirement already satisfied: mdurl~=0.1 in ./venv/lib/python3.12/site-packages (from markdown-it-py>=2.2.0->rich>=10.11.0->typer<1.0.0,>=0.3.0->spacy) (0.1.2)\n"
     ]
    }
   ],
   "source": [
    "!pip install numpy spacy"
   ]
  },
  {
   "cell_type": "code",
   "execution_count": 46,
   "metadata": {},
   "outputs": [
    {
     "name": "stdout",
     "output_type": "stream",
     "text": [
      "Collecting en-core-web-sm==3.7.1\n",
      "  Downloading https://github.com/explosion/spacy-models/releases/download/en_core_web_sm-3.7.1/en_core_web_sm-3.7.1-py3-none-any.whl (12.8 MB)\n",
      "\u001b[2K     \u001b[38;2;114;156;31m━━━━━━━━━━━━━━━━━━━━━━━━━━━━━━━━━━━━━━━━\u001b[0m \u001b[32m12.8/12.8 MB\u001b[0m \u001b[31m34.6 MB/s\u001b[0m eta \u001b[36m0:00:00\u001b[0mMB/s\u001b[0m eta \u001b[36m0:00:01\u001b[0m02\u001b[0m\n",
      "\u001b[?25hRequirement already satisfied: spacy<3.8.0,>=3.7.2 in ./venv/lib/python3.12/site-packages (from en-core-web-sm==3.7.1) (3.7.5)\n",
      "Requirement already satisfied: spacy-legacy<3.1.0,>=3.0.11 in ./venv/lib/python3.12/site-packages (from spacy<3.8.0,>=3.7.2->en-core-web-sm==3.7.1) (3.0.12)\n",
      "Requirement already satisfied: spacy-loggers<2.0.0,>=1.0.0 in ./venv/lib/python3.12/site-packages (from spacy<3.8.0,>=3.7.2->en-core-web-sm==3.7.1) (1.0.5)\n",
      "Requirement already satisfied: murmurhash<1.1.0,>=0.28.0 in ./venv/lib/python3.12/site-packages (from spacy<3.8.0,>=3.7.2->en-core-web-sm==3.7.1) (1.0.10)\n",
      "Requirement already satisfied: cymem<2.1.0,>=2.0.2 in ./venv/lib/python3.12/site-packages (from spacy<3.8.0,>=3.7.2->en-core-web-sm==3.7.1) (2.0.8)\n",
      "Requirement already satisfied: preshed<3.1.0,>=3.0.2 in ./venv/lib/python3.12/site-packages (from spacy<3.8.0,>=3.7.2->en-core-web-sm==3.7.1) (3.0.9)\n",
      "Requirement already satisfied: thinc<8.3.0,>=8.2.2 in ./venv/lib/python3.12/site-packages (from spacy<3.8.0,>=3.7.2->en-core-web-sm==3.7.1) (8.2.5)\n",
      "Requirement already satisfied: wasabi<1.2.0,>=0.9.1 in ./venv/lib/python3.12/site-packages (from spacy<3.8.0,>=3.7.2->en-core-web-sm==3.7.1) (1.1.3)\n",
      "Requirement already satisfied: srsly<3.0.0,>=2.4.3 in ./venv/lib/python3.12/site-packages (from spacy<3.8.0,>=3.7.2->en-core-web-sm==3.7.1) (2.4.8)\n",
      "Requirement already satisfied: catalogue<2.1.0,>=2.0.6 in ./venv/lib/python3.12/site-packages (from spacy<3.8.0,>=3.7.2->en-core-web-sm==3.7.1) (2.0.10)\n",
      "Requirement already satisfied: weasel<0.5.0,>=0.1.0 in ./venv/lib/python3.12/site-packages (from spacy<3.8.0,>=3.7.2->en-core-web-sm==3.7.1) (0.4.1)\n",
      "Requirement already satisfied: typer<1.0.0,>=0.3.0 in ./venv/lib/python3.12/site-packages (from spacy<3.8.0,>=3.7.2->en-core-web-sm==3.7.1) (0.12.4)\n",
      "Requirement already satisfied: tqdm<5.0.0,>=4.38.0 in ./venv/lib/python3.12/site-packages (from spacy<3.8.0,>=3.7.2->en-core-web-sm==3.7.1) (4.66.5)\n",
      "Requirement already satisfied: requests<3.0.0,>=2.13.0 in ./venv/lib/python3.12/site-packages (from spacy<3.8.0,>=3.7.2->en-core-web-sm==3.7.1) (2.32.3)\n",
      "Requirement already satisfied: pydantic!=1.8,!=1.8.1,<3.0.0,>=1.7.4 in ./venv/lib/python3.12/site-packages (from spacy<3.8.0,>=3.7.2->en-core-web-sm==3.7.1) (2.8.2)\n",
      "Requirement already satisfied: jinja2 in ./venv/lib/python3.12/site-packages (from spacy<3.8.0,>=3.7.2->en-core-web-sm==3.7.1) (3.1.4)\n",
      "Requirement already satisfied: setuptools in ./venv/lib/python3.12/site-packages (from spacy<3.8.0,>=3.7.2->en-core-web-sm==3.7.1) (72.2.0)\n",
      "Requirement already satisfied: packaging>=20.0 in ./venv/lib/python3.12/site-packages (from spacy<3.8.0,>=3.7.2->en-core-web-sm==3.7.1) (24.1)\n",
      "Requirement already satisfied: langcodes<4.0.0,>=3.2.0 in ./venv/lib/python3.12/site-packages (from spacy<3.8.0,>=3.7.2->en-core-web-sm==3.7.1) (3.4.0)\n",
      "Requirement already satisfied: numpy>=1.19.0 in ./venv/lib/python3.12/site-packages (from spacy<3.8.0,>=3.7.2->en-core-web-sm==3.7.1) (1.26.4)\n",
      "Requirement already satisfied: language-data>=1.2 in ./venv/lib/python3.12/site-packages (from langcodes<4.0.0,>=3.2.0->spacy<3.8.0,>=3.7.2->en-core-web-sm==3.7.1) (1.2.0)\n",
      "Requirement already satisfied: annotated-types>=0.4.0 in ./venv/lib/python3.12/site-packages (from pydantic!=1.8,!=1.8.1,<3.0.0,>=1.7.4->spacy<3.8.0,>=3.7.2->en-core-web-sm==3.7.1) (0.7.0)\n",
      "Requirement already satisfied: pydantic-core==2.20.1 in ./venv/lib/python3.12/site-packages (from pydantic!=1.8,!=1.8.1,<3.0.0,>=1.7.4->spacy<3.8.0,>=3.7.2->en-core-web-sm==3.7.1) (2.20.1)\n",
      "Requirement already satisfied: typing-extensions>=4.6.1 in ./venv/lib/python3.12/site-packages (from pydantic!=1.8,!=1.8.1,<3.0.0,>=1.7.4->spacy<3.8.0,>=3.7.2->en-core-web-sm==3.7.1) (4.12.2)\n",
      "Requirement already satisfied: charset-normalizer<4,>=2 in ./venv/lib/python3.12/site-packages (from requests<3.0.0,>=2.13.0->spacy<3.8.0,>=3.7.2->en-core-web-sm==3.7.1) (3.3.2)\n",
      "Requirement already satisfied: idna<4,>=2.5 in ./venv/lib/python3.12/site-packages (from requests<3.0.0,>=2.13.0->spacy<3.8.0,>=3.7.2->en-core-web-sm==3.7.1) (3.7)\n",
      "Requirement already satisfied: urllib3<3,>=1.21.1 in ./venv/lib/python3.12/site-packages (from requests<3.0.0,>=2.13.0->spacy<3.8.0,>=3.7.2->en-core-web-sm==3.7.1) (2.2.2)\n",
      "Requirement already satisfied: certifi>=2017.4.17 in ./venv/lib/python3.12/site-packages (from requests<3.0.0,>=2.13.0->spacy<3.8.0,>=3.7.2->en-core-web-sm==3.7.1) (2024.7.4)\n",
      "Requirement already satisfied: blis<0.8.0,>=0.7.8 in ./venv/lib/python3.12/site-packages (from thinc<8.3.0,>=8.2.2->spacy<3.8.0,>=3.7.2->en-core-web-sm==3.7.1) (0.7.11)\n",
      "Requirement already satisfied: confection<1.0.0,>=0.0.1 in ./venv/lib/python3.12/site-packages (from thinc<8.3.0,>=8.2.2->spacy<3.8.0,>=3.7.2->en-core-web-sm==3.7.1) (0.1.5)\n",
      "Requirement already satisfied: click>=8.0.0 in ./venv/lib/python3.12/site-packages (from typer<1.0.0,>=0.3.0->spacy<3.8.0,>=3.7.2->en-core-web-sm==3.7.1) (8.1.7)\n",
      "Requirement already satisfied: shellingham>=1.3.0 in ./venv/lib/python3.12/site-packages (from typer<1.0.0,>=0.3.0->spacy<3.8.0,>=3.7.2->en-core-web-sm==3.7.1) (1.5.4)\n",
      "Requirement already satisfied: rich>=10.11.0 in ./venv/lib/python3.12/site-packages (from typer<1.0.0,>=0.3.0->spacy<3.8.0,>=3.7.2->en-core-web-sm==3.7.1) (13.7.1)\n",
      "Requirement already satisfied: cloudpathlib<1.0.0,>=0.7.0 in ./venv/lib/python3.12/site-packages (from weasel<0.5.0,>=0.1.0->spacy<3.8.0,>=3.7.2->en-core-web-sm==3.7.1) (0.18.1)\n",
      "Requirement already satisfied: smart-open<8.0.0,>=5.2.1 in ./venv/lib/python3.12/site-packages (from weasel<0.5.0,>=0.1.0->spacy<3.8.0,>=3.7.2->en-core-web-sm==3.7.1) (7.0.4)\n",
      "Requirement already satisfied: MarkupSafe>=2.0 in ./venv/lib/python3.12/site-packages (from jinja2->spacy<3.8.0,>=3.7.2->en-core-web-sm==3.7.1) (2.1.5)\n",
      "Requirement already satisfied: marisa-trie>=0.7.7 in ./venv/lib/python3.12/site-packages (from language-data>=1.2->langcodes<4.0.0,>=3.2.0->spacy<3.8.0,>=3.7.2->en-core-web-sm==3.7.1) (1.2.0)\n",
      "Requirement already satisfied: markdown-it-py>=2.2.0 in ./venv/lib/python3.12/site-packages (from rich>=10.11.0->typer<1.0.0,>=0.3.0->spacy<3.8.0,>=3.7.2->en-core-web-sm==3.7.1) (3.0.0)\n",
      "Requirement already satisfied: pygments<3.0.0,>=2.13.0 in ./venv/lib/python3.12/site-packages (from rich>=10.11.0->typer<1.0.0,>=0.3.0->spacy<3.8.0,>=3.7.2->en-core-web-sm==3.7.1) (2.18.0)\n",
      "Requirement already satisfied: wrapt in ./venv/lib/python3.12/site-packages (from smart-open<8.0.0,>=5.2.1->weasel<0.5.0,>=0.1.0->spacy<3.8.0,>=3.7.2->en-core-web-sm==3.7.1) (1.16.0)\n",
      "Requirement already satisfied: mdurl~=0.1 in ./venv/lib/python3.12/site-packages (from markdown-it-py>=2.2.0->rich>=10.11.0->typer<1.0.0,>=0.3.0->spacy<3.8.0,>=3.7.2->en-core-web-sm==3.7.1) (0.1.2)\n",
      "\u001b[38;5;2m✔ Download and installation successful\u001b[0m\n",
      "You can now load the package via spacy.load('en_core_web_sm')\n"
     ]
    }
   ],
   "source": [
    "!python -m spacy download en_core_web_sm"
   ]
  },
  {
   "cell_type": "code",
   "execution_count": 47,
   "metadata": {
    "id": "5VE_qN_iok2S"
   },
   "outputs": [],
   "source": [
    "import spacy\n",
    "\n",
    "nlp = spacy.load(\"en_core_web_sm\")"
   ]
  },
  {
   "cell_type": "code",
   "execution_count": 48,
   "metadata": {
    "id": "lsljWe5Hp_xk"
   },
   "outputs": [],
   "source": [
    "def pos_tagging(text):\n",
    "    doc = nlp(text)\n",
    "    return [(token.text, token.pos_) for token in doc]"
   ]
  },
  {
   "cell_type": "code",
   "execution_count": 49,
   "metadata": {
    "id": "FTS21OlUqkYN"
   },
   "outputs": [],
   "source": [
    "pos_tagged_description = []\n",
    "pos_tagged_full_description = []"
   ]
  },
  {
   "cell_type": "code",
   "execution_count": 50,
   "metadata": {
    "id": "u7_ICwW_svMc"
   },
   "outputs": [],
   "source": [
    "for word in stemmed_filtred_description:\n",
    "    if word:\n",
    "      pos_tagged_description.append(pos_tagging(word))\n",
    "\n",
    "for word in stemmed_filtred_full_description:\n",
    "    if word:\n",
    "      pos_tagged_full_description.append(pos_tagging(word))"
   ]
  },
  {
   "cell_type": "markdown",
   "metadata": {
    "id": "8bl6EQ-K5d34"
   },
   "source": [
    "## Classes gramaticais mais frequentes"
   ]
  },
  {
   "cell_type": "code",
   "execution_count": 51,
   "metadata": {
    "colab": {
     "base_uri": "https://localhost:8080/"
    },
    "id": "5lGPzIq1x9N9",
    "outputId": "3d809035-837c-43da-dfc0-aa83c7c51177"
   },
   "outputs": [
    {
     "name": "stdout",
     "output_type": "stream",
     "text": [
      "[('online', 'PROPN'), ('local', 'ADJ'), ('party', 'NOUN'), ('game', 'NOUN'), ('teamwork', 'NOUN'), ('betrayal', 'PROPN'), ('playersin', 'PROPN'), ('spac', 'PROPN')]\n"
     ]
    }
   ],
   "source": [
    "print(pos_tagged_description[0])"
   ]
  },
  {
   "cell_type": "code",
   "execution_count": 52,
   "metadata": {
    "id": "vje-PJCa3mNf"
   },
   "outputs": [],
   "source": [
    "description_pos_counter = {}\n",
    "\n",
    "for pos_tag in pos_tagged_description:\n",
    "    for word, tag in pos_tag:\n",
    "        if tag in description_pos_counter:\n",
    "            description_pos_counter[tag] += 1\n",
    "        else:\n",
    "            description_pos_counter[tag] = 1"
   ]
  },
  {
   "cell_type": "code",
   "execution_count": 53,
   "metadata": {
    "colab": {
     "base_uri": "https://localhost:8080/"
    },
    "id": "tdb_q-kp4L4K",
    "outputId": "ea6529b9-03d3-41bd-c89a-e7b10eaecc37"
   },
   "outputs": [
    {
     "name": "stdout",
     "output_type": "stream",
     "text": [
      "{'PROPN': 79586, 'ADJ': 147784, 'NOUN': 445168, 'VERB': 184975, 'SCONJ': 1253, 'ADV': 26024, 'PRON': 3728, 'X': 917, 'NUM': 7428, 'DET': 1864, 'AUX': 5982, 'ADP': 9999, 'CCONJ': 589, 'PUNCT': 154, 'INTJ': 953, 'SYM': 57, 'PART': 102}\n"
     ]
    }
   ],
   "source": [
    "print(description_pos_counter)"
   ]
  },
  {
   "cell_type": "code",
   "execution_count": 54,
   "metadata": {
    "colab": {
     "base_uri": "https://localhost:8080/"
    },
    "id": "_sW85C_Q4QuB",
    "outputId": "98df4dff-3f49-4d0f-ba1c-42a8ae15c424"
   },
   "outputs": [
    {
     "name": "stdout",
     "output_type": "stream",
     "text": [
      "NOUN\n",
      "VERB\n",
      "ADJ\n",
      "PROPN\n",
      "ADV\n",
      "ADP\n",
      "NUM\n",
      "AUX\n",
      "PRON\n",
      "DET\n"
     ]
    }
   ],
   "source": [
    "for tag in sorted(description_pos_counter, key=description_pos_counter.get, reverse=True)[:10]:\n",
    "    print(tag)"
   ]
  },
  {
   "cell_type": "code",
   "execution_count": 55,
   "metadata": {
    "id": "SCbIIYuP4r_W"
   },
   "outputs": [],
   "source": [
    "full_description_pos_counter = {}\n",
    "\n",
    "for pos_tag in pos_tagged_full_description:\n",
    "    for word, tag in pos_tag:\n",
    "        if tag in full_description_pos_counter:\n",
    "            full_description_pos_counter[tag] += 1\n",
    "        else:\n",
    "            full_description_pos_counter[tag] = 1"
   ]
  },
  {
   "cell_type": "code",
   "execution_count": 56,
   "metadata": {
    "colab": {
     "base_uri": "https://localhost:8080/"
    },
    "id": "qBTPvdTX5IfF",
    "outputId": "1f9ccade-296e-4330-a42e-047912779b73"
   },
   "outputs": [
    {
     "name": "stdout",
     "output_type": "stream",
     "text": [
      "{'NOUN': 3516866, 'ADV': 269686, 'ADP': 86858, 'ADJ': 1211275, 'VERB': 1492791, 'NUM': 65099, 'PROPN': 651877, 'PART': 884, 'AUX': 54767, 'PRON': 35179, 'SCONJ': 16860, 'X': 6227, 'INTJ': 10167, 'DET': 24045, 'CCONJ': 6345, 'PUNCT': 810, 'SYM': 1402}\n"
     ]
    }
   ],
   "source": [
    "print(full_description_pos_counter)"
   ]
  },
  {
   "cell_type": "code",
   "execution_count": 57,
   "metadata": {
    "colab": {
     "base_uri": "https://localhost:8080/"
    },
    "id": "68tr5teq5K3b",
    "outputId": "93103487-0f4c-4c3a-be23-4ea44666a689"
   },
   "outputs": [
    {
     "name": "stdout",
     "output_type": "stream",
     "text": [
      "NOUN\n",
      "VERB\n",
      "ADJ\n",
      "PROPN\n",
      "ADV\n",
      "ADP\n",
      "NUM\n",
      "AUX\n",
      "PRON\n",
      "DET\n"
     ]
    }
   ],
   "source": [
    "for tag in sorted(full_description_pos_counter, key=full_description_pos_counter.get, reverse=True)[:10]:\n",
    "    print(tag)"
   ]
  },
  {
   "cell_type": "markdown",
   "metadata": {
    "id": "nvPNLrID6Cry"
   },
   "source": [
    "## Utilizando CountVectorizer com similaridade do cosseno"
   ]
  },
  {
   "cell_type": "code",
   "execution_count": 58,
   "metadata": {
    "id": "lAZ3eG6S60v5"
   },
   "outputs": [],
   "source": [
    "from sklearn.feature_extraction.text import CountVectorizer\n",
    "from sklearn.metrics.pairwise import cosine_similarity\n",
    "import numpy as np"
   ]
  },
  {
   "cell_type": "code",
   "execution_count": 59,
   "metadata": {},
   "outputs": [],
   "source": [
    "import random\n",
    "\n",
    "small_filtred_description = random.sample(stemmed_filtred_description, len(stemmed_filtred_description) // 2)\n",
    "small_full_filtred_description = random.sample(stemmed_filtred_full_description, len(stemmed_filtred_full_description) // 2)"
   ]
  },
  {
   "cell_type": "code",
   "execution_count": 60,
   "metadata": {
    "id": "icKuNqKl61bh"
   },
   "outputs": [],
   "source": [
    "vectorizer = CountVectorizer()\n",
    "\n",
    "X = vectorizer.fit_transform(small_filtred_description)"
   ]
  },
  {
   "cell_type": "code",
   "execution_count": 64,
   "metadata": {},
   "outputs": [],
   "source": [
    "def cossine_closest_document(doc_index, matrix):\n",
    "    similarity_matrix = cosine_similarity(matrix)\n",
    "\n",
    "    similarities = similarity_matrix[doc_index]\n",
    "    \n",
    "    # Set the similarity with itself to a very low value (so it's not selected)\n",
    "    similarities[doc_index] = -1\n",
    "    \n",
    "    # Find the index of the most similar document\n",
    "    closest_doc_index = np.argmax(similarities)\n",
    "    \n",
    "    print(f\"Documento base: '{small_filtred_description[doc_index]}'\\n\")\n",
    "    print(\"Documento mais semelhante:\\n\")\n",
    "    print(f\"Documento {closest_doc_index}: '{small_filtred_description[closest_doc_index]}' com similaridade de {similarities[closest_doc_index]:.2f}\")"
   ]
  },
  {
   "cell_type": "markdown",
   "metadata": {},
   "source": [
    "#### Observando o primeiro documento certamente o número de vezes que a palavra \"way\" apareceu influenciou o resultado"
   ]
  },
  {
   "cell_type": "code",
   "execution_count": 65,
   "metadata": {},
   "outputs": [
    {
     "name": "stdout",
     "output_type": "stream",
     "text": [
      "Documento base: 'lie blackmail steal way low road rookie agent noomi kovacs must navigate way world corporate espionage dark spy comedy set'\n",
      "\n",
      "Documento mais semelhante:\n",
      "\n",
      "Documento 19165: 'tomato way way' com similaridade de 0.38\n"
     ]
    }
   ],
   "source": [
    "cossine_closest_document(0, X)"
   ]
  },
  {
   "cell_type": "markdown",
   "metadata": {},
   "source": [
    "#### O segundo documento provavelmente utilizou as palavras \"world\", \"gold\" e \"game\" para encontrar a similaridade"
   ]
  },
  {
   "cell_type": "code",
   "execution_count": 72,
   "metadata": {},
   "outputs": [
    {
     "name": "stdout",
     "output_type": "stream",
     "text": [
      "Documento base: 'helps super game bears buy strongest gold version gbc game consoles history world full death traps prevent buying gold gbc buy regular gbc unique gbc gold edition dangerous human world life game b'\n",
      "\n",
      "Documento mais semelhante:\n",
      "\n",
      "Documento 11008: 'want collect gold world game trolley gold gives opportunity' com similaridade de 0.43\n"
     ]
    }
   ],
   "source": [
    "cossine_closest_document(678, X)"
   ]
  },
  {
   "cell_type": "markdown",
   "metadata": {},
   "source": [
    "#### O terceiro documento provavelmente utilizou as palavras: \"society\", \"strategy\" e \"nations\". Esse caso em específico mostra um bom resultado do algoritmo."
   ]
  },
  {
   "cell_type": "code",
   "execution_count": 73,
   "metadata": {},
   "outputs": [
    {
     "name": "stdout",
     "output_type": "stream",
     "text": [
      "Documento base: 'welcome illuminati high council develop strategy infiltrate nations subvert via bribery seduction intimidation discover wields influence induct organization reshape society fit agend'\n",
      "\n",
      "Documento mais semelhante:\n",
      "\n",
      "Documento 17502: 'grand strategy game leading secret society ruled humankind shadows centuries rewrite history pull strings fate spread influence across globe shaping nations future century present day' com similaridade de 0.17\n"
     ]
    }
   ],
   "source": [
    "cossine_closest_document(323, X)"
   ]
  },
  {
   "cell_type": "markdown",
   "metadata": {},
   "source": [
    "#### O quarto documento provavelmente utilizou as palavras: \"baseball\" e \"game\". Por isso temos uma similaridade alta"
   ]
  },
  {
   "cell_type": "code",
   "execution_count": 71,
   "metadata": {},
   "outputs": [
    {
     "name": "stdout",
     "output_type": "stream",
     "text": [
      "Documento base: 'endless baseball play baseball manage emotions tim'\n",
      "\n",
      "Documento mais semelhante:\n",
      "\n",
      "Documento 1013: 'experience feeling baseball slugger home baseball kings game experience baseball hitting play virtual reality applied realistic physical ball movement spinning' com similaridade de 0.44\n"
     ]
    }
   ],
   "source": [
    "cossine_closest_document(555, X)"
   ]
  },
  {
   "cell_type": "markdown",
   "metadata": {},
   "source": [
    "#### O quinto documento provavelmente tem como palavras predominantes \"vr\" e \"classic\". Visto que não existem muitos jogos vr é de se esperar uma similaridade relativamente alta."
   ]
  },
  {
   "cell_type": "code",
   "execution_count": 82,
   "metadata": {},
   "outputs": [
    {
     "name": "stdout",
     "output_type": "stream",
     "text": [
      "Documento base: 'rockabowling vr bowling game set classic rockabilly theme enjoy immersive visuals solid gameplay ears filled classic sounds rock'\n",
      "\n",
      "Documento mais semelhante:\n",
      "\n",
      "Documento 1362: 'classic strategy game comes vr challenge mind kinda like game currently features classic game modes well sandbox option' com similaridade de 0.35\n"
     ]
    }
   ],
   "source": [
    "cossine_closest_document(789, X)"
   ]
  },
  {
   "cell_type": "markdown",
   "metadata": {},
   "source": [
    "## Utilizando TF-IDF com a similaridade do cosseno"
   ]
  },
  {
   "cell_type": "code",
   "execution_count": 74,
   "metadata": {},
   "outputs": [],
   "source": [
    "from sklearn.feature_extraction.text import TfidfVectorizer\n",
    "from sklearn.metrics.pairwise import cosine_similarity"
   ]
  },
  {
   "cell_type": "code",
   "execution_count": 75,
   "metadata": {},
   "outputs": [],
   "source": [
    "vectorizer = TfidfVectorizer()\n",
    "tfidf_matrix = vectorizer.fit_transform(small_filtred_description)"
   ]
  },
  {
   "cell_type": "markdown",
   "metadata": {},
   "source": [
    "#### Nesse primeiro caso podemos ver uma grande diferenca entre o TF-IDF e o CountVectorizer visto que as palavras com mais peso aqui provavelmente são \"spy\" e \"agent\" (antes a palavra utilizada provavelmente foi \"way\"). Resultando em jogos muito mais parecidos."
   ]
  },
  {
   "cell_type": "code",
   "execution_count": 76,
   "metadata": {},
   "outputs": [
    {
     "name": "stdout",
     "output_type": "stream",
     "text": [
      "Documento base: 'lie blackmail steal way low road rookie agent noomi kovacs must navigate way world corporate espionage dark spy comedy set'\n",
      "\n",
      "Documento mais semelhante:\n",
      "\n",
      "Documento 5323: 'dash evade smash way truth corporate spy asaru reckless cia agent amelia uncover dark secrets negabot mega corporation save company hostile takeover assault spy stylish fast paced game dash comedy' com similaridade de 0.23\n"
     ]
    }
   ],
   "source": [
    "cossine_closest_document(0, tfidf_matrix)"
   ]
  },
  {
   "cell_type": "markdown",
   "metadata": {},
   "source": [
    "#### Nesse caso ambos algoritmos provavelmente colocaram pesos similares nas mesmas palavras e gerando o mesmo resultado"
   ]
  },
  {
   "cell_type": "code",
   "execution_count": 83,
   "metadata": {},
   "outputs": [
    {
     "name": "stdout",
     "output_type": "stream",
     "text": [
      "Documento base: 'helps super game bears buy strongest gold version gbc game consoles history world full death traps prevent buying gold gbc buy regular gbc unique gbc gold edition dangerous human world life game b'\n",
      "\n",
      "Documento mais semelhante:\n",
      "\n",
      "Documento 11008: 'want collect gold world game trolley gold gives opportunity' com similaridade de 0.23\n"
     ]
    }
   ],
   "source": [
    "cossine_closest_document(678, tfidf_matrix)"
   ]
  },
  {
   "cell_type": "markdown",
   "metadata": {},
   "source": [
    "#### Nesse caso as prováveis palavras que foram usadas para decidir são: \"strategy e \"influence\"|"
   ]
  },
  {
   "cell_type": "code",
   "execution_count": 84,
   "metadata": {
    "scrolled": true
   },
   "outputs": [
    {
     "name": "stdout",
     "output_type": "stream",
     "text": [
      "Documento base: 'welcome illuminati high council develop strategy infiltrate nations subvert via bribery seduction intimidation discover wields influence induct organization reshape society fit agend'\n",
      "\n",
      "Documento mais semelhante:\n",
      "\n",
      "Documento 9167: 'agenda strategy simulation game control independent agency set goal world domination try claim global influence power allies covert operations assassinations bribery fraud' com similaridade de 0.14\n"
     ]
    }
   ],
   "source": [
    "cossine_closest_document(323, tfidf_matrix)"
   ]
  },
  {
   "cell_type": "markdown",
   "metadata": {},
   "source": [
    "#### O número de vezes que a palavra \"baseball\" apareceu, junto com o fato de que não existem muitos jogos de bases justificam a alta similaridade"
   ]
  },
  {
   "cell_type": "code",
   "execution_count": 85,
   "metadata": {},
   "outputs": [
    {
     "name": "stdout",
     "output_type": "stream",
     "text": [
      "Documento base: 'endless baseball play baseball manage emotions tim'\n",
      "\n",
      "Documento mais semelhante:\n",
      "\n",
      "Documento 1013: 'experience feeling baseball slugger home baseball kings game experience baseball hitting play virtual reality applied realistic physical ball movement spinning' com similaridade de 0.52\n"
     ]
    }
   ],
   "source": [
    "cossine_closest_document(555, tfidf_matrix)"
   ]
  },
  {
   "cell_type": "markdown",
   "metadata": {},
   "source": [
    "#### \"bowling\"e \"vr\" justificam a escolha visto que não existem muitos jogos de boliche e muitos jogos vr"
   ]
  },
  {
   "cell_type": "code",
   "execution_count": 86,
   "metadata": {},
   "outputs": [
    {
     "name": "stdout",
     "output_type": "stream",
     "text": [
      "Documento base: 'rockabowling vr bowling game set classic rockabilly theme enjoy immersive visuals solid gameplay ears filled classic sounds rock'\n",
      "\n",
      "Documento mais semelhante:\n",
      "\n",
      "Documento 22740: 'pinheads bowling vr fun new way play classic game bowling animated pins sideline attractions create altogether unique bowling experienc' com similaridade de 0.26\n"
     ]
    }
   ],
   "source": [
    "cossine_closest_document(789, tfidf_matrix)"
   ]
  }
 ],
 "metadata": {
  "colab": {
   "provenance": []
  },
  "kernelspec": {
   "display_name": "Python 3 (ipykernel)",
   "language": "python",
   "name": "python3"
  },
  "language_info": {
   "codemirror_mode": {
    "name": "ipython",
    "version": 3
   },
   "file_extension": ".py",
   "mimetype": "text/x-python",
   "name": "python",
   "nbconvert_exporter": "python",
   "pygments_lexer": "ipython3",
   "version": "3.12.4"
  }
 },
 "nbformat": 4,
 "nbformat_minor": 4
}
